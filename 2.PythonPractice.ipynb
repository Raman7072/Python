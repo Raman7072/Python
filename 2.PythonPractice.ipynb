{
 "cells": [
  {
   "cell_type": "markdown",
   "metadata": {},
   "source": [
    "### Post your Doubts in Chat Session "
   ]
  },
  {
   "cell_type": "code",
   "execution_count": 1,
   "metadata": {},
   "outputs": [],
   "source": [
    "import itertools"
   ]
  },
  {
   "cell_type": "code",
   "execution_count": 2,
   "metadata": {},
   "outputs": [
    {
     "name": "stdout",
     "output_type": "stream",
     "text": [
      "['__doc__', '__loader__', '__name__', '__package__', '__spec__', '_grouper', '_tee', '_tee_dataobject', 'accumulate', 'chain', 'combinations', 'combinations_with_replacement', 'compress', 'count', 'cycle', 'dropwhile', 'filterfalse', 'groupby', 'islice', 'permutations', 'product', 'repeat', 'starmap', 'takewhile', 'tee', 'zip_longest']\n"
     ]
    }
   ],
   "source": [
    "print(dir(itertools))"
   ]
  },
  {
   "cell_type": "code",
   "execution_count": 3,
   "metadata": {},
   "outputs": [],
   "source": [
    "seq = [ 'ram', 'shyam', 'ghyanshyam', 'hari', 'mohan', 'geeta', 'seeta', 'neeta']"
   ]
  },
  {
   "cell_type": "markdown",
   "metadata": {},
   "source": [
    "$$ cobs = \\frac {n!} {k!(n-k)!}$$"
   ]
  },
  {
   "cell_type": "code",
   "execution_count": 8,
   "metadata": {},
   "outputs": [],
   "source": [
    "p = itertools.permutations(seq, 4)"
   ]
  },
  {
   "cell_type": "code",
   "execution_count": 9,
   "metadata": {},
   "outputs": [],
   "source": [
    "lst = list(p)"
   ]
  },
  {
   "cell_type": "code",
   "execution_count": 10,
   "metadata": {},
   "outputs": [
    {
     "data": {
      "text/plain": [
       "[('ram', 'shyam', 'ghyanshyam', 'hari'),\n",
       " ('ram', 'shyam', 'ghyanshyam', 'mohan'),\n",
       " ('ram', 'shyam', 'ghyanshyam', 'geeta'),\n",
       " ('ram', 'shyam', 'ghyanshyam', 'seeta'),\n",
       " ('ram', 'shyam', 'ghyanshyam', 'neeta'),\n",
       " ('ram', 'shyam', 'hari', 'ghyanshyam'),\n",
       " ('ram', 'shyam', 'hari', 'mohan'),\n",
       " ('ram', 'shyam', 'hari', 'geeta'),\n",
       " ('ram', 'shyam', 'hari', 'seeta'),\n",
       " ('ram', 'shyam', 'hari', 'neeta'),\n",
       " ('ram', 'shyam', 'mohan', 'ghyanshyam'),\n",
       " ('ram', 'shyam', 'mohan', 'hari'),\n",
       " ('ram', 'shyam', 'mohan', 'geeta'),\n",
       " ('ram', 'shyam', 'mohan', 'seeta'),\n",
       " ('ram', 'shyam', 'mohan', 'neeta'),\n",
       " ('ram', 'shyam', 'geeta', 'ghyanshyam'),\n",
       " ('ram', 'shyam', 'geeta', 'hari'),\n",
       " ('ram', 'shyam', 'geeta', 'mohan'),\n",
       " ('ram', 'shyam', 'geeta', 'seeta'),\n",
       " ('ram', 'shyam', 'geeta', 'neeta'),\n",
       " ('ram', 'shyam', 'seeta', 'ghyanshyam'),\n",
       " ('ram', 'shyam', 'seeta', 'hari'),\n",
       " ('ram', 'shyam', 'seeta', 'mohan'),\n",
       " ('ram', 'shyam', 'seeta', 'geeta'),\n",
       " ('ram', 'shyam', 'seeta', 'neeta'),\n",
       " ('ram', 'shyam', 'neeta', 'ghyanshyam'),\n",
       " ('ram', 'shyam', 'neeta', 'hari'),\n",
       " ('ram', 'shyam', 'neeta', 'mohan'),\n",
       " ('ram', 'shyam', 'neeta', 'geeta'),\n",
       " ('ram', 'shyam', 'neeta', 'seeta'),\n",
       " ('ram', 'ghyanshyam', 'shyam', 'hari'),\n",
       " ('ram', 'ghyanshyam', 'shyam', 'mohan'),\n",
       " ('ram', 'ghyanshyam', 'shyam', 'geeta'),\n",
       " ('ram', 'ghyanshyam', 'shyam', 'seeta'),\n",
       " ('ram', 'ghyanshyam', 'shyam', 'neeta'),\n",
       " ('ram', 'ghyanshyam', 'hari', 'shyam'),\n",
       " ('ram', 'ghyanshyam', 'hari', 'mohan'),\n",
       " ('ram', 'ghyanshyam', 'hari', 'geeta'),\n",
       " ('ram', 'ghyanshyam', 'hari', 'seeta'),\n",
       " ('ram', 'ghyanshyam', 'hari', 'neeta'),\n",
       " ('ram', 'ghyanshyam', 'mohan', 'shyam'),\n",
       " ('ram', 'ghyanshyam', 'mohan', 'hari'),\n",
       " ('ram', 'ghyanshyam', 'mohan', 'geeta'),\n",
       " ('ram', 'ghyanshyam', 'mohan', 'seeta'),\n",
       " ('ram', 'ghyanshyam', 'mohan', 'neeta'),\n",
       " ('ram', 'ghyanshyam', 'geeta', 'shyam'),\n",
       " ('ram', 'ghyanshyam', 'geeta', 'hari'),\n",
       " ('ram', 'ghyanshyam', 'geeta', 'mohan'),\n",
       " ('ram', 'ghyanshyam', 'geeta', 'seeta'),\n",
       " ('ram', 'ghyanshyam', 'geeta', 'neeta'),\n",
       " ('ram', 'ghyanshyam', 'seeta', 'shyam'),\n",
       " ('ram', 'ghyanshyam', 'seeta', 'hari'),\n",
       " ('ram', 'ghyanshyam', 'seeta', 'mohan'),\n",
       " ('ram', 'ghyanshyam', 'seeta', 'geeta'),\n",
       " ('ram', 'ghyanshyam', 'seeta', 'neeta'),\n",
       " ('ram', 'ghyanshyam', 'neeta', 'shyam'),\n",
       " ('ram', 'ghyanshyam', 'neeta', 'hari'),\n",
       " ('ram', 'ghyanshyam', 'neeta', 'mohan'),\n",
       " ('ram', 'ghyanshyam', 'neeta', 'geeta'),\n",
       " ('ram', 'ghyanshyam', 'neeta', 'seeta'),\n",
       " ('ram', 'hari', 'shyam', 'ghyanshyam'),\n",
       " ('ram', 'hari', 'shyam', 'mohan'),\n",
       " ('ram', 'hari', 'shyam', 'geeta'),\n",
       " ('ram', 'hari', 'shyam', 'seeta'),\n",
       " ('ram', 'hari', 'shyam', 'neeta'),\n",
       " ('ram', 'hari', 'ghyanshyam', 'shyam'),\n",
       " ('ram', 'hari', 'ghyanshyam', 'mohan'),\n",
       " ('ram', 'hari', 'ghyanshyam', 'geeta'),\n",
       " ('ram', 'hari', 'ghyanshyam', 'seeta'),\n",
       " ('ram', 'hari', 'ghyanshyam', 'neeta'),\n",
       " ('ram', 'hari', 'mohan', 'shyam'),\n",
       " ('ram', 'hari', 'mohan', 'ghyanshyam'),\n",
       " ('ram', 'hari', 'mohan', 'geeta'),\n",
       " ('ram', 'hari', 'mohan', 'seeta'),\n",
       " ('ram', 'hari', 'mohan', 'neeta'),\n",
       " ('ram', 'hari', 'geeta', 'shyam'),\n",
       " ('ram', 'hari', 'geeta', 'ghyanshyam'),\n",
       " ('ram', 'hari', 'geeta', 'mohan'),\n",
       " ('ram', 'hari', 'geeta', 'seeta'),\n",
       " ('ram', 'hari', 'geeta', 'neeta'),\n",
       " ('ram', 'hari', 'seeta', 'shyam'),\n",
       " ('ram', 'hari', 'seeta', 'ghyanshyam'),\n",
       " ('ram', 'hari', 'seeta', 'mohan'),\n",
       " ('ram', 'hari', 'seeta', 'geeta'),\n",
       " ('ram', 'hari', 'seeta', 'neeta'),\n",
       " ('ram', 'hari', 'neeta', 'shyam'),\n",
       " ('ram', 'hari', 'neeta', 'ghyanshyam'),\n",
       " ('ram', 'hari', 'neeta', 'mohan'),\n",
       " ('ram', 'hari', 'neeta', 'geeta'),\n",
       " ('ram', 'hari', 'neeta', 'seeta'),\n",
       " ('ram', 'mohan', 'shyam', 'ghyanshyam'),\n",
       " ('ram', 'mohan', 'shyam', 'hari'),\n",
       " ('ram', 'mohan', 'shyam', 'geeta'),\n",
       " ('ram', 'mohan', 'shyam', 'seeta'),\n",
       " ('ram', 'mohan', 'shyam', 'neeta'),\n",
       " ('ram', 'mohan', 'ghyanshyam', 'shyam'),\n",
       " ('ram', 'mohan', 'ghyanshyam', 'hari'),\n",
       " ('ram', 'mohan', 'ghyanshyam', 'geeta'),\n",
       " ('ram', 'mohan', 'ghyanshyam', 'seeta'),\n",
       " ('ram', 'mohan', 'ghyanshyam', 'neeta'),\n",
       " ('ram', 'mohan', 'hari', 'shyam'),\n",
       " ('ram', 'mohan', 'hari', 'ghyanshyam'),\n",
       " ('ram', 'mohan', 'hari', 'geeta'),\n",
       " ('ram', 'mohan', 'hari', 'seeta'),\n",
       " ('ram', 'mohan', 'hari', 'neeta'),\n",
       " ('ram', 'mohan', 'geeta', 'shyam'),\n",
       " ('ram', 'mohan', 'geeta', 'ghyanshyam'),\n",
       " ('ram', 'mohan', 'geeta', 'hari'),\n",
       " ('ram', 'mohan', 'geeta', 'seeta'),\n",
       " ('ram', 'mohan', 'geeta', 'neeta'),\n",
       " ('ram', 'mohan', 'seeta', 'shyam'),\n",
       " ('ram', 'mohan', 'seeta', 'ghyanshyam'),\n",
       " ('ram', 'mohan', 'seeta', 'hari'),\n",
       " ('ram', 'mohan', 'seeta', 'geeta'),\n",
       " ('ram', 'mohan', 'seeta', 'neeta'),\n",
       " ('ram', 'mohan', 'neeta', 'shyam'),\n",
       " ('ram', 'mohan', 'neeta', 'ghyanshyam'),\n",
       " ('ram', 'mohan', 'neeta', 'hari'),\n",
       " ('ram', 'mohan', 'neeta', 'geeta'),\n",
       " ('ram', 'mohan', 'neeta', 'seeta'),\n",
       " ('ram', 'geeta', 'shyam', 'ghyanshyam'),\n",
       " ('ram', 'geeta', 'shyam', 'hari'),\n",
       " ('ram', 'geeta', 'shyam', 'mohan'),\n",
       " ('ram', 'geeta', 'shyam', 'seeta'),\n",
       " ('ram', 'geeta', 'shyam', 'neeta'),\n",
       " ('ram', 'geeta', 'ghyanshyam', 'shyam'),\n",
       " ('ram', 'geeta', 'ghyanshyam', 'hari'),\n",
       " ('ram', 'geeta', 'ghyanshyam', 'mohan'),\n",
       " ('ram', 'geeta', 'ghyanshyam', 'seeta'),\n",
       " ('ram', 'geeta', 'ghyanshyam', 'neeta'),\n",
       " ('ram', 'geeta', 'hari', 'shyam'),\n",
       " ('ram', 'geeta', 'hari', 'ghyanshyam'),\n",
       " ('ram', 'geeta', 'hari', 'mohan'),\n",
       " ('ram', 'geeta', 'hari', 'seeta'),\n",
       " ('ram', 'geeta', 'hari', 'neeta'),\n",
       " ('ram', 'geeta', 'mohan', 'shyam'),\n",
       " ('ram', 'geeta', 'mohan', 'ghyanshyam'),\n",
       " ('ram', 'geeta', 'mohan', 'hari'),\n",
       " ('ram', 'geeta', 'mohan', 'seeta'),\n",
       " ('ram', 'geeta', 'mohan', 'neeta'),\n",
       " ('ram', 'geeta', 'seeta', 'shyam'),\n",
       " ('ram', 'geeta', 'seeta', 'ghyanshyam'),\n",
       " ('ram', 'geeta', 'seeta', 'hari'),\n",
       " ('ram', 'geeta', 'seeta', 'mohan'),\n",
       " ('ram', 'geeta', 'seeta', 'neeta'),\n",
       " ('ram', 'geeta', 'neeta', 'shyam'),\n",
       " ('ram', 'geeta', 'neeta', 'ghyanshyam'),\n",
       " ('ram', 'geeta', 'neeta', 'hari'),\n",
       " ('ram', 'geeta', 'neeta', 'mohan'),\n",
       " ('ram', 'geeta', 'neeta', 'seeta'),\n",
       " ('ram', 'seeta', 'shyam', 'ghyanshyam'),\n",
       " ('ram', 'seeta', 'shyam', 'hari'),\n",
       " ('ram', 'seeta', 'shyam', 'mohan'),\n",
       " ('ram', 'seeta', 'shyam', 'geeta'),\n",
       " ('ram', 'seeta', 'shyam', 'neeta'),\n",
       " ('ram', 'seeta', 'ghyanshyam', 'shyam'),\n",
       " ('ram', 'seeta', 'ghyanshyam', 'hari'),\n",
       " ('ram', 'seeta', 'ghyanshyam', 'mohan'),\n",
       " ('ram', 'seeta', 'ghyanshyam', 'geeta'),\n",
       " ('ram', 'seeta', 'ghyanshyam', 'neeta'),\n",
       " ('ram', 'seeta', 'hari', 'shyam'),\n",
       " ('ram', 'seeta', 'hari', 'ghyanshyam'),\n",
       " ('ram', 'seeta', 'hari', 'mohan'),\n",
       " ('ram', 'seeta', 'hari', 'geeta'),\n",
       " ('ram', 'seeta', 'hari', 'neeta'),\n",
       " ('ram', 'seeta', 'mohan', 'shyam'),\n",
       " ('ram', 'seeta', 'mohan', 'ghyanshyam'),\n",
       " ('ram', 'seeta', 'mohan', 'hari'),\n",
       " ('ram', 'seeta', 'mohan', 'geeta'),\n",
       " ('ram', 'seeta', 'mohan', 'neeta'),\n",
       " ('ram', 'seeta', 'geeta', 'shyam'),\n",
       " ('ram', 'seeta', 'geeta', 'ghyanshyam'),\n",
       " ('ram', 'seeta', 'geeta', 'hari'),\n",
       " ('ram', 'seeta', 'geeta', 'mohan'),\n",
       " ('ram', 'seeta', 'geeta', 'neeta'),\n",
       " ('ram', 'seeta', 'neeta', 'shyam'),\n",
       " ('ram', 'seeta', 'neeta', 'ghyanshyam'),\n",
       " ('ram', 'seeta', 'neeta', 'hari'),\n",
       " ('ram', 'seeta', 'neeta', 'mohan'),\n",
       " ('ram', 'seeta', 'neeta', 'geeta'),\n",
       " ('ram', 'neeta', 'shyam', 'ghyanshyam'),\n",
       " ('ram', 'neeta', 'shyam', 'hari'),\n",
       " ('ram', 'neeta', 'shyam', 'mohan'),\n",
       " ('ram', 'neeta', 'shyam', 'geeta'),\n",
       " ('ram', 'neeta', 'shyam', 'seeta'),\n",
       " ('ram', 'neeta', 'ghyanshyam', 'shyam'),\n",
       " ('ram', 'neeta', 'ghyanshyam', 'hari'),\n",
       " ('ram', 'neeta', 'ghyanshyam', 'mohan'),\n",
       " ('ram', 'neeta', 'ghyanshyam', 'geeta'),\n",
       " ('ram', 'neeta', 'ghyanshyam', 'seeta'),\n",
       " ('ram', 'neeta', 'hari', 'shyam'),\n",
       " ('ram', 'neeta', 'hari', 'ghyanshyam'),\n",
       " ('ram', 'neeta', 'hari', 'mohan'),\n",
       " ('ram', 'neeta', 'hari', 'geeta'),\n",
       " ('ram', 'neeta', 'hari', 'seeta'),\n",
       " ('ram', 'neeta', 'mohan', 'shyam'),\n",
       " ('ram', 'neeta', 'mohan', 'ghyanshyam'),\n",
       " ('ram', 'neeta', 'mohan', 'hari'),\n",
       " ('ram', 'neeta', 'mohan', 'geeta'),\n",
       " ('ram', 'neeta', 'mohan', 'seeta'),\n",
       " ('ram', 'neeta', 'geeta', 'shyam'),\n",
       " ('ram', 'neeta', 'geeta', 'ghyanshyam'),\n",
       " ('ram', 'neeta', 'geeta', 'hari'),\n",
       " ('ram', 'neeta', 'geeta', 'mohan'),\n",
       " ('ram', 'neeta', 'geeta', 'seeta'),\n",
       " ('ram', 'neeta', 'seeta', 'shyam'),\n",
       " ('ram', 'neeta', 'seeta', 'ghyanshyam'),\n",
       " ('ram', 'neeta', 'seeta', 'hari'),\n",
       " ('ram', 'neeta', 'seeta', 'mohan'),\n",
       " ('ram', 'neeta', 'seeta', 'geeta'),\n",
       " ('shyam', 'ram', 'ghyanshyam', 'hari'),\n",
       " ('shyam', 'ram', 'ghyanshyam', 'mohan'),\n",
       " ('shyam', 'ram', 'ghyanshyam', 'geeta'),\n",
       " ('shyam', 'ram', 'ghyanshyam', 'seeta'),\n",
       " ('shyam', 'ram', 'ghyanshyam', 'neeta'),\n",
       " ('shyam', 'ram', 'hari', 'ghyanshyam'),\n",
       " ('shyam', 'ram', 'hari', 'mohan'),\n",
       " ('shyam', 'ram', 'hari', 'geeta'),\n",
       " ('shyam', 'ram', 'hari', 'seeta'),\n",
       " ('shyam', 'ram', 'hari', 'neeta'),\n",
       " ('shyam', 'ram', 'mohan', 'ghyanshyam'),\n",
       " ('shyam', 'ram', 'mohan', 'hari'),\n",
       " ('shyam', 'ram', 'mohan', 'geeta'),\n",
       " ('shyam', 'ram', 'mohan', 'seeta'),\n",
       " ('shyam', 'ram', 'mohan', 'neeta'),\n",
       " ('shyam', 'ram', 'geeta', 'ghyanshyam'),\n",
       " ('shyam', 'ram', 'geeta', 'hari'),\n",
       " ('shyam', 'ram', 'geeta', 'mohan'),\n",
       " ('shyam', 'ram', 'geeta', 'seeta'),\n",
       " ('shyam', 'ram', 'geeta', 'neeta'),\n",
       " ('shyam', 'ram', 'seeta', 'ghyanshyam'),\n",
       " ('shyam', 'ram', 'seeta', 'hari'),\n",
       " ('shyam', 'ram', 'seeta', 'mohan'),\n",
       " ('shyam', 'ram', 'seeta', 'geeta'),\n",
       " ('shyam', 'ram', 'seeta', 'neeta'),\n",
       " ('shyam', 'ram', 'neeta', 'ghyanshyam'),\n",
       " ('shyam', 'ram', 'neeta', 'hari'),\n",
       " ('shyam', 'ram', 'neeta', 'mohan'),\n",
       " ('shyam', 'ram', 'neeta', 'geeta'),\n",
       " ('shyam', 'ram', 'neeta', 'seeta'),\n",
       " ('shyam', 'ghyanshyam', 'ram', 'hari'),\n",
       " ('shyam', 'ghyanshyam', 'ram', 'mohan'),\n",
       " ('shyam', 'ghyanshyam', 'ram', 'geeta'),\n",
       " ('shyam', 'ghyanshyam', 'ram', 'seeta'),\n",
       " ('shyam', 'ghyanshyam', 'ram', 'neeta'),\n",
       " ('shyam', 'ghyanshyam', 'hari', 'ram'),\n",
       " ('shyam', 'ghyanshyam', 'hari', 'mohan'),\n",
       " ('shyam', 'ghyanshyam', 'hari', 'geeta'),\n",
       " ('shyam', 'ghyanshyam', 'hari', 'seeta'),\n",
       " ('shyam', 'ghyanshyam', 'hari', 'neeta'),\n",
       " ('shyam', 'ghyanshyam', 'mohan', 'ram'),\n",
       " ('shyam', 'ghyanshyam', 'mohan', 'hari'),\n",
       " ('shyam', 'ghyanshyam', 'mohan', 'geeta'),\n",
       " ('shyam', 'ghyanshyam', 'mohan', 'seeta'),\n",
       " ('shyam', 'ghyanshyam', 'mohan', 'neeta'),\n",
       " ('shyam', 'ghyanshyam', 'geeta', 'ram'),\n",
       " ('shyam', 'ghyanshyam', 'geeta', 'hari'),\n",
       " ('shyam', 'ghyanshyam', 'geeta', 'mohan'),\n",
       " ('shyam', 'ghyanshyam', 'geeta', 'seeta'),\n",
       " ('shyam', 'ghyanshyam', 'geeta', 'neeta'),\n",
       " ('shyam', 'ghyanshyam', 'seeta', 'ram'),\n",
       " ('shyam', 'ghyanshyam', 'seeta', 'hari'),\n",
       " ('shyam', 'ghyanshyam', 'seeta', 'mohan'),\n",
       " ('shyam', 'ghyanshyam', 'seeta', 'geeta'),\n",
       " ('shyam', 'ghyanshyam', 'seeta', 'neeta'),\n",
       " ('shyam', 'ghyanshyam', 'neeta', 'ram'),\n",
       " ('shyam', 'ghyanshyam', 'neeta', 'hari'),\n",
       " ('shyam', 'ghyanshyam', 'neeta', 'mohan'),\n",
       " ('shyam', 'ghyanshyam', 'neeta', 'geeta'),\n",
       " ('shyam', 'ghyanshyam', 'neeta', 'seeta'),\n",
       " ('shyam', 'hari', 'ram', 'ghyanshyam'),\n",
       " ('shyam', 'hari', 'ram', 'mohan'),\n",
       " ('shyam', 'hari', 'ram', 'geeta'),\n",
       " ('shyam', 'hari', 'ram', 'seeta'),\n",
       " ('shyam', 'hari', 'ram', 'neeta'),\n",
       " ('shyam', 'hari', 'ghyanshyam', 'ram'),\n",
       " ('shyam', 'hari', 'ghyanshyam', 'mohan'),\n",
       " ('shyam', 'hari', 'ghyanshyam', 'geeta'),\n",
       " ('shyam', 'hari', 'ghyanshyam', 'seeta'),\n",
       " ('shyam', 'hari', 'ghyanshyam', 'neeta'),\n",
       " ('shyam', 'hari', 'mohan', 'ram'),\n",
       " ('shyam', 'hari', 'mohan', 'ghyanshyam'),\n",
       " ('shyam', 'hari', 'mohan', 'geeta'),\n",
       " ('shyam', 'hari', 'mohan', 'seeta'),\n",
       " ('shyam', 'hari', 'mohan', 'neeta'),\n",
       " ('shyam', 'hari', 'geeta', 'ram'),\n",
       " ('shyam', 'hari', 'geeta', 'ghyanshyam'),\n",
       " ('shyam', 'hari', 'geeta', 'mohan'),\n",
       " ('shyam', 'hari', 'geeta', 'seeta'),\n",
       " ('shyam', 'hari', 'geeta', 'neeta'),\n",
       " ('shyam', 'hari', 'seeta', 'ram'),\n",
       " ('shyam', 'hari', 'seeta', 'ghyanshyam'),\n",
       " ('shyam', 'hari', 'seeta', 'mohan'),\n",
       " ('shyam', 'hari', 'seeta', 'geeta'),\n",
       " ('shyam', 'hari', 'seeta', 'neeta'),\n",
       " ('shyam', 'hari', 'neeta', 'ram'),\n",
       " ('shyam', 'hari', 'neeta', 'ghyanshyam'),\n",
       " ('shyam', 'hari', 'neeta', 'mohan'),\n",
       " ('shyam', 'hari', 'neeta', 'geeta'),\n",
       " ('shyam', 'hari', 'neeta', 'seeta'),\n",
       " ('shyam', 'mohan', 'ram', 'ghyanshyam'),\n",
       " ('shyam', 'mohan', 'ram', 'hari'),\n",
       " ('shyam', 'mohan', 'ram', 'geeta'),\n",
       " ('shyam', 'mohan', 'ram', 'seeta'),\n",
       " ('shyam', 'mohan', 'ram', 'neeta'),\n",
       " ('shyam', 'mohan', 'ghyanshyam', 'ram'),\n",
       " ('shyam', 'mohan', 'ghyanshyam', 'hari'),\n",
       " ('shyam', 'mohan', 'ghyanshyam', 'geeta'),\n",
       " ('shyam', 'mohan', 'ghyanshyam', 'seeta'),\n",
       " ('shyam', 'mohan', 'ghyanshyam', 'neeta'),\n",
       " ('shyam', 'mohan', 'hari', 'ram'),\n",
       " ('shyam', 'mohan', 'hari', 'ghyanshyam'),\n",
       " ('shyam', 'mohan', 'hari', 'geeta'),\n",
       " ('shyam', 'mohan', 'hari', 'seeta'),\n",
       " ('shyam', 'mohan', 'hari', 'neeta'),\n",
       " ('shyam', 'mohan', 'geeta', 'ram'),\n",
       " ('shyam', 'mohan', 'geeta', 'ghyanshyam'),\n",
       " ('shyam', 'mohan', 'geeta', 'hari'),\n",
       " ('shyam', 'mohan', 'geeta', 'seeta'),\n",
       " ('shyam', 'mohan', 'geeta', 'neeta'),\n",
       " ('shyam', 'mohan', 'seeta', 'ram'),\n",
       " ('shyam', 'mohan', 'seeta', 'ghyanshyam'),\n",
       " ('shyam', 'mohan', 'seeta', 'hari'),\n",
       " ('shyam', 'mohan', 'seeta', 'geeta'),\n",
       " ('shyam', 'mohan', 'seeta', 'neeta'),\n",
       " ('shyam', 'mohan', 'neeta', 'ram'),\n",
       " ('shyam', 'mohan', 'neeta', 'ghyanshyam'),\n",
       " ('shyam', 'mohan', 'neeta', 'hari'),\n",
       " ('shyam', 'mohan', 'neeta', 'geeta'),\n",
       " ('shyam', 'mohan', 'neeta', 'seeta'),\n",
       " ('shyam', 'geeta', 'ram', 'ghyanshyam'),\n",
       " ('shyam', 'geeta', 'ram', 'hari'),\n",
       " ('shyam', 'geeta', 'ram', 'mohan'),\n",
       " ('shyam', 'geeta', 'ram', 'seeta'),\n",
       " ('shyam', 'geeta', 'ram', 'neeta'),\n",
       " ('shyam', 'geeta', 'ghyanshyam', 'ram'),\n",
       " ('shyam', 'geeta', 'ghyanshyam', 'hari'),\n",
       " ('shyam', 'geeta', 'ghyanshyam', 'mohan'),\n",
       " ('shyam', 'geeta', 'ghyanshyam', 'seeta'),\n",
       " ('shyam', 'geeta', 'ghyanshyam', 'neeta'),\n",
       " ('shyam', 'geeta', 'hari', 'ram'),\n",
       " ('shyam', 'geeta', 'hari', 'ghyanshyam'),\n",
       " ('shyam', 'geeta', 'hari', 'mohan'),\n",
       " ('shyam', 'geeta', 'hari', 'seeta'),\n",
       " ('shyam', 'geeta', 'hari', 'neeta'),\n",
       " ('shyam', 'geeta', 'mohan', 'ram'),\n",
       " ('shyam', 'geeta', 'mohan', 'ghyanshyam'),\n",
       " ('shyam', 'geeta', 'mohan', 'hari'),\n",
       " ('shyam', 'geeta', 'mohan', 'seeta'),\n",
       " ('shyam', 'geeta', 'mohan', 'neeta'),\n",
       " ('shyam', 'geeta', 'seeta', 'ram'),\n",
       " ('shyam', 'geeta', 'seeta', 'ghyanshyam'),\n",
       " ('shyam', 'geeta', 'seeta', 'hari'),\n",
       " ('shyam', 'geeta', 'seeta', 'mohan'),\n",
       " ('shyam', 'geeta', 'seeta', 'neeta'),\n",
       " ('shyam', 'geeta', 'neeta', 'ram'),\n",
       " ('shyam', 'geeta', 'neeta', 'ghyanshyam'),\n",
       " ('shyam', 'geeta', 'neeta', 'hari'),\n",
       " ('shyam', 'geeta', 'neeta', 'mohan'),\n",
       " ('shyam', 'geeta', 'neeta', 'seeta'),\n",
       " ('shyam', 'seeta', 'ram', 'ghyanshyam'),\n",
       " ('shyam', 'seeta', 'ram', 'hari'),\n",
       " ('shyam', 'seeta', 'ram', 'mohan'),\n",
       " ('shyam', 'seeta', 'ram', 'geeta'),\n",
       " ('shyam', 'seeta', 'ram', 'neeta'),\n",
       " ('shyam', 'seeta', 'ghyanshyam', 'ram'),\n",
       " ('shyam', 'seeta', 'ghyanshyam', 'hari'),\n",
       " ('shyam', 'seeta', 'ghyanshyam', 'mohan'),\n",
       " ('shyam', 'seeta', 'ghyanshyam', 'geeta'),\n",
       " ('shyam', 'seeta', 'ghyanshyam', 'neeta'),\n",
       " ('shyam', 'seeta', 'hari', 'ram'),\n",
       " ('shyam', 'seeta', 'hari', 'ghyanshyam'),\n",
       " ('shyam', 'seeta', 'hari', 'mohan'),\n",
       " ('shyam', 'seeta', 'hari', 'geeta'),\n",
       " ('shyam', 'seeta', 'hari', 'neeta'),\n",
       " ('shyam', 'seeta', 'mohan', 'ram'),\n",
       " ('shyam', 'seeta', 'mohan', 'ghyanshyam'),\n",
       " ('shyam', 'seeta', 'mohan', 'hari'),\n",
       " ('shyam', 'seeta', 'mohan', 'geeta'),\n",
       " ('shyam', 'seeta', 'mohan', 'neeta'),\n",
       " ('shyam', 'seeta', 'geeta', 'ram'),\n",
       " ('shyam', 'seeta', 'geeta', 'ghyanshyam'),\n",
       " ('shyam', 'seeta', 'geeta', 'hari'),\n",
       " ('shyam', 'seeta', 'geeta', 'mohan'),\n",
       " ('shyam', 'seeta', 'geeta', 'neeta'),\n",
       " ('shyam', 'seeta', 'neeta', 'ram'),\n",
       " ('shyam', 'seeta', 'neeta', 'ghyanshyam'),\n",
       " ('shyam', 'seeta', 'neeta', 'hari'),\n",
       " ('shyam', 'seeta', 'neeta', 'mohan'),\n",
       " ('shyam', 'seeta', 'neeta', 'geeta'),\n",
       " ('shyam', 'neeta', 'ram', 'ghyanshyam'),\n",
       " ('shyam', 'neeta', 'ram', 'hari'),\n",
       " ('shyam', 'neeta', 'ram', 'mohan'),\n",
       " ('shyam', 'neeta', 'ram', 'geeta'),\n",
       " ('shyam', 'neeta', 'ram', 'seeta'),\n",
       " ('shyam', 'neeta', 'ghyanshyam', 'ram'),\n",
       " ('shyam', 'neeta', 'ghyanshyam', 'hari'),\n",
       " ('shyam', 'neeta', 'ghyanshyam', 'mohan'),\n",
       " ('shyam', 'neeta', 'ghyanshyam', 'geeta'),\n",
       " ('shyam', 'neeta', 'ghyanshyam', 'seeta'),\n",
       " ('shyam', 'neeta', 'hari', 'ram'),\n",
       " ('shyam', 'neeta', 'hari', 'ghyanshyam'),\n",
       " ('shyam', 'neeta', 'hari', 'mohan'),\n",
       " ('shyam', 'neeta', 'hari', 'geeta'),\n",
       " ('shyam', 'neeta', 'hari', 'seeta'),\n",
       " ('shyam', 'neeta', 'mohan', 'ram'),\n",
       " ('shyam', 'neeta', 'mohan', 'ghyanshyam'),\n",
       " ('shyam', 'neeta', 'mohan', 'hari'),\n",
       " ('shyam', 'neeta', 'mohan', 'geeta'),\n",
       " ('shyam', 'neeta', 'mohan', 'seeta'),\n",
       " ('shyam', 'neeta', 'geeta', 'ram'),\n",
       " ('shyam', 'neeta', 'geeta', 'ghyanshyam'),\n",
       " ('shyam', 'neeta', 'geeta', 'hari'),\n",
       " ('shyam', 'neeta', 'geeta', 'mohan'),\n",
       " ('shyam', 'neeta', 'geeta', 'seeta'),\n",
       " ('shyam', 'neeta', 'seeta', 'ram'),\n",
       " ('shyam', 'neeta', 'seeta', 'ghyanshyam'),\n",
       " ('shyam', 'neeta', 'seeta', 'hari'),\n",
       " ('shyam', 'neeta', 'seeta', 'mohan'),\n",
       " ('shyam', 'neeta', 'seeta', 'geeta'),\n",
       " ('ghyanshyam', 'ram', 'shyam', 'hari'),\n",
       " ('ghyanshyam', 'ram', 'shyam', 'mohan'),\n",
       " ('ghyanshyam', 'ram', 'shyam', 'geeta'),\n",
       " ('ghyanshyam', 'ram', 'shyam', 'seeta'),\n",
       " ('ghyanshyam', 'ram', 'shyam', 'neeta'),\n",
       " ('ghyanshyam', 'ram', 'hari', 'shyam'),\n",
       " ('ghyanshyam', 'ram', 'hari', 'mohan'),\n",
       " ('ghyanshyam', 'ram', 'hari', 'geeta'),\n",
       " ('ghyanshyam', 'ram', 'hari', 'seeta'),\n",
       " ('ghyanshyam', 'ram', 'hari', 'neeta'),\n",
       " ('ghyanshyam', 'ram', 'mohan', 'shyam'),\n",
       " ('ghyanshyam', 'ram', 'mohan', 'hari'),\n",
       " ('ghyanshyam', 'ram', 'mohan', 'geeta'),\n",
       " ('ghyanshyam', 'ram', 'mohan', 'seeta'),\n",
       " ('ghyanshyam', 'ram', 'mohan', 'neeta'),\n",
       " ('ghyanshyam', 'ram', 'geeta', 'shyam'),\n",
       " ('ghyanshyam', 'ram', 'geeta', 'hari'),\n",
       " ('ghyanshyam', 'ram', 'geeta', 'mohan'),\n",
       " ('ghyanshyam', 'ram', 'geeta', 'seeta'),\n",
       " ('ghyanshyam', 'ram', 'geeta', 'neeta'),\n",
       " ('ghyanshyam', 'ram', 'seeta', 'shyam'),\n",
       " ('ghyanshyam', 'ram', 'seeta', 'hari'),\n",
       " ('ghyanshyam', 'ram', 'seeta', 'mohan'),\n",
       " ('ghyanshyam', 'ram', 'seeta', 'geeta'),\n",
       " ('ghyanshyam', 'ram', 'seeta', 'neeta'),\n",
       " ('ghyanshyam', 'ram', 'neeta', 'shyam'),\n",
       " ('ghyanshyam', 'ram', 'neeta', 'hari'),\n",
       " ('ghyanshyam', 'ram', 'neeta', 'mohan'),\n",
       " ('ghyanshyam', 'ram', 'neeta', 'geeta'),\n",
       " ('ghyanshyam', 'ram', 'neeta', 'seeta'),\n",
       " ('ghyanshyam', 'shyam', 'ram', 'hari'),\n",
       " ('ghyanshyam', 'shyam', 'ram', 'mohan'),\n",
       " ('ghyanshyam', 'shyam', 'ram', 'geeta'),\n",
       " ('ghyanshyam', 'shyam', 'ram', 'seeta'),\n",
       " ('ghyanshyam', 'shyam', 'ram', 'neeta'),\n",
       " ('ghyanshyam', 'shyam', 'hari', 'ram'),\n",
       " ('ghyanshyam', 'shyam', 'hari', 'mohan'),\n",
       " ('ghyanshyam', 'shyam', 'hari', 'geeta'),\n",
       " ('ghyanshyam', 'shyam', 'hari', 'seeta'),\n",
       " ('ghyanshyam', 'shyam', 'hari', 'neeta'),\n",
       " ('ghyanshyam', 'shyam', 'mohan', 'ram'),\n",
       " ('ghyanshyam', 'shyam', 'mohan', 'hari'),\n",
       " ('ghyanshyam', 'shyam', 'mohan', 'geeta'),\n",
       " ('ghyanshyam', 'shyam', 'mohan', 'seeta'),\n",
       " ('ghyanshyam', 'shyam', 'mohan', 'neeta'),\n",
       " ('ghyanshyam', 'shyam', 'geeta', 'ram'),\n",
       " ('ghyanshyam', 'shyam', 'geeta', 'hari'),\n",
       " ('ghyanshyam', 'shyam', 'geeta', 'mohan'),\n",
       " ('ghyanshyam', 'shyam', 'geeta', 'seeta'),\n",
       " ('ghyanshyam', 'shyam', 'geeta', 'neeta'),\n",
       " ('ghyanshyam', 'shyam', 'seeta', 'ram'),\n",
       " ('ghyanshyam', 'shyam', 'seeta', 'hari'),\n",
       " ('ghyanshyam', 'shyam', 'seeta', 'mohan'),\n",
       " ('ghyanshyam', 'shyam', 'seeta', 'geeta'),\n",
       " ('ghyanshyam', 'shyam', 'seeta', 'neeta'),\n",
       " ('ghyanshyam', 'shyam', 'neeta', 'ram'),\n",
       " ('ghyanshyam', 'shyam', 'neeta', 'hari'),\n",
       " ('ghyanshyam', 'shyam', 'neeta', 'mohan'),\n",
       " ('ghyanshyam', 'shyam', 'neeta', 'geeta'),\n",
       " ('ghyanshyam', 'shyam', 'neeta', 'seeta'),\n",
       " ('ghyanshyam', 'hari', 'ram', 'shyam'),\n",
       " ('ghyanshyam', 'hari', 'ram', 'mohan'),\n",
       " ('ghyanshyam', 'hari', 'ram', 'geeta'),\n",
       " ('ghyanshyam', 'hari', 'ram', 'seeta'),\n",
       " ('ghyanshyam', 'hari', 'ram', 'neeta'),\n",
       " ('ghyanshyam', 'hari', 'shyam', 'ram'),\n",
       " ('ghyanshyam', 'hari', 'shyam', 'mohan'),\n",
       " ('ghyanshyam', 'hari', 'shyam', 'geeta'),\n",
       " ('ghyanshyam', 'hari', 'shyam', 'seeta'),\n",
       " ('ghyanshyam', 'hari', 'shyam', 'neeta'),\n",
       " ('ghyanshyam', 'hari', 'mohan', 'ram'),\n",
       " ('ghyanshyam', 'hari', 'mohan', 'shyam'),\n",
       " ('ghyanshyam', 'hari', 'mohan', 'geeta'),\n",
       " ('ghyanshyam', 'hari', 'mohan', 'seeta'),\n",
       " ('ghyanshyam', 'hari', 'mohan', 'neeta'),\n",
       " ('ghyanshyam', 'hari', 'geeta', 'ram'),\n",
       " ('ghyanshyam', 'hari', 'geeta', 'shyam'),\n",
       " ('ghyanshyam', 'hari', 'geeta', 'mohan'),\n",
       " ('ghyanshyam', 'hari', 'geeta', 'seeta'),\n",
       " ('ghyanshyam', 'hari', 'geeta', 'neeta'),\n",
       " ('ghyanshyam', 'hari', 'seeta', 'ram'),\n",
       " ('ghyanshyam', 'hari', 'seeta', 'shyam'),\n",
       " ('ghyanshyam', 'hari', 'seeta', 'mohan'),\n",
       " ('ghyanshyam', 'hari', 'seeta', 'geeta'),\n",
       " ('ghyanshyam', 'hari', 'seeta', 'neeta'),\n",
       " ('ghyanshyam', 'hari', 'neeta', 'ram'),\n",
       " ('ghyanshyam', 'hari', 'neeta', 'shyam'),\n",
       " ('ghyanshyam', 'hari', 'neeta', 'mohan'),\n",
       " ('ghyanshyam', 'hari', 'neeta', 'geeta'),\n",
       " ('ghyanshyam', 'hari', 'neeta', 'seeta'),\n",
       " ('ghyanshyam', 'mohan', 'ram', 'shyam'),\n",
       " ('ghyanshyam', 'mohan', 'ram', 'hari'),\n",
       " ('ghyanshyam', 'mohan', 'ram', 'geeta'),\n",
       " ('ghyanshyam', 'mohan', 'ram', 'seeta'),\n",
       " ('ghyanshyam', 'mohan', 'ram', 'neeta'),\n",
       " ('ghyanshyam', 'mohan', 'shyam', 'ram'),\n",
       " ('ghyanshyam', 'mohan', 'shyam', 'hari'),\n",
       " ('ghyanshyam', 'mohan', 'shyam', 'geeta'),\n",
       " ('ghyanshyam', 'mohan', 'shyam', 'seeta'),\n",
       " ('ghyanshyam', 'mohan', 'shyam', 'neeta'),\n",
       " ('ghyanshyam', 'mohan', 'hari', 'ram'),\n",
       " ('ghyanshyam', 'mohan', 'hari', 'shyam'),\n",
       " ('ghyanshyam', 'mohan', 'hari', 'geeta'),\n",
       " ('ghyanshyam', 'mohan', 'hari', 'seeta'),\n",
       " ('ghyanshyam', 'mohan', 'hari', 'neeta'),\n",
       " ('ghyanshyam', 'mohan', 'geeta', 'ram'),\n",
       " ('ghyanshyam', 'mohan', 'geeta', 'shyam'),\n",
       " ('ghyanshyam', 'mohan', 'geeta', 'hari'),\n",
       " ('ghyanshyam', 'mohan', 'geeta', 'seeta'),\n",
       " ('ghyanshyam', 'mohan', 'geeta', 'neeta'),\n",
       " ('ghyanshyam', 'mohan', 'seeta', 'ram'),\n",
       " ('ghyanshyam', 'mohan', 'seeta', 'shyam'),\n",
       " ('ghyanshyam', 'mohan', 'seeta', 'hari'),\n",
       " ('ghyanshyam', 'mohan', 'seeta', 'geeta'),\n",
       " ('ghyanshyam', 'mohan', 'seeta', 'neeta'),\n",
       " ('ghyanshyam', 'mohan', 'neeta', 'ram'),\n",
       " ('ghyanshyam', 'mohan', 'neeta', 'shyam'),\n",
       " ('ghyanshyam', 'mohan', 'neeta', 'hari'),\n",
       " ('ghyanshyam', 'mohan', 'neeta', 'geeta'),\n",
       " ('ghyanshyam', 'mohan', 'neeta', 'seeta'),\n",
       " ('ghyanshyam', 'geeta', 'ram', 'shyam'),\n",
       " ('ghyanshyam', 'geeta', 'ram', 'hari'),\n",
       " ('ghyanshyam', 'geeta', 'ram', 'mohan'),\n",
       " ('ghyanshyam', 'geeta', 'ram', 'seeta'),\n",
       " ('ghyanshyam', 'geeta', 'ram', 'neeta'),\n",
       " ('ghyanshyam', 'geeta', 'shyam', 'ram'),\n",
       " ('ghyanshyam', 'geeta', 'shyam', 'hari'),\n",
       " ('ghyanshyam', 'geeta', 'shyam', 'mohan'),\n",
       " ('ghyanshyam', 'geeta', 'shyam', 'seeta'),\n",
       " ('ghyanshyam', 'geeta', 'shyam', 'neeta'),\n",
       " ('ghyanshyam', 'geeta', 'hari', 'ram'),\n",
       " ('ghyanshyam', 'geeta', 'hari', 'shyam'),\n",
       " ('ghyanshyam', 'geeta', 'hari', 'mohan'),\n",
       " ('ghyanshyam', 'geeta', 'hari', 'seeta'),\n",
       " ('ghyanshyam', 'geeta', 'hari', 'neeta'),\n",
       " ('ghyanshyam', 'geeta', 'mohan', 'ram'),\n",
       " ('ghyanshyam', 'geeta', 'mohan', 'shyam'),\n",
       " ('ghyanshyam', 'geeta', 'mohan', 'hari'),\n",
       " ('ghyanshyam', 'geeta', 'mohan', 'seeta'),\n",
       " ('ghyanshyam', 'geeta', 'mohan', 'neeta'),\n",
       " ('ghyanshyam', 'geeta', 'seeta', 'ram'),\n",
       " ('ghyanshyam', 'geeta', 'seeta', 'shyam'),\n",
       " ('ghyanshyam', 'geeta', 'seeta', 'hari'),\n",
       " ('ghyanshyam', 'geeta', 'seeta', 'mohan'),\n",
       " ('ghyanshyam', 'geeta', 'seeta', 'neeta'),\n",
       " ('ghyanshyam', 'geeta', 'neeta', 'ram'),\n",
       " ('ghyanshyam', 'geeta', 'neeta', 'shyam'),\n",
       " ('ghyanshyam', 'geeta', 'neeta', 'hari'),\n",
       " ('ghyanshyam', 'geeta', 'neeta', 'mohan'),\n",
       " ('ghyanshyam', 'geeta', 'neeta', 'seeta'),\n",
       " ('ghyanshyam', 'seeta', 'ram', 'shyam'),\n",
       " ('ghyanshyam', 'seeta', 'ram', 'hari'),\n",
       " ('ghyanshyam', 'seeta', 'ram', 'mohan'),\n",
       " ('ghyanshyam', 'seeta', 'ram', 'geeta'),\n",
       " ('ghyanshyam', 'seeta', 'ram', 'neeta'),\n",
       " ('ghyanshyam', 'seeta', 'shyam', 'ram'),\n",
       " ('ghyanshyam', 'seeta', 'shyam', 'hari'),\n",
       " ('ghyanshyam', 'seeta', 'shyam', 'mohan'),\n",
       " ('ghyanshyam', 'seeta', 'shyam', 'geeta'),\n",
       " ('ghyanshyam', 'seeta', 'shyam', 'neeta'),\n",
       " ('ghyanshyam', 'seeta', 'hari', 'ram'),\n",
       " ('ghyanshyam', 'seeta', 'hari', 'shyam'),\n",
       " ('ghyanshyam', 'seeta', 'hari', 'mohan'),\n",
       " ('ghyanshyam', 'seeta', 'hari', 'geeta'),\n",
       " ('ghyanshyam', 'seeta', 'hari', 'neeta'),\n",
       " ('ghyanshyam', 'seeta', 'mohan', 'ram'),\n",
       " ('ghyanshyam', 'seeta', 'mohan', 'shyam'),\n",
       " ('ghyanshyam', 'seeta', 'mohan', 'hari'),\n",
       " ('ghyanshyam', 'seeta', 'mohan', 'geeta'),\n",
       " ('ghyanshyam', 'seeta', 'mohan', 'neeta'),\n",
       " ('ghyanshyam', 'seeta', 'geeta', 'ram'),\n",
       " ('ghyanshyam', 'seeta', 'geeta', 'shyam'),\n",
       " ('ghyanshyam', 'seeta', 'geeta', 'hari'),\n",
       " ('ghyanshyam', 'seeta', 'geeta', 'mohan'),\n",
       " ('ghyanshyam', 'seeta', 'geeta', 'neeta'),\n",
       " ('ghyanshyam', 'seeta', 'neeta', 'ram'),\n",
       " ('ghyanshyam', 'seeta', 'neeta', 'shyam'),\n",
       " ('ghyanshyam', 'seeta', 'neeta', 'hari'),\n",
       " ('ghyanshyam', 'seeta', 'neeta', 'mohan'),\n",
       " ('ghyanshyam', 'seeta', 'neeta', 'geeta'),\n",
       " ('ghyanshyam', 'neeta', 'ram', 'shyam'),\n",
       " ('ghyanshyam', 'neeta', 'ram', 'hari'),\n",
       " ('ghyanshyam', 'neeta', 'ram', 'mohan'),\n",
       " ('ghyanshyam', 'neeta', 'ram', 'geeta'),\n",
       " ('ghyanshyam', 'neeta', 'ram', 'seeta'),\n",
       " ('ghyanshyam', 'neeta', 'shyam', 'ram'),\n",
       " ('ghyanshyam', 'neeta', 'shyam', 'hari'),\n",
       " ('ghyanshyam', 'neeta', 'shyam', 'mohan'),\n",
       " ('ghyanshyam', 'neeta', 'shyam', 'geeta'),\n",
       " ('ghyanshyam', 'neeta', 'shyam', 'seeta'),\n",
       " ('ghyanshyam', 'neeta', 'hari', 'ram'),\n",
       " ('ghyanshyam', 'neeta', 'hari', 'shyam'),\n",
       " ('ghyanshyam', 'neeta', 'hari', 'mohan'),\n",
       " ('ghyanshyam', 'neeta', 'hari', 'geeta'),\n",
       " ('ghyanshyam', 'neeta', 'hari', 'seeta'),\n",
       " ('ghyanshyam', 'neeta', 'mohan', 'ram'),\n",
       " ('ghyanshyam', 'neeta', 'mohan', 'shyam'),\n",
       " ('ghyanshyam', 'neeta', 'mohan', 'hari'),\n",
       " ('ghyanshyam', 'neeta', 'mohan', 'geeta'),\n",
       " ('ghyanshyam', 'neeta', 'mohan', 'seeta'),\n",
       " ('ghyanshyam', 'neeta', 'geeta', 'ram'),\n",
       " ('ghyanshyam', 'neeta', 'geeta', 'shyam'),\n",
       " ('ghyanshyam', 'neeta', 'geeta', 'hari'),\n",
       " ('ghyanshyam', 'neeta', 'geeta', 'mohan'),\n",
       " ('ghyanshyam', 'neeta', 'geeta', 'seeta'),\n",
       " ('ghyanshyam', 'neeta', 'seeta', 'ram'),\n",
       " ('ghyanshyam', 'neeta', 'seeta', 'shyam'),\n",
       " ('ghyanshyam', 'neeta', 'seeta', 'hari'),\n",
       " ('ghyanshyam', 'neeta', 'seeta', 'mohan'),\n",
       " ('ghyanshyam', 'neeta', 'seeta', 'geeta'),\n",
       " ('hari', 'ram', 'shyam', 'ghyanshyam'),\n",
       " ('hari', 'ram', 'shyam', 'mohan'),\n",
       " ('hari', 'ram', 'shyam', 'geeta'),\n",
       " ('hari', 'ram', 'shyam', 'seeta'),\n",
       " ('hari', 'ram', 'shyam', 'neeta'),\n",
       " ('hari', 'ram', 'ghyanshyam', 'shyam'),\n",
       " ('hari', 'ram', 'ghyanshyam', 'mohan'),\n",
       " ('hari', 'ram', 'ghyanshyam', 'geeta'),\n",
       " ('hari', 'ram', 'ghyanshyam', 'seeta'),\n",
       " ('hari', 'ram', 'ghyanshyam', 'neeta'),\n",
       " ('hari', 'ram', 'mohan', 'shyam'),\n",
       " ('hari', 'ram', 'mohan', 'ghyanshyam'),\n",
       " ('hari', 'ram', 'mohan', 'geeta'),\n",
       " ('hari', 'ram', 'mohan', 'seeta'),\n",
       " ('hari', 'ram', 'mohan', 'neeta'),\n",
       " ('hari', 'ram', 'geeta', 'shyam'),\n",
       " ('hari', 'ram', 'geeta', 'ghyanshyam'),\n",
       " ('hari', 'ram', 'geeta', 'mohan'),\n",
       " ('hari', 'ram', 'geeta', 'seeta'),\n",
       " ('hari', 'ram', 'geeta', 'neeta'),\n",
       " ('hari', 'ram', 'seeta', 'shyam'),\n",
       " ('hari', 'ram', 'seeta', 'ghyanshyam'),\n",
       " ('hari', 'ram', 'seeta', 'mohan'),\n",
       " ('hari', 'ram', 'seeta', 'geeta'),\n",
       " ('hari', 'ram', 'seeta', 'neeta'),\n",
       " ('hari', 'ram', 'neeta', 'shyam'),\n",
       " ('hari', 'ram', 'neeta', 'ghyanshyam'),\n",
       " ('hari', 'ram', 'neeta', 'mohan'),\n",
       " ('hari', 'ram', 'neeta', 'geeta'),\n",
       " ('hari', 'ram', 'neeta', 'seeta'),\n",
       " ('hari', 'shyam', 'ram', 'ghyanshyam'),\n",
       " ('hari', 'shyam', 'ram', 'mohan'),\n",
       " ('hari', 'shyam', 'ram', 'geeta'),\n",
       " ('hari', 'shyam', 'ram', 'seeta'),\n",
       " ('hari', 'shyam', 'ram', 'neeta'),\n",
       " ('hari', 'shyam', 'ghyanshyam', 'ram'),\n",
       " ('hari', 'shyam', 'ghyanshyam', 'mohan'),\n",
       " ('hari', 'shyam', 'ghyanshyam', 'geeta'),\n",
       " ('hari', 'shyam', 'ghyanshyam', 'seeta'),\n",
       " ('hari', 'shyam', 'ghyanshyam', 'neeta'),\n",
       " ('hari', 'shyam', 'mohan', 'ram'),\n",
       " ('hari', 'shyam', 'mohan', 'ghyanshyam'),\n",
       " ('hari', 'shyam', 'mohan', 'geeta'),\n",
       " ('hari', 'shyam', 'mohan', 'seeta'),\n",
       " ('hari', 'shyam', 'mohan', 'neeta'),\n",
       " ('hari', 'shyam', 'geeta', 'ram'),\n",
       " ('hari', 'shyam', 'geeta', 'ghyanshyam'),\n",
       " ('hari', 'shyam', 'geeta', 'mohan'),\n",
       " ('hari', 'shyam', 'geeta', 'seeta'),\n",
       " ('hari', 'shyam', 'geeta', 'neeta'),\n",
       " ('hari', 'shyam', 'seeta', 'ram'),\n",
       " ('hari', 'shyam', 'seeta', 'ghyanshyam'),\n",
       " ('hari', 'shyam', 'seeta', 'mohan'),\n",
       " ('hari', 'shyam', 'seeta', 'geeta'),\n",
       " ('hari', 'shyam', 'seeta', 'neeta'),\n",
       " ('hari', 'shyam', 'neeta', 'ram'),\n",
       " ('hari', 'shyam', 'neeta', 'ghyanshyam'),\n",
       " ('hari', 'shyam', 'neeta', 'mohan'),\n",
       " ('hari', 'shyam', 'neeta', 'geeta'),\n",
       " ('hari', 'shyam', 'neeta', 'seeta'),\n",
       " ('hari', 'ghyanshyam', 'ram', 'shyam'),\n",
       " ('hari', 'ghyanshyam', 'ram', 'mohan'),\n",
       " ('hari', 'ghyanshyam', 'ram', 'geeta'),\n",
       " ('hari', 'ghyanshyam', 'ram', 'seeta'),\n",
       " ('hari', 'ghyanshyam', 'ram', 'neeta'),\n",
       " ('hari', 'ghyanshyam', 'shyam', 'ram'),\n",
       " ('hari', 'ghyanshyam', 'shyam', 'mohan'),\n",
       " ('hari', 'ghyanshyam', 'shyam', 'geeta'),\n",
       " ('hari', 'ghyanshyam', 'shyam', 'seeta'),\n",
       " ('hari', 'ghyanshyam', 'shyam', 'neeta'),\n",
       " ('hari', 'ghyanshyam', 'mohan', 'ram'),\n",
       " ('hari', 'ghyanshyam', 'mohan', 'shyam'),\n",
       " ('hari', 'ghyanshyam', 'mohan', 'geeta'),\n",
       " ('hari', 'ghyanshyam', 'mohan', 'seeta'),\n",
       " ('hari', 'ghyanshyam', 'mohan', 'neeta'),\n",
       " ('hari', 'ghyanshyam', 'geeta', 'ram'),\n",
       " ('hari', 'ghyanshyam', 'geeta', 'shyam'),\n",
       " ('hari', 'ghyanshyam', 'geeta', 'mohan'),\n",
       " ('hari', 'ghyanshyam', 'geeta', 'seeta'),\n",
       " ('hari', 'ghyanshyam', 'geeta', 'neeta'),\n",
       " ('hari', 'ghyanshyam', 'seeta', 'ram'),\n",
       " ('hari', 'ghyanshyam', 'seeta', 'shyam'),\n",
       " ('hari', 'ghyanshyam', 'seeta', 'mohan'),\n",
       " ('hari', 'ghyanshyam', 'seeta', 'geeta'),\n",
       " ('hari', 'ghyanshyam', 'seeta', 'neeta'),\n",
       " ('hari', 'ghyanshyam', 'neeta', 'ram'),\n",
       " ('hari', 'ghyanshyam', 'neeta', 'shyam'),\n",
       " ('hari', 'ghyanshyam', 'neeta', 'mohan'),\n",
       " ('hari', 'ghyanshyam', 'neeta', 'geeta'),\n",
       " ('hari', 'ghyanshyam', 'neeta', 'seeta'),\n",
       " ('hari', 'mohan', 'ram', 'shyam'),\n",
       " ('hari', 'mohan', 'ram', 'ghyanshyam'),\n",
       " ('hari', 'mohan', 'ram', 'geeta'),\n",
       " ('hari', 'mohan', 'ram', 'seeta'),\n",
       " ('hari', 'mohan', 'ram', 'neeta'),\n",
       " ('hari', 'mohan', 'shyam', 'ram'),\n",
       " ('hari', 'mohan', 'shyam', 'ghyanshyam'),\n",
       " ('hari', 'mohan', 'shyam', 'geeta'),\n",
       " ('hari', 'mohan', 'shyam', 'seeta'),\n",
       " ('hari', 'mohan', 'shyam', 'neeta'),\n",
       " ('hari', 'mohan', 'ghyanshyam', 'ram'),\n",
       " ('hari', 'mohan', 'ghyanshyam', 'shyam'),\n",
       " ('hari', 'mohan', 'ghyanshyam', 'geeta'),\n",
       " ('hari', 'mohan', 'ghyanshyam', 'seeta'),\n",
       " ('hari', 'mohan', 'ghyanshyam', 'neeta'),\n",
       " ('hari', 'mohan', 'geeta', 'ram'),\n",
       " ('hari', 'mohan', 'geeta', 'shyam'),\n",
       " ('hari', 'mohan', 'geeta', 'ghyanshyam'),\n",
       " ('hari', 'mohan', 'geeta', 'seeta'),\n",
       " ('hari', 'mohan', 'geeta', 'neeta'),\n",
       " ('hari', 'mohan', 'seeta', 'ram'),\n",
       " ('hari', 'mohan', 'seeta', 'shyam'),\n",
       " ('hari', 'mohan', 'seeta', 'ghyanshyam'),\n",
       " ('hari', 'mohan', 'seeta', 'geeta'),\n",
       " ('hari', 'mohan', 'seeta', 'neeta'),\n",
       " ('hari', 'mohan', 'neeta', 'ram'),\n",
       " ('hari', 'mohan', 'neeta', 'shyam'),\n",
       " ('hari', 'mohan', 'neeta', 'ghyanshyam'),\n",
       " ('hari', 'mohan', 'neeta', 'geeta'),\n",
       " ('hari', 'mohan', 'neeta', 'seeta'),\n",
       " ('hari', 'geeta', 'ram', 'shyam'),\n",
       " ('hari', 'geeta', 'ram', 'ghyanshyam'),\n",
       " ('hari', 'geeta', 'ram', 'mohan'),\n",
       " ('hari', 'geeta', 'ram', 'seeta'),\n",
       " ('hari', 'geeta', 'ram', 'neeta'),\n",
       " ('hari', 'geeta', 'shyam', 'ram'),\n",
       " ('hari', 'geeta', 'shyam', 'ghyanshyam'),\n",
       " ('hari', 'geeta', 'shyam', 'mohan'),\n",
       " ('hari', 'geeta', 'shyam', 'seeta'),\n",
       " ('hari', 'geeta', 'shyam', 'neeta'),\n",
       " ('hari', 'geeta', 'ghyanshyam', 'ram'),\n",
       " ('hari', 'geeta', 'ghyanshyam', 'shyam'),\n",
       " ('hari', 'geeta', 'ghyanshyam', 'mohan'),\n",
       " ('hari', 'geeta', 'ghyanshyam', 'seeta'),\n",
       " ('hari', 'geeta', 'ghyanshyam', 'neeta'),\n",
       " ('hari', 'geeta', 'mohan', 'ram'),\n",
       " ('hari', 'geeta', 'mohan', 'shyam'),\n",
       " ('hari', 'geeta', 'mohan', 'ghyanshyam'),\n",
       " ('hari', 'geeta', 'mohan', 'seeta'),\n",
       " ('hari', 'geeta', 'mohan', 'neeta'),\n",
       " ('hari', 'geeta', 'seeta', 'ram'),\n",
       " ('hari', 'geeta', 'seeta', 'shyam'),\n",
       " ('hari', 'geeta', 'seeta', 'ghyanshyam'),\n",
       " ('hari', 'geeta', 'seeta', 'mohan'),\n",
       " ('hari', 'geeta', 'seeta', 'neeta'),\n",
       " ('hari', 'geeta', 'neeta', 'ram'),\n",
       " ('hari', 'geeta', 'neeta', 'shyam'),\n",
       " ('hari', 'geeta', 'neeta', 'ghyanshyam'),\n",
       " ('hari', 'geeta', 'neeta', 'mohan'),\n",
       " ('hari', 'geeta', 'neeta', 'seeta'),\n",
       " ('hari', 'seeta', 'ram', 'shyam'),\n",
       " ('hari', 'seeta', 'ram', 'ghyanshyam'),\n",
       " ('hari', 'seeta', 'ram', 'mohan'),\n",
       " ('hari', 'seeta', 'ram', 'geeta'),\n",
       " ('hari', 'seeta', 'ram', 'neeta'),\n",
       " ('hari', 'seeta', 'shyam', 'ram'),\n",
       " ('hari', 'seeta', 'shyam', 'ghyanshyam'),\n",
       " ('hari', 'seeta', 'shyam', 'mohan'),\n",
       " ('hari', 'seeta', 'shyam', 'geeta'),\n",
       " ('hari', 'seeta', 'shyam', 'neeta'),\n",
       " ('hari', 'seeta', 'ghyanshyam', 'ram'),\n",
       " ('hari', 'seeta', 'ghyanshyam', 'shyam'),\n",
       " ('hari', 'seeta', 'ghyanshyam', 'mohan'),\n",
       " ('hari', 'seeta', 'ghyanshyam', 'geeta'),\n",
       " ('hari', 'seeta', 'ghyanshyam', 'neeta'),\n",
       " ('hari', 'seeta', 'mohan', 'ram'),\n",
       " ('hari', 'seeta', 'mohan', 'shyam'),\n",
       " ('hari', 'seeta', 'mohan', 'ghyanshyam'),\n",
       " ('hari', 'seeta', 'mohan', 'geeta'),\n",
       " ('hari', 'seeta', 'mohan', 'neeta'),\n",
       " ('hari', 'seeta', 'geeta', 'ram'),\n",
       " ('hari', 'seeta', 'geeta', 'shyam'),\n",
       " ('hari', 'seeta', 'geeta', 'ghyanshyam'),\n",
       " ('hari', 'seeta', 'geeta', 'mohan'),\n",
       " ('hari', 'seeta', 'geeta', 'neeta'),\n",
       " ('hari', 'seeta', 'neeta', 'ram'),\n",
       " ('hari', 'seeta', 'neeta', 'shyam'),\n",
       " ('hari', 'seeta', 'neeta', 'ghyanshyam'),\n",
       " ('hari', 'seeta', 'neeta', 'mohan'),\n",
       " ('hari', 'seeta', 'neeta', 'geeta'),\n",
       " ('hari', 'neeta', 'ram', 'shyam'),\n",
       " ('hari', 'neeta', 'ram', 'ghyanshyam'),\n",
       " ('hari', 'neeta', 'ram', 'mohan'),\n",
       " ('hari', 'neeta', 'ram', 'geeta'),\n",
       " ('hari', 'neeta', 'ram', 'seeta'),\n",
       " ('hari', 'neeta', 'shyam', 'ram'),\n",
       " ('hari', 'neeta', 'shyam', 'ghyanshyam'),\n",
       " ('hari', 'neeta', 'shyam', 'mohan'),\n",
       " ('hari', 'neeta', 'shyam', 'geeta'),\n",
       " ('hari', 'neeta', 'shyam', 'seeta'),\n",
       " ('hari', 'neeta', 'ghyanshyam', 'ram'),\n",
       " ('hari', 'neeta', 'ghyanshyam', 'shyam'),\n",
       " ('hari', 'neeta', 'ghyanshyam', 'mohan'),\n",
       " ('hari', 'neeta', 'ghyanshyam', 'geeta'),\n",
       " ('hari', 'neeta', 'ghyanshyam', 'seeta'),\n",
       " ('hari', 'neeta', 'mohan', 'ram'),\n",
       " ('hari', 'neeta', 'mohan', 'shyam'),\n",
       " ('hari', 'neeta', 'mohan', 'ghyanshyam'),\n",
       " ('hari', 'neeta', 'mohan', 'geeta'),\n",
       " ('hari', 'neeta', 'mohan', 'seeta'),\n",
       " ('hari', 'neeta', 'geeta', 'ram'),\n",
       " ('hari', 'neeta', 'geeta', 'shyam'),\n",
       " ('hari', 'neeta', 'geeta', 'ghyanshyam'),\n",
       " ('hari', 'neeta', 'geeta', 'mohan'),\n",
       " ('hari', 'neeta', 'geeta', 'seeta'),\n",
       " ('hari', 'neeta', 'seeta', 'ram'),\n",
       " ('hari', 'neeta', 'seeta', 'shyam'),\n",
       " ('hari', 'neeta', 'seeta', 'ghyanshyam'),\n",
       " ('hari', 'neeta', 'seeta', 'mohan'),\n",
       " ('hari', 'neeta', 'seeta', 'geeta'),\n",
       " ('mohan', 'ram', 'shyam', 'ghyanshyam'),\n",
       " ('mohan', 'ram', 'shyam', 'hari'),\n",
       " ('mohan', 'ram', 'shyam', 'geeta'),\n",
       " ('mohan', 'ram', 'shyam', 'seeta'),\n",
       " ('mohan', 'ram', 'shyam', 'neeta'),\n",
       " ('mohan', 'ram', 'ghyanshyam', 'shyam'),\n",
       " ('mohan', 'ram', 'ghyanshyam', 'hari'),\n",
       " ('mohan', 'ram', 'ghyanshyam', 'geeta'),\n",
       " ('mohan', 'ram', 'ghyanshyam', 'seeta'),\n",
       " ('mohan', 'ram', 'ghyanshyam', 'neeta'),\n",
       " ('mohan', 'ram', 'hari', 'shyam'),\n",
       " ('mohan', 'ram', 'hari', 'ghyanshyam'),\n",
       " ('mohan', 'ram', 'hari', 'geeta'),\n",
       " ('mohan', 'ram', 'hari', 'seeta'),\n",
       " ('mohan', 'ram', 'hari', 'neeta'),\n",
       " ('mohan', 'ram', 'geeta', 'shyam'),\n",
       " ('mohan', 'ram', 'geeta', 'ghyanshyam'),\n",
       " ('mohan', 'ram', 'geeta', 'hari'),\n",
       " ('mohan', 'ram', 'geeta', 'seeta'),\n",
       " ('mohan', 'ram', 'geeta', 'neeta'),\n",
       " ('mohan', 'ram', 'seeta', 'shyam'),\n",
       " ('mohan', 'ram', 'seeta', 'ghyanshyam'),\n",
       " ('mohan', 'ram', 'seeta', 'hari'),\n",
       " ('mohan', 'ram', 'seeta', 'geeta'),\n",
       " ('mohan', 'ram', 'seeta', 'neeta'),\n",
       " ('mohan', 'ram', 'neeta', 'shyam'),\n",
       " ('mohan', 'ram', 'neeta', 'ghyanshyam'),\n",
       " ('mohan', 'ram', 'neeta', 'hari'),\n",
       " ('mohan', 'ram', 'neeta', 'geeta'),\n",
       " ('mohan', 'ram', 'neeta', 'seeta'),\n",
       " ('mohan', 'shyam', 'ram', 'ghyanshyam'),\n",
       " ('mohan', 'shyam', 'ram', 'hari'),\n",
       " ('mohan', 'shyam', 'ram', 'geeta'),\n",
       " ('mohan', 'shyam', 'ram', 'seeta'),\n",
       " ('mohan', 'shyam', 'ram', 'neeta'),\n",
       " ('mohan', 'shyam', 'ghyanshyam', 'ram'),\n",
       " ('mohan', 'shyam', 'ghyanshyam', 'hari'),\n",
       " ('mohan', 'shyam', 'ghyanshyam', 'geeta'),\n",
       " ('mohan', 'shyam', 'ghyanshyam', 'seeta'),\n",
       " ('mohan', 'shyam', 'ghyanshyam', 'neeta'),\n",
       " ('mohan', 'shyam', 'hari', 'ram'),\n",
       " ('mohan', 'shyam', 'hari', 'ghyanshyam'),\n",
       " ('mohan', 'shyam', 'hari', 'geeta'),\n",
       " ('mohan', 'shyam', 'hari', 'seeta'),\n",
       " ('mohan', 'shyam', 'hari', 'neeta'),\n",
       " ('mohan', 'shyam', 'geeta', 'ram'),\n",
       " ('mohan', 'shyam', 'geeta', 'ghyanshyam'),\n",
       " ('mohan', 'shyam', 'geeta', 'hari'),\n",
       " ('mohan', 'shyam', 'geeta', 'seeta'),\n",
       " ('mohan', 'shyam', 'geeta', 'neeta'),\n",
       " ('mohan', 'shyam', 'seeta', 'ram'),\n",
       " ('mohan', 'shyam', 'seeta', 'ghyanshyam'),\n",
       " ('mohan', 'shyam', 'seeta', 'hari'),\n",
       " ('mohan', 'shyam', 'seeta', 'geeta'),\n",
       " ('mohan', 'shyam', 'seeta', 'neeta'),\n",
       " ('mohan', 'shyam', 'neeta', 'ram'),\n",
       " ('mohan', 'shyam', 'neeta', 'ghyanshyam'),\n",
       " ('mohan', 'shyam', 'neeta', 'hari'),\n",
       " ('mohan', 'shyam', 'neeta', 'geeta'),\n",
       " ('mohan', 'shyam', 'neeta', 'seeta'),\n",
       " ('mohan', 'ghyanshyam', 'ram', 'shyam'),\n",
       " ('mohan', 'ghyanshyam', 'ram', 'hari'),\n",
       " ('mohan', 'ghyanshyam', 'ram', 'geeta'),\n",
       " ('mohan', 'ghyanshyam', 'ram', 'seeta'),\n",
       " ('mohan', 'ghyanshyam', 'ram', 'neeta'),\n",
       " ('mohan', 'ghyanshyam', 'shyam', 'ram'),\n",
       " ('mohan', 'ghyanshyam', 'shyam', 'hari'),\n",
       " ('mohan', 'ghyanshyam', 'shyam', 'geeta'),\n",
       " ('mohan', 'ghyanshyam', 'shyam', 'seeta'),\n",
       " ('mohan', 'ghyanshyam', 'shyam', 'neeta'),\n",
       " ('mohan', 'ghyanshyam', 'hari', 'ram'),\n",
       " ('mohan', 'ghyanshyam', 'hari', 'shyam'),\n",
       " ('mohan', 'ghyanshyam', 'hari', 'geeta'),\n",
       " ('mohan', 'ghyanshyam', 'hari', 'seeta'),\n",
       " ('mohan', 'ghyanshyam', 'hari', 'neeta'),\n",
       " ('mohan', 'ghyanshyam', 'geeta', 'ram'),\n",
       " ('mohan', 'ghyanshyam', 'geeta', 'shyam'),\n",
       " ('mohan', 'ghyanshyam', 'geeta', 'hari'),\n",
       " ('mohan', 'ghyanshyam', 'geeta', 'seeta'),\n",
       " ('mohan', 'ghyanshyam', 'geeta', 'neeta'),\n",
       " ('mohan', 'ghyanshyam', 'seeta', 'ram'),\n",
       " ('mohan', 'ghyanshyam', 'seeta', 'shyam'),\n",
       " ('mohan', 'ghyanshyam', 'seeta', 'hari'),\n",
       " ('mohan', 'ghyanshyam', 'seeta', 'geeta'),\n",
       " ('mohan', 'ghyanshyam', 'seeta', 'neeta'),\n",
       " ('mohan', 'ghyanshyam', 'neeta', 'ram'),\n",
       " ('mohan', 'ghyanshyam', 'neeta', 'shyam'),\n",
       " ('mohan', 'ghyanshyam', 'neeta', 'hari'),\n",
       " ('mohan', 'ghyanshyam', 'neeta', 'geeta'),\n",
       " ('mohan', 'ghyanshyam', 'neeta', 'seeta'),\n",
       " ('mohan', 'hari', 'ram', 'shyam'),\n",
       " ('mohan', 'hari', 'ram', 'ghyanshyam'),\n",
       " ('mohan', 'hari', 'ram', 'geeta'),\n",
       " ('mohan', 'hari', 'ram', 'seeta'),\n",
       " ('mohan', 'hari', 'ram', 'neeta'),\n",
       " ('mohan', 'hari', 'shyam', 'ram'),\n",
       " ('mohan', 'hari', 'shyam', 'ghyanshyam'),\n",
       " ('mohan', 'hari', 'shyam', 'geeta'),\n",
       " ('mohan', 'hari', 'shyam', 'seeta'),\n",
       " ('mohan', 'hari', 'shyam', 'neeta'),\n",
       " ('mohan', 'hari', 'ghyanshyam', 'ram'),\n",
       " ('mohan', 'hari', 'ghyanshyam', 'shyam'),\n",
       " ('mohan', 'hari', 'ghyanshyam', 'geeta'),\n",
       " ('mohan', 'hari', 'ghyanshyam', 'seeta'),\n",
       " ('mohan', 'hari', 'ghyanshyam', 'neeta'),\n",
       " ('mohan', 'hari', 'geeta', 'ram'),\n",
       " ('mohan', 'hari', 'geeta', 'shyam'),\n",
       " ('mohan', 'hari', 'geeta', 'ghyanshyam'),\n",
       " ('mohan', 'hari', 'geeta', 'seeta'),\n",
       " ('mohan', 'hari', 'geeta', 'neeta'),\n",
       " ('mohan', 'hari', 'seeta', 'ram'),\n",
       " ('mohan', 'hari', 'seeta', 'shyam'),\n",
       " ('mohan', 'hari', 'seeta', 'ghyanshyam'),\n",
       " ('mohan', 'hari', 'seeta', 'geeta'),\n",
       " ('mohan', 'hari', 'seeta', 'neeta'),\n",
       " ('mohan', 'hari', 'neeta', 'ram'),\n",
       " ('mohan', 'hari', 'neeta', 'shyam'),\n",
       " ('mohan', 'hari', 'neeta', 'ghyanshyam'),\n",
       " ('mohan', 'hari', 'neeta', 'geeta'),\n",
       " ('mohan', 'hari', 'neeta', 'seeta'),\n",
       " ('mohan', 'geeta', 'ram', 'shyam'),\n",
       " ('mohan', 'geeta', 'ram', 'ghyanshyam'),\n",
       " ('mohan', 'geeta', 'ram', 'hari'),\n",
       " ('mohan', 'geeta', 'ram', 'seeta'),\n",
       " ('mohan', 'geeta', 'ram', 'neeta'),\n",
       " ('mohan', 'geeta', 'shyam', 'ram'),\n",
       " ('mohan', 'geeta', 'shyam', 'ghyanshyam'),\n",
       " ('mohan', 'geeta', 'shyam', 'hari'),\n",
       " ('mohan', 'geeta', 'shyam', 'seeta'),\n",
       " ('mohan', 'geeta', 'shyam', 'neeta'),\n",
       " ('mohan', 'geeta', 'ghyanshyam', 'ram'),\n",
       " ('mohan', 'geeta', 'ghyanshyam', 'shyam'),\n",
       " ('mohan', 'geeta', 'ghyanshyam', 'hari'),\n",
       " ('mohan', 'geeta', 'ghyanshyam', 'seeta'),\n",
       " ('mohan', 'geeta', 'ghyanshyam', 'neeta'),\n",
       " ('mohan', 'geeta', 'hari', 'ram'),\n",
       " ('mohan', 'geeta', 'hari', 'shyam'),\n",
       " ('mohan', 'geeta', 'hari', 'ghyanshyam'),\n",
       " ('mohan', 'geeta', 'hari', 'seeta'),\n",
       " ('mohan', 'geeta', 'hari', 'neeta'),\n",
       " ('mohan', 'geeta', 'seeta', 'ram'),\n",
       " ('mohan', 'geeta', 'seeta', 'shyam'),\n",
       " ('mohan', 'geeta', 'seeta', 'ghyanshyam'),\n",
       " ('mohan', 'geeta', 'seeta', 'hari'),\n",
       " ('mohan', 'geeta', 'seeta', 'neeta'),\n",
       " ('mohan', 'geeta', 'neeta', 'ram'),\n",
       " ('mohan', 'geeta', 'neeta', 'shyam'),\n",
       " ('mohan', 'geeta', 'neeta', 'ghyanshyam'),\n",
       " ('mohan', 'geeta', 'neeta', 'hari'),\n",
       " ('mohan', 'geeta', 'neeta', 'seeta'),\n",
       " ('mohan', 'seeta', 'ram', 'shyam'),\n",
       " ('mohan', 'seeta', 'ram', 'ghyanshyam'),\n",
       " ('mohan', 'seeta', 'ram', 'hari'),\n",
       " ('mohan', 'seeta', 'ram', 'geeta'),\n",
       " ('mohan', 'seeta', 'ram', 'neeta'),\n",
       " ('mohan', 'seeta', 'shyam', 'ram'),\n",
       " ('mohan', 'seeta', 'shyam', 'ghyanshyam'),\n",
       " ('mohan', 'seeta', 'shyam', 'hari'),\n",
       " ('mohan', 'seeta', 'shyam', 'geeta'),\n",
       " ('mohan', 'seeta', 'shyam', 'neeta'),\n",
       " ...]"
      ]
     },
     "execution_count": 10,
     "metadata": {},
     "output_type": "execute_result"
    }
   ],
   "source": [
    "lst\n",
    "# g s ge n\n",
    "# s g ge n\n",
    "#"
   ]
  },
  {
   "cell_type": "code",
   "execution_count": 13,
   "metadata": {},
   "outputs": [
    {
     "name": "stdout",
     "output_type": "stream",
     "text": [
      "('ram', 'shyam')\n",
      "('ram', 'ghyanshyam')\n",
      "('ram', 'hari')\n",
      "('ram', 'mohan')\n",
      "('ram', 'geeta')\n",
      "('ram', 'seeta')\n",
      "('ram', 'neeta')\n",
      "('shyam', 'ghyanshyam')\n",
      "('shyam', 'hari')\n",
      "('shyam', 'mohan')\n",
      "('shyam', 'geeta')\n",
      "('shyam', 'seeta')\n",
      "('shyam', 'neeta')\n",
      "('ghyanshyam', 'hari')\n",
      "('ghyanshyam', 'mohan')\n",
      "('ghyanshyam', 'geeta')\n",
      "('ghyanshyam', 'seeta')\n",
      "('ghyanshyam', 'neeta')\n",
      "('hari', 'mohan')\n",
      "('hari', 'geeta')\n",
      "('hari', 'seeta')\n",
      "('hari', 'neeta')\n",
      "('mohan', 'geeta')\n",
      "('mohan', 'seeta')\n",
      "('mohan', 'neeta')\n",
      "('geeta', 'seeta')\n",
      "('geeta', 'neeta')\n",
      "('seeta', 'neeta')\n"
     ]
    }
   ],
   "source": [
    "for comb in itertools.combinations(seq, 2):\n",
    "    print(comb)"
   ]
  },
  {
   "cell_type": "code",
   "execution_count": 14,
   "metadata": {},
   "outputs": [
    {
     "data": {
      "text/plain": [
       "[('s', 'a'),\n",
       " ('s', 'c'),\n",
       " ('s', 'h'),\n",
       " ('s', 'i'),\n",
       " ('s', 'n'),\n",
       " ('a', 'c'),\n",
       " ('a', 'h'),\n",
       " ('a', 'i'),\n",
       " ('a', 'n'),\n",
       " ('c', 'h'),\n",
       " ('c', 'i'),\n",
       " ('c', 'n'),\n",
       " ('h', 'i'),\n",
       " ('h', 'n'),\n",
       " ('i', 'n')]"
      ]
     },
     "execution_count": 14,
     "metadata": {},
     "output_type": "execute_result"
    }
   ],
   "source": [
    "list(itertools.combinations('sachin', 2))"
   ]
  },
  {
   "cell_type": "code",
   "execution_count": 15,
   "metadata": {},
   "outputs": [
    {
     "name": "stdout",
     "output_type": "stream",
     "text": [
      "['__doc__', '__loader__', '__name__', '__package__', '__spec__', '_grouper', '_tee', '_tee_dataobject', 'accumulate', 'chain', 'combinations', 'combinations_with_replacement', 'compress', 'count', 'cycle', 'dropwhile', 'filterfalse', 'groupby', 'islice', 'permutations', 'product', 'repeat', 'starmap', 'takewhile', 'tee', 'zip_longest']\n"
     ]
    }
   ],
   "source": [
    "print(dir(itertools))"
   ]
  },
  {
   "cell_type": "code",
   "execution_count": 16,
   "metadata": {},
   "outputs": [],
   "source": [
    "c = itertools.count(1)"
   ]
  },
  {
   "cell_type": "code",
   "execution_count": 17,
   "metadata": {},
   "outputs": [
    {
     "data": {
      "text/plain": [
       "1"
      ]
     },
     "execution_count": 17,
     "metadata": {},
     "output_type": "execute_result"
    }
   ],
   "source": [
    "next(c)"
   ]
  },
  {
   "cell_type": "code",
   "execution_count": 18,
   "metadata": {},
   "outputs": [
    {
     "data": {
      "text/plain": [
       "2"
      ]
     },
     "execution_count": 18,
     "metadata": {},
     "output_type": "execute_result"
    }
   ],
   "source": [
    "next(c)"
   ]
  },
  {
   "cell_type": "code",
   "execution_count": 22,
   "metadata": {},
   "outputs": [
    {
     "name": "stdout",
     "output_type": "stream",
     "text": [
      "1,2,3,4,5,6,7,8,9,10,"
     ]
    }
   ],
   "source": [
    "c = itertools.count(1)\n",
    "for var in c:\n",
    "    print(var, end=',')\n",
    "    if var == 10:\n",
    "        break"
   ]
  },
  {
   "cell_type": "code",
   "execution_count": 23,
   "metadata": {},
   "outputs": [
    {
     "data": {
      "text/plain": [
       "11"
      ]
     },
     "execution_count": 23,
     "metadata": {},
     "output_type": "execute_result"
    }
   ],
   "source": [
    "next(c)"
   ]
  },
  {
   "cell_type": "code",
   "execution_count": 24,
   "metadata": {},
   "outputs": [],
   "source": [
    "import collections"
   ]
  },
  {
   "cell_type": "code",
   "execution_count": 25,
   "metadata": {},
   "outputs": [
    {
     "name": "stdout",
     "output_type": "stream",
     "text": [
      "['ChainMap', 'Counter', 'OrderedDict', 'UserDict', 'UserList', 'UserString', '_Link', '_OrderedDictItemsView', '_OrderedDictKeysView', '_OrderedDictValuesView', '__all__', '__builtins__', '__cached__', '__doc__', '__file__', '__getattr__', '__loader__', '__name__', '__package__', '__path__', '__spec__', '_chain', '_collections_abc', '_count_elements', '_eq', '_heapq', '_iskeyword', '_itemgetter', '_proxy', '_recursive_repr', '_repeat', '_starmap', '_sys', '_tuplegetter', 'abc', 'defaultdict', 'deque', 'namedtuple']\n"
     ]
    }
   ],
   "source": [
    "print(dir(collections))"
   ]
  },
  {
   "cell_type": "code",
   "execution_count": 26,
   "metadata": {},
   "outputs": [],
   "source": [
    "import random"
   ]
  },
  {
   "cell_type": "code",
   "execution_count": 28,
   "metadata": {},
   "outputs": [],
   "source": [
    "data = [ random.choice(seq) for _ in range(50)]"
   ]
  },
  {
   "cell_type": "code",
   "execution_count": 30,
   "metadata": {},
   "outputs": [
    {
     "name": "stdout",
     "output_type": "stream",
     "text": [
      "['geeta', 'neeta', 'neeta', 'geeta', 'mohan', 'ghyanshyam', 'ghyanshyam', 'mohan', 'shyam', 'mohan', 'ram', 'ram', 'hari', 'ram', 'ram', 'mohan', 'shyam', 'ghyanshyam', 'hari', 'seeta', 'ghyanshyam', 'ghyanshyam', 'geeta', 'geeta', 'neeta', 'shyam', 'hari', 'neeta', 'hari', 'shyam', 'ram', 'ram', 'mohan', 'geeta', 'neeta', 'ram', 'neeta', 'ram', 'geeta', 'mohan', 'geeta', 'ghyanshyam', 'neeta', 'ram', 'geeta', 'shyam', 'hari', 'neeta', 'mohan', 'shyam']\n"
     ]
    }
   ],
   "source": [
    "print(data)"
   ]
  },
  {
   "cell_type": "code",
   "execution_count": 32,
   "metadata": {},
   "outputs": [
    {
     "name": "stdout",
     "output_type": "stream",
     "text": [
      "{'geeta': 8, 'neeta': 8, 'mohan': 7, 'ghyanshyam': 6, 'shyam': 6, 'ram': 9, 'hari': 5, 'seeta': 1}\n"
     ]
    }
   ],
   "source": [
    "unique = {}\n",
    "for name in data:\n",
    "    if name in unique:\n",
    "        unique[name] += 1\n",
    "    else:\n",
    "        unique[name] = 1\n",
    "else:\n",
    "    print(unique)"
   ]
  },
  {
   "cell_type": "code",
   "execution_count": 33,
   "metadata": {},
   "outputs": [],
   "source": [
    "c = collections.Counter(data)"
   ]
  },
  {
   "cell_type": "code",
   "execution_count": 34,
   "metadata": {},
   "outputs": [
    {
     "data": {
      "text/plain": [
       "Counter({'geeta': 8,\n",
       "         'neeta': 8,\n",
       "         'mohan': 7,\n",
       "         'ghyanshyam': 6,\n",
       "         'shyam': 6,\n",
       "         'ram': 9,\n",
       "         'hari': 5,\n",
       "         'seeta': 1})"
      ]
     },
     "execution_count": 34,
     "metadata": {},
     "output_type": "execute_result"
    }
   ],
   "source": [
    "c"
   ]
  },
  {
   "cell_type": "code",
   "execution_count": 35,
   "metadata": {},
   "outputs": [],
   "source": [
    "c = collections.Counter('hello world how are you hello world how are you hello hello hi hello')"
   ]
  },
  {
   "cell_type": "code",
   "execution_count": 36,
   "metadata": {},
   "outputs": [
    {
     "name": "stdout",
     "output_type": "stream",
     "text": [
      "Counter({' ': 13, 'l': 12, 'o': 11, 'h': 8, 'e': 7, 'w': 4, 'r': 4, 'd': 2, 'a': 2, 'y': 2, 'u': 2, 'i': 1})\n"
     ]
    }
   ],
   "source": [
    "print(c) # Frequency table"
   ]
  },
  {
   "cell_type": "code",
   "execution_count": 41,
   "metadata": {},
   "outputs": [
    {
     "name": "stdout",
     "output_type": "stream",
     "text": [
      "| h |   8  |\n",
      "----------\n",
      "| e |   7  |\n",
      "----------\n",
      "| l |  12  |\n",
      "----------\n",
      "| o |  11  |\n",
      "----------\n",
      "|   |  13  |\n",
      "----------\n",
      "| w |   4  |\n",
      "----------\n",
      "| r |   4  |\n",
      "----------\n",
      "| d |   2  |\n",
      "----------\n",
      "| a |   2  |\n",
      "----------\n",
      "| y |   2  |\n",
      "----------\n",
      "| u |   2  |\n",
      "----------\n",
      "| i |   1  |\n",
      "----------\n"
     ]
    }
   ],
   "source": [
    "for char, count in c.items():\n",
    "    print(f\"|{char:>2} | {count:^5}|\")\n",
    "    print('-'*10)"
   ]
  },
  {
   "cell_type": "code",
   "execution_count": 42,
   "metadata": {},
   "outputs": [],
   "source": [
    "d = collections.OrderedDict()"
   ]
  },
  {
   "cell_type": "code",
   "execution_count": 44,
   "metadata": {},
   "outputs": [],
   "source": [
    "d['name'] = 'sachin'"
   ]
  },
  {
   "cell_type": "code",
   "execution_count": 45,
   "metadata": {},
   "outputs": [
    {
     "data": {
      "text/plain": [
       "OrderedDict([('name', 'sachin')])"
      ]
     },
     "execution_count": 45,
     "metadata": {},
     "output_type": "execute_result"
    }
   ],
   "source": [
    "d"
   ]
  },
  {
   "cell_type": "code",
   "execution_count": 46,
   "metadata": {},
   "outputs": [],
   "source": [
    "d['age'] = 23"
   ]
  },
  {
   "cell_type": "code",
   "execution_count": 47,
   "metadata": {},
   "outputs": [
    {
     "name": "stdout",
     "output_type": "stream",
     "text": [
      "name sachin\n",
      "age 23\n"
     ]
    }
   ],
   "source": [
    "for key, value in d.items():\n",
    "    print(key, value)"
   ]
  },
  {
   "cell_type": "code",
   "execution_count": 48,
   "metadata": {},
   "outputs": [],
   "source": [
    "t  = ( 10, 50, 90)\n",
    "#      x,  y,  z  # vector"
   ]
  },
  {
   "cell_type": "code",
   "execution_count": 49,
   "metadata": {},
   "outputs": [],
   "source": [
    "nt = collections.namedtuple('Vector', ['x', 'y', 'z'])"
   ]
  },
  {
   "cell_type": "code",
   "execution_count": 50,
   "metadata": {},
   "outputs": [
    {
     "data": {
      "text/plain": [
       "__main__.Vector"
      ]
     },
     "execution_count": 50,
     "metadata": {},
     "output_type": "execute_result"
    }
   ],
   "source": [
    "nt"
   ]
  },
  {
   "cell_type": "code",
   "execution_count": 51,
   "metadata": {},
   "outputs": [],
   "source": [
    "t = nt(1, 2, 3)"
   ]
  },
  {
   "cell_type": "code",
   "execution_count": 52,
   "metadata": {},
   "outputs": [
    {
     "name": "stdout",
     "output_type": "stream",
     "text": [
      "Vector(x=1, y=2, z=3)\n"
     ]
    }
   ],
   "source": [
    "print(t)"
   ]
  },
  {
   "cell_type": "code",
   "execution_count": 53,
   "metadata": {},
   "outputs": [
    {
     "data": {
      "text/plain": [
       "1"
      ]
     },
     "execution_count": 53,
     "metadata": {},
     "output_type": "execute_result"
    }
   ],
   "source": [
    "t[0]"
   ]
  },
  {
   "cell_type": "code",
   "execution_count": 54,
   "metadata": {},
   "outputs": [
    {
     "data": {
      "text/plain": [
       "2"
      ]
     },
     "execution_count": 54,
     "metadata": {},
     "output_type": "execute_result"
    }
   ],
   "source": [
    "t[1]"
   ]
  },
  {
   "cell_type": "code",
   "execution_count": 55,
   "metadata": {},
   "outputs": [
    {
     "data": {
      "text/plain": [
       "3"
      ]
     },
     "execution_count": 55,
     "metadata": {},
     "output_type": "execute_result"
    }
   ],
   "source": [
    "t[2]"
   ]
  },
  {
   "cell_type": "code",
   "execution_count": 56,
   "metadata": {},
   "outputs": [
    {
     "data": {
      "text/plain": [
       "(1, 2)"
      ]
     },
     "execution_count": 56,
     "metadata": {},
     "output_type": "execute_result"
    }
   ],
   "source": [
    "t[:2]"
   ]
  },
  {
   "cell_type": "code",
   "execution_count": 57,
   "metadata": {},
   "outputs": [
    {
     "data": {
      "text/plain": [
       "1"
      ]
     },
     "execution_count": 57,
     "metadata": {},
     "output_type": "execute_result"
    }
   ],
   "source": [
    "t.x"
   ]
  },
  {
   "cell_type": "code",
   "execution_count": 58,
   "metadata": {},
   "outputs": [
    {
     "data": {
      "text/plain": [
       "2"
      ]
     },
     "execution_count": 58,
     "metadata": {},
     "output_type": "execute_result"
    }
   ],
   "source": [
    "t.y"
   ]
  },
  {
   "cell_type": "code",
   "execution_count": 59,
   "metadata": {},
   "outputs": [
    {
     "data": {
      "text/plain": [
       "3"
      ]
     },
     "execution_count": 59,
     "metadata": {},
     "output_type": "execute_result"
    }
   ],
   "source": [
    "t.z"
   ]
  },
  {
   "cell_type": "code",
   "execution_count": 60,
   "metadata": {},
   "outputs": [
    {
     "name": "stdout",
     "output_type": "stream",
     "text": [
      "['ChainMap', 'Counter', 'OrderedDict', 'UserDict', 'UserList', 'UserString', '_Link', '_OrderedDictItemsView', '_OrderedDictKeysView', '_OrderedDictValuesView', '__all__', '__builtins__', '__cached__', '__doc__', '__file__', '__getattr__', '__loader__', '__name__', '__package__', '__path__', '__spec__', '_chain', '_collections_abc', '_count_elements', '_eq', '_heapq', '_iskeyword', '_itemgetter', '_proxy', '_recursive_repr', '_repeat', '_starmap', '_sys', '_tuplegetter', 'abc', 'defaultdict', 'deque', 'namedtuple']\n"
     ]
    }
   ],
   "source": [
    "print(dir(collections))"
   ]
  },
  {
   "cell_type": "code",
   "execution_count": 68,
   "metadata": {},
   "outputs": [],
   "source": [
    "d = collections.defaultdict(lambda : \"Not Available\")"
   ]
  },
  {
   "cell_type": "code",
   "execution_count": 69,
   "metadata": {},
   "outputs": [],
   "source": [
    "d['one'] = 1"
   ]
  },
  {
   "cell_type": "code",
   "execution_count": 70,
   "metadata": {},
   "outputs": [],
   "source": [
    "d['two'] = 2"
   ]
  },
  {
   "cell_type": "code",
   "execution_count": 71,
   "metadata": {},
   "outputs": [
    {
     "data": {
      "text/plain": [
       "1"
      ]
     },
     "execution_count": 71,
     "metadata": {},
     "output_type": "execute_result"
    }
   ],
   "source": [
    "d['one']"
   ]
  },
  {
   "cell_type": "code",
   "execution_count": 72,
   "metadata": {},
   "outputs": [
    {
     "data": {
      "text/plain": [
       "2"
      ]
     },
     "execution_count": 72,
     "metadata": {},
     "output_type": "execute_result"
    }
   ],
   "source": [
    "d['two']"
   ]
  },
  {
   "cell_type": "code",
   "execution_count": 73,
   "metadata": {},
   "outputs": [
    {
     "data": {
      "text/plain": [
       "'Not Available'"
      ]
     },
     "execution_count": 73,
     "metadata": {},
     "output_type": "execute_result"
    }
   ],
   "source": [
    "d['three']"
   ]
  },
  {
   "cell_type": "code",
   "execution_count": 74,
   "metadata": {},
   "outputs": [],
   "source": [
    "d = collections.defaultdict(list)"
   ]
  },
  {
   "cell_type": "code",
   "execution_count": 75,
   "metadata": {},
   "outputs": [],
   "source": [
    "d['name'] = 'sachin'"
   ]
  },
  {
   "cell_type": "code",
   "execution_count": 76,
   "metadata": {},
   "outputs": [
    {
     "data": {
      "text/plain": [
       "defaultdict(list, {'name': 'sachin'})"
      ]
     },
     "execution_count": 76,
     "metadata": {},
     "output_type": "execute_result"
    }
   ],
   "source": [
    "d"
   ]
  },
  {
   "cell_type": "code",
   "execution_count": 77,
   "metadata": {},
   "outputs": [
    {
     "data": {
      "text/plain": [
       "'sachin'"
      ]
     },
     "execution_count": 77,
     "metadata": {},
     "output_type": "execute_result"
    }
   ],
   "source": [
    "d['name']"
   ]
  },
  {
   "cell_type": "code",
   "execution_count": 78,
   "metadata": {},
   "outputs": [],
   "source": [
    "d[0] = 1"
   ]
  },
  {
   "cell_type": "code",
   "execution_count": 79,
   "metadata": {},
   "outputs": [
    {
     "data": {
      "text/plain": [
       "defaultdict(list, {'name': 'sachin', 0: 1})"
      ]
     },
     "execution_count": 79,
     "metadata": {},
     "output_type": "execute_result"
    }
   ],
   "source": [
    "d"
   ]
  },
  {
   "cell_type": "code",
   "execution_count": null,
   "metadata": {},
   "outputs": [],
   "source": []
  }
 ],
 "metadata": {
  "kernelspec": {
   "display_name": "Python 3",
   "language": "python",
   "name": "python3"
  },
  "language_info": {
   "codemirror_mode": {
    "name": "ipython",
    "version": 3
   },
   "file_extension": ".py",
   "mimetype": "text/x-python",
   "name": "python",
   "nbconvert_exporter": "python",
   "pygments_lexer": "ipython3",
   "version": "3.8.3"
  }
 },
 "nbformat": 4,
 "nbformat_minor": 4
}
