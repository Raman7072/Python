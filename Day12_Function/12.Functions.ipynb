{
 "cells": [
  {
   "cell_type": "code",
   "execution_count": 7,
   "metadata": {},
   "outputs": [
    {
     "name": "stdout",
     "output_type": "stream",
     "text": [
      "Hello World Times 0\n",
      "Hello World Times 1\n",
      "Hello World Times 2\n",
      "Hello World Times 3\n",
      "Hello World Times 4\n",
      "Hello World Times 5\n",
      "Hello World Times 6\n",
      "Hello World Times 7\n",
      "Hello World Times 8\n",
      "Hello World Times 9\n"
     ]
    }
   ],
   "source": [
    "for i in range(10):\n",
    "    print(\"Hello World\", end=' ')\n",
    "    print(f\"Times {i}\")"
   ]
  },
  {
   "cell_type": "code",
   "execution_count": null,
   "metadata": {},
   "outputs": [],
   "source": []
  },
  {
   "cell_type": "markdown",
   "metadata": {},
   "source": [
    "<h3 style='color:red'> What is a Function ? </h1>"
   ]
  },
  {
   "cell_type": "markdown",
   "metadata": {},
   "source": [
    "    group of statemetns to perform a specif task \n",
    "    \n",
    "    smallest independent part of a program\n",
    "    \n",
    "    Reusable block of code \n",
    "    \n",
    "    functions consists two part \n",
    "    \n",
    "            Body / Structure / Defination \n",
    "            \n",
    "                we store block of statements in function body with a function name / function signature\n",
    "                \n",
    "                body is used to store group statements that can be reused in program further again and again\n",
    "                \n",
    "           Calling of Function\n",
    "           \n",
    "               whenever you want to execute body of a function you need to call it \n",
    "               \n",
    "               \n",
    "               print(\"Hello World!\") # here we are calling print function\n",
    "               \n",
    "               \n",
    "               list.sort() # here we are calling sort method of list class"
   ]
  },
  {
   "cell_type": "markdown",
   "metadata": {},
   "source": [
    "`Built-in Functions`\n",
    "\n",
    "    print, input, len, int, float, complex, ...\n",
    "\n",
    "`User Defined Functions (UDF)`\n",
    "\n",
    "    to perform specif task we can create functions"
   ]
  },
  {
   "cell_type": "code",
   "execution_count": 1,
   "metadata": {},
   "outputs": [],
   "source": [
    "import builtins"
   ]
  },
  {
   "cell_type": "code",
   "execution_count": 6,
   "metadata": {},
   "outputs": [
    {
     "name": "stdout",
     "output_type": "stream",
     "text": [
      "         0. abs\n",
      "         1. all\n",
      "         2. any\n",
      "         3. ascii\n",
      "         4. bin\n",
      "         5. bool\n",
      "         6. breakpoint\n",
      "         7. bytearray\n",
      "         8. bytes\n",
      "         9. callable\n",
      "        10. chr\n",
      "        11. classmethod\n",
      "        12. compile\n",
      "        13. complex\n",
      "        14. copyright\n",
      "        15. credits\n",
      "        16. delattr\n",
      "        17. dict\n",
      "        18. dir\n",
      "        19. display\n",
      "        20. divmod\n",
      "        21. enumerate\n",
      "        22. eval\n",
      "        23. exec\n",
      "        24. filter\n",
      "        25. float\n",
      "        26. format\n",
      "        27. frozenset\n",
      "        28. get_ipython\n",
      "        29. getattr\n",
      "        30. globals\n",
      "        31. hasattr\n",
      "        32. hash\n",
      "        33. help\n",
      "        34. hex\n",
      "        35. id\n",
      "        36. input\n",
      "        37. int\n",
      "        38. isinstance\n",
      "        39. issubclass\n",
      "        40. iter\n",
      "        41. len\n",
      "        42. license\n",
      "        43. list\n",
      "        44. locals\n",
      "        45. map\n",
      "        46. max\n",
      "        47. memoryview\n",
      "        48. min\n",
      "        49. next\n",
      "        50. object\n",
      "        51. oct\n",
      "        52. open\n",
      "        53. ord\n",
      "        54. pow\n",
      "        55. print\n",
      "        56. property\n",
      "        57. range\n",
      "        58. repr\n",
      "        59. reversed\n",
      "        60. round\n",
      "        61. set\n",
      "        62. setattr\n",
      "        63. slice\n",
      "        64. sorted\n",
      "        65. staticmethod\n",
      "        66. str\n",
      "        67. sum\n",
      "        68. super\n",
      "        69. tuple\n",
      "        70. type\n",
      "        71. vars\n",
      "        72. zip\n"
     ]
    }
   ],
   "source": [
    "for i, f in enumerate([ f for f in dir(builtins) if f[0].islower()]):\n",
    "    print(f\"{i:>10}. {f}\")"
   ]
  },
  {
   "cell_type": "code",
   "execution_count": 8,
   "metadata": {},
   "outputs": [
    {
     "name": "stdout",
     "output_type": "stream",
     "text": [
      "Help on built-in function print in module builtins:\n",
      "\n",
      "print(...)\n",
      "    print(value, ..., sep=' ', end='\\n', file=sys.stdout, flush=False)\n",
      "    \n",
      "    Prints the values to a stream, or to sys.stdout by default.\n",
      "    Optional keyword arguments:\n",
      "    file:  a file-like object (stream); defaults to the current sys.stdout.\n",
      "    sep:   string inserted between values, default a space.\n",
      "    end:   string appended after the last value, default a newline.\n",
      "    flush: whether to forcibly flush the stream.\n",
      "\n"
     ]
    }
   ],
   "source": [
    "help(print)"
   ]
  },
  {
   "cell_type": "code",
   "execution_count": 9,
   "metadata": {},
   "outputs": [
    {
     "name": "stdout",
     "output_type": "stream",
     "text": [
      "hello world\n"
     ]
    }
   ],
   "source": [
    "print(\"hello world\") # print is a type of function which perform a task but do not return any value "
   ]
  },
  {
   "cell_type": "code",
   "execution_count": 10,
   "metadata": {},
   "outputs": [
    {
     "name": "stdout",
     "output_type": "stream",
     "text": [
      "Sachin\n"
     ]
    }
   ],
   "source": [
    "name = input() # input is a type of function which perform a task and also returns a string value"
   ]
  },
  {
   "cell_type": "markdown",
   "metadata": {},
   "source": [
    "# User Defined Function\n",
    "\n",
    "\n",
    "syntax \n",
    "\n",
    "    defination\n",
    "    \n",
    "    \n",
    "        def function_name(arg1, arg2, ..., argn): # formal arguments \n",
    "            \"\"\"\n",
    "                you can write documentation of a function like this\n",
    "                it is known as doc string of a function\n",
    "            \"\"\"\n",
    "            st-1\n",
    "            st-2\n",
    "            st-3\n",
    "            ...\n",
    "            st-n\n",
    "            return value\n",
    "            \n",
    "     calling \n",
    "     \n",
    "        value = function_name(para-1, para-2, ..., para-n) # actual arguments\n",
    "            "
   ]
  },
  {
   "cell_type": "code",
   "execution_count": 12,
   "metadata": {},
   "outputs": [],
   "source": [
    "def add(x, y): # x, y are formal arguments\n",
    "    \"\"\"\n",
    "        returns x+y\n",
    "    \"\"\"\n",
    "    print(f\"x = {x}\")\n",
    "    print(f\"y = {y}\")\n",
    "    return x + y\n",
    "\n",
    "# we have defined a function named as add"
   ]
  },
  {
   "cell_type": "code",
   "execution_count": 13,
   "metadata": {},
   "outputs": [
    {
     "name": "stdout",
     "output_type": "stream",
     "text": [
      "<function add at 0x00000276B5AF7820>\n"
     ]
    }
   ],
   "source": [
    "print(add)"
   ]
  },
  {
   "cell_type": "code",
   "execution_count": 14,
   "metadata": {},
   "outputs": [
    {
     "name": "stdout",
     "output_type": "stream",
     "text": [
      "Help on function add in module __main__:\n",
      "\n",
      "add(x, y)\n",
      "    returns x+y\n",
      "\n"
     ]
    }
   ],
   "source": [
    "help(add)"
   ]
  },
  {
   "cell_type": "code",
   "execution_count": 15,
   "metadata": {},
   "outputs": [
    {
     "name": "stdout",
     "output_type": "stream",
     "text": [
      "x = 10\n",
      "y = 20\n"
     ]
    }
   ],
   "source": [
    "a = 10\n",
    "b = 20\n",
    "\n",
    "r = add(a, b) # a, b are actual argument\n",
    "# we are calling add function"
   ]
  },
  {
   "cell_type": "code",
   "execution_count": 16,
   "metadata": {},
   "outputs": [
    {
     "name": "stdout",
     "output_type": "stream",
     "text": [
      "30\n"
     ]
    }
   ],
   "source": [
    "print(r)"
   ]
  },
  {
   "cell_type": "code",
   "execution_count": 18,
   "metadata": {},
   "outputs": [
    {
     "data": {
      "text/plain": [
       "36"
      ]
     },
     "execution_count": 18,
     "metadata": {},
     "output_type": "execute_result"
    }
   ],
   "source": [
    "import random\n",
    "\n",
    "random.randint(10, 40)"
   ]
  },
  {
   "cell_type": "code",
   "execution_count": 19,
   "metadata": {},
   "outputs": [
    {
     "name": "stdout",
     "output_type": "stream",
     "text": [
      "[24, 35, 21, 11, 24]\n",
      "[15, 27, 19, 40, 16]\n"
     ]
    }
   ],
   "source": [
    "lst1 = [ random.randint(10, 40) for _ in range(5) ]\n",
    "lst2 = [ random.randint(10, 40) for _ in range(5) ]\n",
    "\n",
    "print(lst1)\n",
    "print(lst2)"
   ]
  },
  {
   "cell_type": "code",
   "execution_count": 20,
   "metadata": {},
   "outputs": [
    {
     "name": "stdout",
     "output_type": "stream",
     "text": [
      "x = 24\n",
      "y = 15\n",
      "result = 39\n",
      "______________________________\n",
      "x = 35\n",
      "y = 27\n",
      "result = 62\n",
      "______________________________\n",
      "x = 21\n",
      "y = 19\n",
      "result = 40\n",
      "______________________________\n",
      "x = 11\n",
      "y = 40\n",
      "result = 51\n",
      "______________________________\n",
      "x = 24\n",
      "y = 16\n",
      "result = 40\n",
      "______________________________\n"
     ]
    }
   ],
   "source": [
    "for a,b in zip(lst1, lst2):\n",
    "    r = add(a, b) # Reusing add function\n",
    "    print(f\"result = {r}\")\n",
    "    print('_'*30)"
   ]
  },
  {
   "cell_type": "markdown",
   "metadata": {},
   "source": [
    "`Types of Function`\n",
    "\n",
    "\n",
    "    1. without return type without argument\n",
    "    2. without return type with argument\n",
    "    3. with return type without argument\n",
    "    4. with return type with argument"
   ]
  },
  {
   "cell_type": "markdown",
   "metadata": {},
   "source": [
    "`1. without return type without argument`"
   ]
  },
  {
   "cell_type": "code",
   "execution_count": 21,
   "metadata": {},
   "outputs": [
    {
     "name": "stdout",
     "output_type": "stream",
     "text": [
      "\n"
     ]
    }
   ],
   "source": [
    "print() # without argument without return type"
   ]
  },
  {
   "cell_type": "code",
   "execution_count": 22,
   "metadata": {},
   "outputs": [],
   "source": [
    "def greet():\n",
    "    \"\"\"\n",
    "        just to welcome user\n",
    "    \"\"\"\n",
    "    print(\"hello user! welcome to type-1 function\")\n",
    "    print(\"I am a function which does not accept any argument also does not return any value\")"
   ]
  },
  {
   "cell_type": "code",
   "execution_count": 23,
   "metadata": {},
   "outputs": [
    {
     "name": "stdout",
     "output_type": "stream",
     "text": [
      "hello user! welcome to type-1 function\n",
      "I am a function which does not accept any argument also does not return any value\n"
     ]
    }
   ],
   "source": [
    "greet()"
   ]
  },
  {
   "cell_type": "code",
   "execution_count": 24,
   "metadata": {},
   "outputs": [
    {
     "name": "stdout",
     "output_type": "stream",
     "text": [
      "hello user! welcome to type-1 function\n",
      "I am a function which does not accept any argument also does not return any value\n"
     ]
    }
   ],
   "source": [
    "r = greet()"
   ]
  },
  {
   "cell_type": "code",
   "execution_count": 26,
   "metadata": {},
   "outputs": [
    {
     "name": "stdout",
     "output_type": "stream",
     "text": [
      "None\n"
     ]
    }
   ],
   "source": [
    "print(r) # function which does not return anything by default returns None"
   ]
  },
  {
   "cell_type": "markdown",
   "metadata": {},
   "source": [
    "`2. without return type with argument`"
   ]
  },
  {
   "cell_type": "code",
   "execution_count": 27,
   "metadata": {},
   "outputs": [
    {
     "name": "stdout",
     "output_type": "stream",
     "text": [
      "Hello World!\n",
      "How are you ?\n"
     ]
    }
   ],
   "source": [
    "print(\"Hello World!\", \"How are you ?\", sep='\\n') # without return type with argument"
   ]
  },
  {
   "cell_type": "code",
   "execution_count": 28,
   "metadata": {},
   "outputs": [],
   "source": [
    "def hello(name): # name is formal argument, local variable\n",
    "    \"\"\"\n",
    "        to greet user\n",
    "    \"\"\"\n",
    "    print(f\"Welcome {name} to the World of functions!\")\n",
    "    print(\"I am a function which accepts argument but does not return any value\")"
   ]
  },
  {
   "cell_type": "code",
   "execution_count": 30,
   "metadata": {},
   "outputs": [
    {
     "name": "stdout",
     "output_type": "stream",
     "text": [
      "Welcome Sachin Yadav to the World of functions!\n",
      "I am a function which accepts argument but does not return any value\n"
     ]
    }
   ],
   "source": [
    "hello(\"Sachin Yadav\") # actual argument, we always pass actual argument to formal argument at the time of function calling "
   ]
  },
  {
   "cell_type": "code",
   "execution_count": 31,
   "metadata": {},
   "outputs": [
    {
     "name": "stdout",
     "output_type": "stream",
     "text": [
      "Welcome Python to the World of functions!\n",
      "I am a function which accepts argument but does not return any value\n"
     ]
    }
   ],
   "source": [
    "hello(\"Python\")"
   ]
  },
  {
   "cell_type": "markdown",
   "metadata": {},
   "source": [
    "`3. with return type without argument`"
   ]
  },
  {
   "cell_type": "code",
   "execution_count": 32,
   "metadata": {},
   "outputs": [],
   "source": [
    "def is_even():\n",
    "    \"\"\"\n",
    "        will take a number input and returns whether num is even or odd\n",
    "    \"\"\"\n",
    "    num = int(input(\"Enter a number: \")) # num is local variable, it's scope is only inside function calling\n",
    "    value = 'Odd' # state / flag variable\n",
    "    if num % 2 == 0:\n",
    "        value = 'Even'\n",
    "    return value"
   ]
  },
  {
   "cell_type": "code",
   "execution_count": 34,
   "metadata": {},
   "outputs": [
    {
     "name": "stdout",
     "output_type": "stream",
     "text": [
      "Enter a number: 13\n",
      "Odd\n",
      "Enter a number: 12\n",
      "Even\n"
     ]
    }
   ],
   "source": [
    "r1 = is_even()\n",
    "print(r1)\n",
    "r2 = is_even()\n",
    "print(r2)"
   ]
  },
  {
   "cell_type": "markdown",
   "metadata": {},
   "source": [
    "`4. with return type with argument`"
   ]
  },
  {
   "cell_type": "code",
   "execution_count": 38,
   "metadata": {},
   "outputs": [
    {
     "data": {
      "text/plain": [
       "2"
      ]
     },
     "execution_count": 38,
     "metadata": {},
     "output_type": "execute_result"
    }
   ],
   "source": [
    "int(1.9)+1"
   ]
  },
  {
   "cell_type": "code",
   "execution_count": 39,
   "metadata": {},
   "outputs": [],
   "source": [
    "def prime(num):\n",
    "    \"\"\"\n",
    "        return True if num is prime else False\n",
    "    \"\"\"\n",
    "    flag = True\n",
    "    if num <= 1:\n",
    "        flag = False\n",
    "    elif num <= 3:\n",
    "        flag = True\n",
    "    elif num % 2 == 0:\n",
    "        flag = False\n",
    "    else:\n",
    "        for check in range(2, int(num**(1/2))+2):\n",
    "            if num % check == 0:\n",
    "                flag = False\n",
    "                break\n",
    "    return flag"
   ]
  },
  {
   "cell_type": "code",
   "execution_count": 40,
   "metadata": {},
   "outputs": [
    {
     "name": "stdout",
     "output_type": "stream",
     "text": [
      "Help on function prime in module __main__:\n",
      "\n",
      "prime(num)\n",
      "    return True if num is prime else False\n",
      "\n"
     ]
    }
   ],
   "source": [
    "help(prime)"
   ]
  },
  {
   "cell_type": "code",
   "execution_count": 41,
   "metadata": {},
   "outputs": [
    {
     "name": "stdout",
     "output_type": "stream",
     "text": [
      "True\n"
     ]
    }
   ],
   "source": [
    "r = prime(127)\n",
    "print(r)"
   ]
  },
  {
   "cell_type": "code",
   "execution_count": 44,
   "metadata": {},
   "outputs": [
    {
     "name": "stdout",
     "output_type": "stream",
     "text": [
      "121   is prime -> False\n",
      "127   is prime -> True\n",
      "13    is prime -> True\n",
      "6     is prime -> False\n"
     ]
    }
   ],
   "source": [
    "nums = [ 121, 127, 13, 6 ]\n",
    "for num in nums:\n",
    "    print(f\"{num:<5} is prime --> {prime(num)}\")"
   ]
  },
  {
   "cell_type": "markdown",
   "metadata": {},
   "source": [
    "### Tic Tac Toe"
   ]
  },
  {
   "cell_type": "code",
   "execution_count": 45,
   "metadata": {},
   "outputs": [
    {
     "data": {
      "text/plain": [
       "[' ', ' ', ' ', ' ', ' ', ' ', ' ', ' ', ' ']"
      ]
     },
     "execution_count": 45,
     "metadata": {},
     "output_type": "execute_result"
    }
   ],
   "source": [
    "pos = [ \" \" for i in range(9) ]\n",
    "pos"
   ]
  },
  {
   "cell_type": "code",
   "execution_count": 47,
   "metadata": {},
   "outputs": [],
   "source": [
    "def print_board(pos):\n",
    "    \"\"\"\n",
    "        tic toe board\n",
    "    \"\"\"\n",
    "    s = \"\"\"\n",
    "                -------------------\n",
    "                |     |     |     |\n",
    "                |{:^5}|{:^5}|{:^5}|\n",
    "                |     |     |     |\n",
    "                -------------------\n",
    "                |     |     |     |\n",
    "                |{:^5}|{:^5}|{:^5}|\n",
    "                |     |     |     |\n",
    "                -------------------\n",
    "                |     |     |     |\n",
    "                |{:^5}|{:^5}|{:^5}|\n",
    "                |     |     |     |\n",
    "                -------------------\n",
    "    \"\"\"\n",
    "    print(s.format(*pos))"
   ]
  },
  {
   "cell_type": "code",
   "execution_count": 48,
   "metadata": {},
   "outputs": [
    {
     "name": "stdout",
     "output_type": "stream",
     "text": [
      "\n",
      "                -------------------\n",
      "                |     |     |     |\n",
      "                |     |     |     |\n",
      "                |     |     |     |\n",
      "                -------------------\n",
      "                |     |     |     |\n",
      "                |     |     |     |\n",
      "                |     |     |     |\n",
      "                -------------------\n",
      "                |     |     |     |\n",
      "                |     |     |     |\n",
      "                |     |     |     |\n",
      "                -------------------\n",
      "    \n"
     ]
    }
   ],
   "source": [
    "print_board(pos)"
   ]
  },
  {
   "cell_type": "code",
   "execution_count": 49,
   "metadata": {},
   "outputs": [],
   "source": [
    "pos[4] = 'X'\n",
    "pos[8] = '0'"
   ]
  },
  {
   "cell_type": "code",
   "execution_count": 50,
   "metadata": {},
   "outputs": [
    {
     "data": {
      "text/plain": [
       "[' ', ' ', ' ', ' ', 'X', ' ', ' ', ' ', '0']"
      ]
     },
     "execution_count": 50,
     "metadata": {},
     "output_type": "execute_result"
    }
   ],
   "source": [
    "pos"
   ]
  },
  {
   "cell_type": "code",
   "execution_count": 51,
   "metadata": {},
   "outputs": [
    {
     "name": "stdout",
     "output_type": "stream",
     "text": [
      "\n",
      "                -------------------\n",
      "                |     |     |     |\n",
      "                |     |     |     |\n",
      "                |     |     |     |\n",
      "                -------------------\n",
      "                |     |     |     |\n",
      "                |     |  X  |     |\n",
      "                |     |     |     |\n",
      "                -------------------\n",
      "                |     |     |     |\n",
      "                |     |     |  0  |\n",
      "                |     |     |     |\n",
      "                -------------------\n",
      "    \n"
     ]
    }
   ],
   "source": [
    "print_board(pos)"
   ]
  },
  {
   "cell_type": "markdown",
   "metadata": {},
   "source": [
    "### Type of Arguments in Python Functions\n",
    "\n",
    "    1. Positional Arguments\n",
    "    2. Default Arguments\n",
    "    3. Variable Length Arguments "
   ]
  },
  {
   "cell_type": "markdown",
   "metadata": {},
   "source": [
    "`1. Positional Arguments`"
   ]
  },
  {
   "cell_type": "code",
   "execution_count": 56,
   "metadata": {},
   "outputs": [],
   "source": [
    "def area(a, b, c): # positional arguments / compulsory arguments\n",
    "    #    0, 1, 2\n",
    "    \"\"\"\n",
    "        calculates and returns area of a circle\n",
    "    \"\"\"\n",
    "    if (a + b ) < c or ( a + c ) < b or ( b + c ) < a:\n",
    "        print(\"invalid sides of a triangle\")\n",
    "        area = 0\n",
    "    else:\n",
    "        s = (a+b+c) / 2\n",
    "        area = (s*(s-a)*(s-b)*(s-c))**(1/2)\n",
    "    return area"
   ]
  },
  {
   "cell_type": "code",
   "execution_count": 58,
   "metadata": {},
   "outputs": [
    {
     "data": {
      "text/plain": [
       "1498.1238266578634"
      ]
     },
     "execution_count": 58,
     "metadata": {},
     "output_type": "execute_result"
    }
   ],
   "source": [
    "area(60, 50, 80) # actual\n",
    "#     0,  1, 2"
   ]
  },
  {
   "cell_type": "code",
   "execution_count": 60,
   "metadata": {},
   "outputs": [
    {
     "name": "stdout",
     "output_type": "stream",
     "text": [
      "invalid sides of a triangle\n"
     ]
    },
    {
     "data": {
      "text/plain": [
       "0"
      ]
     },
     "execution_count": 60,
     "metadata": {},
     "output_type": "execute_result"
    }
   ],
   "source": [
    "area(10, 1, 1)"
   ]
  },
  {
   "cell_type": "code",
   "execution_count": 62,
   "metadata": {},
   "outputs": [],
   "source": [
    "def func(x, y, z):# positional argument\n",
    "    print(f\"x = {x}\")\n",
    "    print(f\"y = {y}\")\n",
    "    print(f\"z = {z}\")"
   ]
  },
  {
   "cell_type": "code",
   "execution_count": 64,
   "metadata": {},
   "outputs": [
    {
     "name": "stdout",
     "output_type": "stream",
     "text": [
      "x = 1\n",
      "y = 2\n",
      "z = 3\n"
     ]
    }
   ],
   "source": [
    "func(1, 2, 3)"
   ]
  },
  {
   "cell_type": "code",
   "execution_count": 65,
   "metadata": {},
   "outputs": [],
   "source": [
    "lst = [ 10, 50, 90]"
   ]
  },
  {
   "cell_type": "code",
   "execution_count": 66,
   "metadata": {},
   "outputs": [
    {
     "name": "stdout",
     "output_type": "stream",
     "text": [
      "x = 10\n",
      "y = 50\n",
      "z = 90\n"
     ]
    }
   ],
   "source": [
    "func(*lst) # func(10, 50, 90)"
   ]
  },
  {
   "cell_type": "code",
   "execution_count": 67,
   "metadata": {},
   "outputs": [
    {
     "ename": "TypeError",
     "evalue": "func() missing 2 required positional arguments: 'y' and 'z'",
     "output_type": "error",
     "traceback": [
      "\u001b[1;31m---------------------------------------------------------------------------\u001b[0m",
      "\u001b[1;31mTypeError\u001b[0m                                 Traceback (most recent call last)",
      "\u001b[1;32m<ipython-input-67-4b6d38e4ea35>\u001b[0m in \u001b[0;36m<module>\u001b[1;34m\u001b[0m\n\u001b[1;32m----> 1\u001b[1;33m \u001b[0mfunc\u001b[0m\u001b[1;33m(\u001b[0m\u001b[0mlst\u001b[0m\u001b[1;33m)\u001b[0m\u001b[1;33m\u001b[0m\u001b[1;33m\u001b[0m\u001b[0m\n\u001b[0m",
      "\u001b[1;31mTypeError\u001b[0m: func() missing 2 required positional arguments: 'y' and 'z'"
     ]
    }
   ],
   "source": [
    "func(lst) # func([10, 50, 90])"
   ]
  },
  {
   "cell_type": "code",
   "execution_count": 69,
   "metadata": {},
   "outputs": [
    {
     "name": "stdout",
     "output_type": "stream",
     "text": [
      "Help on function func in module __main__:\n",
      "\n",
      "func(x, y, z)\n",
      "\n"
     ]
    }
   ],
   "source": [
    "help(func)\n",
    "# keyword argumens -> x, y, z"
   ]
  },
  {
   "cell_type": "code",
   "execution_count": 72,
   "metadata": {},
   "outputs": [
    {
     "name": "stdout",
     "output_type": "stream",
     "text": [
      "x = 40\n",
      "y = 10\n",
      "z = 20\n"
     ]
    }
   ],
   "source": [
    "func(z=20, y=10, x=40)"
   ]
  },
  {
   "cell_type": "code",
   "execution_count": 73,
   "metadata": {},
   "outputs": [
    {
     "ename": "SyntaxError",
     "evalue": "positional argument follows keyword argument (<ipython-input-73-ae8bdea5db2c>, line 1)",
     "output_type": "error",
     "traceback": [
      "\u001b[1;36m  File \u001b[1;32m\"<ipython-input-73-ae8bdea5db2c>\"\u001b[1;36m, line \u001b[1;32m1\u001b[0m\n\u001b[1;33m    func(z=20, y=10, 20)\u001b[0m\n\u001b[1;37m                     ^\u001b[0m\n\u001b[1;31mSyntaxError\u001b[0m\u001b[1;31m:\u001b[0m positional argument follows keyword argument\n"
     ]
    }
   ],
   "source": [
    "func(z=20, y=10, 20)"
   ]
  },
  {
   "cell_type": "code",
   "execution_count": 74,
   "metadata": {},
   "outputs": [
    {
     "name": "stdout",
     "output_type": "stream",
     "text": [
      "x = 10\n",
      "y = 20\n",
      "z = 40\n"
     ]
    }
   ],
   "source": [
    "func(10, z=40, y=20)"
   ]
  },
  {
   "cell_type": "markdown",
   "metadata": {},
   "source": [
    "#### Default Arguments"
   ]
  },
  {
   "cell_type": "code",
   "execution_count": 79,
   "metadata": {},
   "outputs": [],
   "source": [
    "def can_marry(age, sex='male'): # age is a positional argument, sex is default argument\n",
    "    \"\"\"\n",
    "        according indian government rules it prints whether you can marry or not\n",
    "    \"\"\"\n",
    "    if (sex == 'male' and age >= 21) or (sex == 'female' and age >= 18):\n",
    "        print(\"Yes! you can marry\")\n",
    "    else:\n",
    "        print(\"No! you can not marry\")"
   ]
  },
  {
   "cell_type": "code",
   "execution_count": 80,
   "metadata": {},
   "outputs": [
    {
     "name": "stdout",
     "output_type": "stream",
     "text": [
      "No! you can not marry\n"
     ]
    }
   ],
   "source": [
    "can_marry(18)"
   ]
  },
  {
   "cell_type": "code",
   "execution_count": 81,
   "metadata": {},
   "outputs": [
    {
     "name": "stdout",
     "output_type": "stream",
     "text": [
      "Yes! you can marry\n"
     ]
    }
   ],
   "source": [
    "can_marry(18, 'female')"
   ]
  },
  {
   "cell_type": "code",
   "execution_count": 82,
   "metadata": {},
   "outputs": [
    {
     "name": "stdout",
     "output_type": "stream",
     "text": [
      "Yes! you can marry\n"
     ]
    }
   ],
   "source": [
    "can_marray(age=21, sex='male')"
   ]
  },
  {
   "cell_type": "code",
   "execution_count": 83,
   "metadata": {},
   "outputs": [],
   "source": [
    "def add(x, y, show_output=False): # show_outupt optional argument / default argument\n",
    "    if show_output:\n",
    "        print(f\"x = {x}\")\n",
    "        print(f\"y = {y}\")\n",
    "        print(f\"{x} + {y} = {x+y}\")\n",
    "    return x + y "
   ]
  },
  {
   "cell_type": "code",
   "execution_count": 84,
   "metadata": {},
   "outputs": [
    {
     "name": "stdout",
     "output_type": "stream",
     "text": [
      "30\n"
     ]
    }
   ],
   "source": [
    "r = add(10, 20)\n",
    "print(r)"
   ]
  },
  {
   "cell_type": "code",
   "execution_count": 85,
   "metadata": {},
   "outputs": [
    {
     "name": "stdout",
     "output_type": "stream",
     "text": [
      "x = 5\n",
      "y = 23\n",
      "5 + 23 = 28\n"
     ]
    }
   ],
   "source": [
    "r = add(5, 23, True)"
   ]
  },
  {
   "cell_type": "code",
   "execution_count": 86,
   "metadata": {},
   "outputs": [
    {
     "name": "stdout",
     "output_type": "stream",
     "text": [
      "x = 5\n",
      "y = 23\n",
      "5 + 23 = 28\n"
     ]
    }
   ],
   "source": [
    "r = add(5, 23, show_output=True)"
   ]
  },
  {
   "cell_type": "code",
   "execution_count": 87,
   "metadata": {},
   "outputs": [
    {
     "name": "stdout",
     "output_type": "stream",
     "text": [
      "28\n"
     ]
    }
   ],
   "source": [
    "print(r)"
   ]
  },
  {
   "cell_type": "code",
   "execution_count": 88,
   "metadata": {},
   "outputs": [
    {
     "name": "stdout",
     "output_type": "stream",
     "text": [
      "Help on built-in function print in module builtins:\n",
      "\n",
      "print(...)\n",
      "    print(value, ..., sep=' ', end='\\n', file=sys.stdout, flush=False)\n",
      "    \n",
      "    Prints the values to a stream, or to sys.stdout by default.\n",
      "    Optional keyword arguments:\n",
      "    file:  a file-like object (stream); defaults to the current sys.stdout.\n",
      "    sep:   string inserted between values, default a space.\n",
      "    end:   string appended after the last value, default a newline.\n",
      "    flush: whether to forcibly flush the stream.\n",
      "\n"
     ]
    }
   ],
   "source": [
    "help(print)"
   ]
  },
  {
   "cell_type": "markdown",
   "metadata": {},
   "source": [
    "##### variable length arguments \n",
    "\n",
    "#### Scope  / Recursion "
   ]
  },
  {
   "cell_type": "markdown",
   "metadata": {},
   "source": [
    "    10 % \n",
    "\n",
    "    90 %"
   ]
  },
  {
   "cell_type": "code",
   "execution_count": null,
   "metadata": {},
   "outputs": [],
   "source": []
  }
 ],
 "metadata": {
  "kernelspec": {
   "display_name": "Python 3",
   "language": "python",
   "name": "python3"
  },
  "language_info": {
   "codemirror_mode": {
    "name": "ipython",
    "version": 3
   },
   "file_extension": ".py",
   "mimetype": "text/x-python",
   "name": "python",
   "nbconvert_exporter": "python",
   "pygments_lexer": "ipython3",
   "version": "3.8.3"
  }
 },
 "nbformat": 4,
 "nbformat_minor": 4
}
