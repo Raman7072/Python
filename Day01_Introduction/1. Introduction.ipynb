{
 "cells": [
  {
   "cell_type": "markdown",
   "metadata": {},
   "source": [
    "### Data Structures and Algorithm\n",
    "\n",
    "    Data --> Anything \n",
    "            Raw fact or figure \n",
    "    Simran   Jaipur --> data\n",
    "    \n",
    "    \n",
    "    Data organization, management, storage, access and modification\n",
    "    \n",
    "    \n",
    "    Algorithm \n",
    "    \n",
    "        Step by step procedure to solve a particular problem\n",
    "        \n",
    "        Implementation of any data structure --> Algorithm\n",
    "        \n",
    "        \n",
    "        Algorithm --> c, c++, python, java\n",
    "        \n",
    "        \n",
    "        1. Take a input and store it into variable n\n",
    "        2. if n>0\n",
    "           then output Positibe\n",
    "        3. else output negative"
   ]
  },
  {
   "cell_type": "markdown",
   "metadata": {},
   "source": [
    "    Python --> ML code(efficient) "
   ]
  },
  {
   "cell_type": "markdown",
   "metadata": {},
   "source": [
    "    5 --> 5*4*3*2*1 = 120\n",
    "    6 --> 6*5*4*3*2*1 = 720"
   ]
  },
  {
   "cell_type": "code",
   "execution_count": 4,
   "metadata": {},
   "outputs": [
    {
     "name": "stdout",
     "output_type": "stream",
     "text": [
      "120\n"
     ]
    }
   ],
   "source": [
    "fact = 1\n",
    "num = 5\n",
    "while num>0:\n",
    "    fact = fact * num\n",
    "    num = num - 1\n",
    "print(fact)"
   ]
  },
  {
   "cell_type": "code",
   "execution_count": 5,
   "metadata": {},
   "outputs": [
    {
     "name": "stdout",
     "output_type": "stream",
     "text": [
      "1.11 µs ± 149 ns per loop (mean ± std. dev. of 7 runs, 1000000 loops each)\n"
     ]
    }
   ],
   "source": [
    "%%timeit\n",
    "fact = 1\n",
    "num = 5\n",
    "while num>0:\n",
    "    fact = fact * num\n",
    "    num = num - 1"
   ]
  },
  {
   "cell_type": "code",
   "execution_count": 6,
   "metadata": {},
   "outputs": [],
   "source": [
    "# 1 + 1.2 + 1.1 + 1.11 + 0.9 "
   ]
  },
  {
   "cell_type": "code",
   "execution_count": 7,
   "metadata": {},
   "outputs": [
    {
     "name": "stdout",
     "output_type": "stream",
     "text": [
      "1.27 µs ± 120 ns per loop (mean ± std. dev. of 7 runs, 1000000 loops each)\n"
     ]
    }
   ],
   "source": [
    "%%timeit\n",
    "fact = 1\n",
    "num = 5\n",
    "while num>0:\n",
    "    fact *= num\n",
    "    num -= 1"
   ]
  },
  {
   "cell_type": "markdown",
   "metadata": {},
   "source": [
    "### Python \n",
    "\n",
    "       Programming Language \n",
    "       \n",
    "       \n",
    "           Language --> Medium of communication\n",
    "           \n",
    "           Communicate with machine and to make it perform some task\n",
    "           \n",
    "           \n",
    "      Program --> set of Instructions \n",
    "      \n",
    "      Tools \n",
    "      \n",
    "          Programming Language ---> convert --> binary (0, 1)\n",
    "          \n",
    "              rules, syntax\n",
    "              \n",
    "          convert --> compiler or interpreter\n",
    "          \n",
    "          Compiler --> Whole code\n",
    "          Interpreter --> Line by line\n",
    "          \n",
    "          \n",
    "          Python use interpreter\n",
    "          \n",
    "          \n",
    "          compiler --> 1. error\n",
    "                      2. error\n",
    "                      5. error\n",
    "                      \n",
    "          Interpreter --> 1. --> output\n",
    "                          2. --> output\n",
    "                          3. --> error (program stops)\n",
    "                          \n",
    "                          \n",
    "          It is case sensitive\n",
    "          \n",
    "          a not equals to A"
   ]
  },
  {
   "cell_type": "code",
   "execution_count": 1,
   "metadata": {},
   "outputs": [
    {
     "name": "stdout",
     "output_type": "stream",
     "text": [
      "hello world\n"
     ]
    },
    {
     "ename": "NameError",
     "evalue": "name 'a' is not defined",
     "output_type": "error",
     "traceback": [
      "\u001b[1;31m---------------------------------------------------------------------------\u001b[0m",
      "\u001b[1;31mNameError\u001b[0m                                 Traceback (most recent call last)",
      "\u001b[1;32m<ipython-input-1-37fab7bd9be9>\u001b[0m in \u001b[0;36m<module>\u001b[1;34m\u001b[0m\n\u001b[0;32m      1\u001b[0m \u001b[0mprint\u001b[0m\u001b[1;33m(\u001b[0m\u001b[1;34m\"hello world\"\u001b[0m\u001b[1;33m)\u001b[0m\u001b[1;33m\u001b[0m\u001b[1;33m\u001b[0m\u001b[0m\n\u001b[1;32m----> 2\u001b[1;33m \u001b[0ma\u001b[0m \u001b[1;33m+=\u001b[0m \u001b[1;36m10\u001b[0m\u001b[1;33m\u001b[0m\u001b[1;33m\u001b[0m\u001b[0m\n\u001b[0m\u001b[0;32m      3\u001b[0m \u001b[0mprint\u001b[0m\u001b[1;33m(\u001b[0m\u001b[1;34m\"hello\"\u001b[0m\u001b[1;33m)\u001b[0m\u001b[1;33m\u001b[0m\u001b[1;33m\u001b[0m\u001b[0m\n",
      "\u001b[1;31mNameError\u001b[0m: name 'a' is not defined"
     ]
    }
   ],
   "source": [
    "print(\"hello world\")\n",
    "a += 10\n",
    "print(\"hello\")"
   ]
  },
  {
   "cell_type": "code",
   "execution_count": 2,
   "metadata": {},
   "outputs": [],
   "source": [
    "a = 10"
   ]
  },
  {
   "cell_type": "code",
   "execution_count": 3,
   "metadata": {},
   "outputs": [
    {
     "ename": "NameError",
     "evalue": "name 'A' is not defined",
     "output_type": "error",
     "traceback": [
      "\u001b[1;31m---------------------------------------------------------------------------\u001b[0m",
      "\u001b[1;31mNameError\u001b[0m                                 Traceback (most recent call last)",
      "\u001b[1;32m<ipython-input-3-d8a0aa1e4c8f>\u001b[0m in \u001b[0;36m<module>\u001b[1;34m\u001b[0m\n\u001b[1;32m----> 1\u001b[1;33m \u001b[0mA\u001b[0m \u001b[1;33m+=\u001b[0m \u001b[1;36m10\u001b[0m\u001b[1;33m\u001b[0m\u001b[1;33m\u001b[0m\u001b[0m\n\u001b[0m",
      "\u001b[1;31mNameError\u001b[0m: name 'A' is not defined"
     ]
    }
   ],
   "source": [
    "A += 10"
   ]
  },
  {
   "cell_type": "markdown",
   "metadata": {},
   "source": [
    "            Interfaces \n",
    "            \n",
    "                Medium to connect\n",
    "                \n",
    "            GUI --> Graphical User Interface (graphics)\n",
    "            CLI --> Command Line Interface (command)"
   ]
  },
  {
   "cell_type": "markdown",
   "metadata": {},
   "source": [
    "#### Basic commands\n",
    "\n",
    "    pwd --> present working directory\n",
    "    \n",
    "        directory --> folder\n",
    "        \n",
    "     ls --> listing files and folders\n",
    "     \n",
    "     cd --> change directory \n",
    "     \n",
    "     mkdir --> make directory\n",
    "     \n",
    "         cd C:/Users/Simran Grover/Desktop\n",
    "         \n",
    "             dsa_practice --> class_notes\n",
    "                                 python\n",
    "                                 array\n",
    "                                 stack\n",
    "                                 queue\n",
    "                              Assignment\n",
    "                              Practice"
   ]
  },
  {
   "cell_type": "code",
   "execution_count": null,
   "metadata": {},
   "outputs": [],
   "source": []
  }
 ],
 "metadata": {
  "kernelspec": {
   "display_name": "Python 3",
   "language": "python",
   "name": "python3"
  },
  "language_info": {
   "codemirror_mode": {
    "name": "ipython",
    "version": 3
   },
   "file_extension": ".py",
   "mimetype": "text/x-python",
   "name": "python",
   "nbconvert_exporter": "python",
   "pygments_lexer": "ipython3",
   "version": "3.8.5"
  }
 },
 "nbformat": 4,
 "nbformat_minor": 4
}
