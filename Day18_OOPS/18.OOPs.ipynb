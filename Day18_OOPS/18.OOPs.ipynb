{
 "cells": [
  {
   "cell_type": "markdown",
   "metadata": {},
   "source": [
    "### OOPs\n",
    "\n",
    "    Object Oriented Programming \n",
    "    \n",
    "    \n",
    "    class / object "
   ]
  },
  {
   "cell_type": "markdown",
   "metadata": {},
   "source": [
    "### Features of OOPs"
   ]
  },
  {
   "cell_type": "markdown",
   "metadata": {},
   "source": [
    "1. Encapsulation\n",
    "2. Abstraction\n",
    "3. Data Hiding\n",
    "4. Inheritance\n",
    "5. Polymorphsim\n",
    "6. Messege Passing\n",
    "7. Class & Object "
   ]
  },
  {
   "cell_type": "markdown",
   "metadata": {},
   "source": [
    "#### Object \n",
    "\n",
    "    Real Time Entity which you want implement in program "
   ]
  },
  {
   "cell_type": "code",
   "execution_count": 3,
   "metadata": {},
   "outputs": [],
   "source": [
    "a = int( 5 )\n",
    "# object = class()\n"
   ]
  },
  {
   "cell_type": "code",
   "execution_count": 2,
   "metadata": {},
   "outputs": [],
   "source": [
    "class Human:\n",
    "    \"\"\"\n",
    "    class documentation string (doc-string)\n",
    "    \"\"\"\n",
    "    __type = 'a Human Class' # class variable\n",
    "    def learn(self, skill): # methods\n",
    "        print(f\"I can learn {skill}.\")\n",
    "    def laugh(self):\n",
    "        print(\"ha ha haha ha\")"
   ]
  },
  {
   "cell_type": "code",
   "execution_count": 7,
   "metadata": {},
   "outputs": [],
   "source": [
    "p1 = Human()\n",
    "p2 = Human()"
   ]
  },
  {
   "cell_type": "code",
   "execution_count": 8,
   "metadata": {},
   "outputs": [
    {
     "name": "stdout",
     "output_type": "stream",
     "text": [
      "<class '__main__.Human'> 2125814382224\n",
      "<__main__.Human object at 0x000001EEF50F1EB0> 2125825253328\n",
      "<__main__.Human object at 0x000001EEF50F1FD0> 2125825253328\n"
     ]
    }
   ],
   "source": [
    "print(Human, id(Human))\n",
    "print(p1, id(p2))\n",
    "print(p2, id(p2))"
   ]
  },
  {
   "cell_type": "code",
   "execution_count": 10,
   "metadata": {},
   "outputs": [
    {
     "name": "stdout",
     "output_type": "stream",
     "text": [
      "<class '__main__.Human'>\n"
     ]
    }
   ],
   "source": [
    "print(type(p1))"
   ]
  },
  {
   "cell_type": "code",
   "execution_count": 13,
   "metadata": {},
   "outputs": [
    {
     "name": "stdout",
     "output_type": "stream",
     "text": [
      "I can learn Python.\n"
     ]
    }
   ],
   "source": [
    "p1.learn(\"Python\") # . is known as access specifier used to access class scope using object scope\n"
   ]
  },
  {
   "cell_type": "code",
   "execution_count": 14,
   "metadata": {},
   "outputs": [
    {
     "name": "stdout",
     "output_type": "stream",
     "text": [
      "I can learn Python.\n"
     ]
    }
   ],
   "source": [
    "Human.learn(p1, \"Python\")"
   ]
  },
  {
   "cell_type": "code",
   "execution_count": 15,
   "metadata": {},
   "outputs": [
    {
     "name": "stdout",
     "output_type": "stream",
     "text": [
      "ha ha haha ha\n"
     ]
    }
   ],
   "source": [
    "p2.laugh()"
   ]
  },
  {
   "cell_type": "code",
   "execution_count": 16,
   "metadata": {},
   "outputs": [
    {
     "name": "stdout",
     "output_type": "stream",
     "text": [
      "ha ha haha ha\n"
     ]
    }
   ],
   "source": [
    "p1.laugh()"
   ]
  },
  {
   "cell_type": "code",
   "execution_count": 18,
   "metadata": {},
   "outputs": [
    {
     "name": "stdout",
     "output_type": "stream",
     "text": [
      "2125841835056\n",
      "2125841835056 Hello World!\n",
      "2125841835152\n",
      "2125841835152 Hello World!\n"
     ]
    }
   ],
   "source": [
    "class A:\n",
    "    def hi(self):\n",
    "        print(id(self), \"Hello World!\")\n",
    "        \n",
    "a = A()\n",
    "b = A()\n",
    "\n",
    "print(id(a))\n",
    "a.hi() # A.hi(a)\n",
    "print(id(b))\n",
    "b.hi() # A.hi(b)"
   ]
  },
  {
   "cell_type": "markdown",
   "metadata": {},
   "source": [
    "`1. Encapsulation`\n",
    "\n",
    "    Binding Data and Methods Together in single Scope is known as encapsulation\n",
    "\n",
    "    Binding Data Members (objects) and Member Functions (methods) in Single Scope is Known as Encapsulation"
   ]
  },
  {
   "cell_type": "code",
   "execution_count": 19,
   "metadata": {},
   "outputs": [
    {
     "name": "stdout",
     "output_type": "stream",
     "text": [
      "<__main__.A object at 0x000001EEF60C2430>\n"
     ]
    }
   ],
   "source": [
    "print(a)"
   ]
  },
  {
   "cell_type": "code",
   "execution_count": 20,
   "metadata": {},
   "outputs": [
    {
     "name": "stdout",
     "output_type": "stream",
     "text": [
      "<class '__main__.A'>\n"
     ]
    }
   ],
   "source": [
    "print(A)"
   ]
  },
  {
   "cell_type": "markdown",
   "metadata": {},
   "source": [
    "`2. Data Hiding`\n",
    "\n",
    "    We can restric access to some methods or attributes (varaibles) from outside the class scope"
   ]
  },
  {
   "cell_type": "markdown",
   "metadata": {},
   "source": [
    "`3. Abstraction`\n",
    "\n",
    "    Showing Essential Information while Hiding Background Details is known as abstraction "
   ]
  },
  {
   "cell_type": "code",
   "execution_count": 22,
   "metadata": {},
   "outputs": [
    {
     "name": "stdout",
     "output_type": "stream",
     "text": [
      "Hello \n",
      "World\n",
      "\n"
     ]
    }
   ],
   "source": [
    "print(\"Hello \", \"World\", sep='\\n', end='\\n\\n')\n",
    "# what is the code of print ? \n",
    "# we do not need to know actual code behid print function\n",
    "# but it is necessory to know how to call print function"
   ]
  },
  {
   "cell_type": "markdown",
   "metadata": {},
   "source": [
    "`Encapsulation = Data Hiding + Abstraction`"
   ]
  },
  {
   "cell_type": "markdown",
   "metadata": {},
   "source": [
    "    Methods in General have 2 types \n",
    "    \n",
    "        1. getter methods -> to access attributes of a class or an object\n",
    "        2. setter methods -> to manipluate attributes of a class or an object "
   ]
  },
  {
   "cell_type": "code",
   "execution_count": 45,
   "metadata": {},
   "outputs": [],
   "source": [
    "class A:\n",
    "    public = 'I am a public variable'\n",
    "    __private = \"I am a private variable\"\n",
    "    \n",
    "    def get_public(self):\n",
    "        print(A.public)\n",
    "    def get_private(self):\n",
    "        \"\"\"Just to access private variable\"\"\"\n",
    "        print(A.__private)\n",
    "        \n",
    "    def set_public(self, var):\n",
    "        A.public = var \n",
    "    def set_private(self, var):\n",
    "        A.__private = var"
   ]
  },
  {
   "cell_type": "code",
   "execution_count": 46,
   "metadata": {},
   "outputs": [],
   "source": [
    "a = A() # constructor"
   ]
  },
  {
   "cell_type": "code",
   "execution_count": 47,
   "metadata": {},
   "outputs": [],
   "source": [
    "A.public = \"i just hacked public variable\" # object variable"
   ]
  },
  {
   "cell_type": "code",
   "execution_count": 48,
   "metadata": {},
   "outputs": [
    {
     "name": "stdout",
     "output_type": "stream",
     "text": [
      "i just hacked public variable\n"
     ]
    }
   ],
   "source": [
    "a.get_public()"
   ]
  },
  {
   "cell_type": "code",
   "execution_count": 49,
   "metadata": {},
   "outputs": [],
   "source": [
    "A.__private = \"can i hack private variable ?\""
   ]
  },
  {
   "cell_type": "code",
   "execution_count": 50,
   "metadata": {},
   "outputs": [
    {
     "name": "stdout",
     "output_type": "stream",
     "text": [
      "I am a private variable\n"
     ]
    }
   ],
   "source": [
    "a.get_private()"
   ]
  },
  {
   "cell_type": "code",
   "execution_count": 51,
   "metadata": {},
   "outputs": [
    {
     "name": "stdout",
     "output_type": "stream",
     "text": [
      "i just hacked public variable\n"
     ]
    }
   ],
   "source": [
    "print(A.public)"
   ]
  },
  {
   "cell_type": "code",
   "execution_count": 52,
   "metadata": {},
   "outputs": [
    {
     "name": "stdout",
     "output_type": "stream",
     "text": [
      "can i hack private variable ?\n"
     ]
    }
   ],
   "source": [
    "print(A.__private)"
   ]
  },
  {
   "cell_type": "code",
   "execution_count": 53,
   "metadata": {},
   "outputs": [
    {
     "name": "stdout",
     "output_type": "stream",
     "text": [
      "i just hacked public variable\n"
     ]
    }
   ],
   "source": [
    "a.get_public() # bounded methods"
   ]
  },
  {
   "cell_type": "code",
   "execution_count": 54,
   "metadata": {},
   "outputs": [
    {
     "name": "stdout",
     "output_type": "stream",
     "text": [
      "I am a private variable\n"
     ]
    }
   ],
   "source": [
    "a.get_private()"
   ]
  },
  {
   "cell_type": "code",
   "execution_count": 55,
   "metadata": {},
   "outputs": [
    {
     "name": "stdout",
     "output_type": "stream",
     "text": [
      "i just hacked public variable\n"
     ]
    }
   ],
   "source": [
    "print(a.public) # it is visible outside class scope \n",
    "# a is global refrence to A class's objecct"
   ]
  },
  {
   "cell_type": "code",
   "execution_count": 56,
   "metadata": {},
   "outputs": [
    {
     "name": "stdout",
     "output_type": "stream",
     "text": [
      "can i hack private variable ?\n"
     ]
    }
   ],
   "source": [
    "print(a.__private) # it is not visible outside class scope \n",
    "# Data Hiding"
   ]
  },
  {
   "cell_type": "code",
   "execution_count": 57,
   "metadata": {},
   "outputs": [],
   "source": [
    "a.set_public('ha ha public')\n",
    "a.set_private('can be changed using methods private variable')"
   ]
  },
  {
   "cell_type": "code",
   "execution_count": 58,
   "metadata": {},
   "outputs": [
    {
     "name": "stdout",
     "output_type": "stream",
     "text": [
      "can be changed using methods private variable\n"
     ]
    }
   ],
   "source": [
    "a.get_private()"
   ]
  },
  {
   "cell_type": "code",
   "execution_count": 59,
   "metadata": {},
   "outputs": [
    {
     "name": "stdout",
     "output_type": "stream",
     "text": [
      "ha ha public\n"
     ]
    }
   ],
   "source": [
    "a.get_public()"
   ]
  },
  {
   "cell_type": "markdown",
   "metadata": {},
   "source": [
    "    public variables  -> can be accessed or changed directly from outside the class scope \n",
    "\n",
    "    private variables   -> can not be accessed or changed directly from outside the class scope \n"
   ]
  },
  {
   "cell_type": "code",
   "execution_count": 60,
   "metadata": {},
   "outputs": [
    {
     "name": "stdout",
     "output_type": "stream",
     "text": [
      "['_A__private', '__class__', '__delattr__', '__dict__', '__dir__', '__doc__', '__eq__', '__format__', '__ge__', '__getattribute__', '__gt__', '__hash__', '__init__', '__init_subclass__', '__le__', '__lt__', '__module__', '__ne__', '__new__', '__private', '__reduce__', '__reduce_ex__', '__repr__', '__setattr__', '__sizeof__', '__str__', '__subclasshook__', '__weakref__', 'get_private', 'get_public', 'public', 'set_private', 'set_public']\n"
     ]
    }
   ],
   "source": [
    "print(dir(A))"
   ]
  },
  {
   "cell_type": "code",
   "execution_count": 61,
   "metadata": {},
   "outputs": [
    {
     "name": "stdout",
     "output_type": "stream",
     "text": [
      "Help on function get_private in module __main__:\n",
      "\n",
      "get_private(self)\n",
      "    Just to access private variable\n",
      "\n"
     ]
    }
   ],
   "source": [
    "help(A.get_private)"
   ]
  },
  {
   "cell_type": "code",
   "execution_count": null,
   "metadata": {},
   "outputs": [],
   "source": []
  }
 ],
 "metadata": {
  "kernelspec": {
   "display_name": "Python 3",
   "language": "python",
   "name": "python3"
  },
  "language_info": {
   "codemirror_mode": {
    "name": "ipython",
    "version": 3
   },
   "file_extension": ".py",
   "mimetype": "text/x-python",
   "name": "python",
   "nbconvert_exporter": "python",
   "pygments_lexer": "ipython3",
   "version": "3.8.3"
  }
 },
 "nbformat": 4,
 "nbformat_minor": 4
}
