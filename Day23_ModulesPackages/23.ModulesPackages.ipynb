{
 "cells": [
  {
   "cell_type": "markdown",
   "metadata": {},
   "source": [
    "# Modules & Packages"
   ]
  },
  {
   "cell_type": "markdown",
   "metadata": {},
   "source": [
    "[modules](https://docs.python.org/3/tutorial/modules.html)"
   ]
  },
  {
   "cell_type": "code",
   "execution_count": 1,
   "metadata": {},
   "outputs": [],
   "source": [
    "def hello():\n",
    "    print(\"Hello World!\")"
   ]
  },
  {
   "cell_type": "code",
   "execution_count": 2,
   "metadata": {},
   "outputs": [
    {
     "name": "stdout",
     "output_type": "stream",
     "text": [
      "Hello World!\n"
     ]
    }
   ],
   "source": [
    "hello()"
   ]
  },
  {
   "cell_type": "markdown",
   "metadata": {},
   "source": [
    "#### Module\n",
    "\n",
    "     A Python File which contains usefull functions and classes that can be reused again and again in various program \n",
    "     \n",
    "     Collection of Function and Classes in a python file is consider module\n",
    "     \n",
    "     \n",
    "     Every Python files is a script as well as a module itself"
   ]
  },
  {
   "cell_type": "markdown",
   "metadata": {},
   "source": [
    "### Package\n",
    "\n",
    "    Collection of Modules and sub-packages is known as Package\n",
    "    \n",
    "    Packages are commonly known as softwares also "
   ]
  },
  {
   "cell_type": "markdown",
   "metadata": {},
   "source": [
    "#### Script\n",
    "\n",
    "    Whenever we execute a Python File it Becomes a Script\n",
    "    \n",
    "    Script is program that's you are going to execute to perform some specific task on your system \n",
    "    \n",
    "**If we execute a Python Script than it get's a namespace (Scope) with name `__main__`**\n",
    "\n",
    "A script always gets exectue in main space or `__name__` value will be always `__main__` if you execute a program"
   ]
  },
  {
   "cell_type": "markdown",
   "metadata": {},
   "source": [
    "#### Module\n",
    "\n",
    "    if we import a python file into some other python file, than that file will known as module\n",
    "    \n",
    "    modules should only contain functions definations and class definations "
   ]
  },
  {
   "cell_type": "code",
   "execution_count": 4,
   "metadata": {},
   "outputs": [],
   "source": [
    "import pandas as pd # a third party module it needs to be installed (download)"
   ]
  },
  {
   "cell_type": "code",
   "execution_count": 5,
   "metadata": {},
   "outputs": [],
   "source": [
    "import random \n",
    "\n",
    "# random is a standard python modules\n",
    "\n",
    "# random is a python file called random.py\n",
    "# it includes all the methods (functions) and classes we have in random module"
   ]
  },
  {
   "cell_type": "code",
   "execution_count": 10,
   "metadata": {},
   "outputs": [
    {
     "data": {
      "text/plain": [
       "31"
      ]
     },
     "execution_count": 10,
     "metadata": {},
     "output_type": "execute_result"
    }
   ],
   "source": [
    "random.randint(4, 50)"
   ]
  },
  {
   "cell_type": "markdown",
   "metadata": {},
   "source": [
    "## PYTHON PATH\n",
    "\n",
    "    Environment Variable which includes locations to default python modules which you can import in any python file "
   ]
  },
  {
   "cell_type": "code",
   "execution_count": 19,
   "metadata": {},
   "outputs": [
    {
     "ename": "ModuleNotFoundError",
     "evalue": "No module named 'prime'",
     "output_type": "error",
     "traceback": [
      "\u001b[1;31m---------------------------------------------------------------------------\u001b[0m",
      "\u001b[1;31mModuleNotFoundError\u001b[0m                       Traceback (most recent call last)",
      "\u001b[1;32m<ipython-input-19-e22690970a94>\u001b[0m in \u001b[0;36m<module>\u001b[1;34m\u001b[0m\n\u001b[1;32m----> 1\u001b[1;33m \u001b[1;32mimport\u001b[0m \u001b[0mprime\u001b[0m\u001b[1;33m\u001b[0m\u001b[1;33m\u001b[0m\u001b[0m\n\u001b[0m\u001b[0;32m      2\u001b[0m \u001b[1;33m\u001b[0m\u001b[0m\n\u001b[0;32m      3\u001b[0m \u001b[1;31m# i did not find any prime.py file in any of the directories listed in `PYTHONPATH` variable\u001b[0m\u001b[1;33m\u001b[0m\u001b[1;33m\u001b[0m\u001b[1;33m\u001b[0m\u001b[0m\n",
      "\u001b[1;31mModuleNotFoundError\u001b[0m: No module named 'prime'"
     ]
    }
   ],
   "source": [
    "import prime\n",
    "\n",
    "# i did not find any prime.py file in any of the directories listed in `PYTHONPATH` variable"
   ]
  },
  {
   "cell_type": "markdown",
   "metadata": {},
   "source": [
    "###### Default Module Path is already set whenver you install python\n",
    "\n",
    "\n",
    "    if you want that your module should be available across all python files in your system than you need to put your\n",
    "    module file either in default locations of module path or add your custom module directory in PYTHONPATH environment variable"
   ]
  },
  {
   "cell_type": "markdown",
   "metadata": {},
   "source": [
    "`PYTHONPATH` is environment variable which contains location (directory path) to all python modules "
   ]
  },
  {
   "cell_type": "code",
   "execution_count": 20,
   "metadata": {},
   "outputs": [
    {
     "ename": "ModuleNotFoundError",
     "evalue": "No module named 'hi'",
     "output_type": "error",
     "traceback": [
      "\u001b[1;31m---------------------------------------------------------------------------\u001b[0m",
      "\u001b[1;31mModuleNotFoundError\u001b[0m                       Traceback (most recent call last)",
      "\u001b[1;32m<ipython-input-20-746bfab23d87>\u001b[0m in \u001b[0;36m<module>\u001b[1;34m\u001b[0m\n\u001b[1;32m----> 1\u001b[1;33m \u001b[1;32mimport\u001b[0m \u001b[0mhi\u001b[0m\u001b[1;33m\u001b[0m\u001b[1;33m\u001b[0m\u001b[0m\n\u001b[0m",
      "\u001b[1;31mModuleNotFoundError\u001b[0m: No module named 'hi'"
     ]
    }
   ],
   "source": [
    "import hi"
   ]
  },
  {
   "cell_type": "markdown",
   "metadata": {},
   "source": [
    "**you can check your PYTHONPATH using this command**"
   ]
  },
  {
   "cell_type": "code",
   "execution_count": 21,
   "metadata": {},
   "outputs": [
    {
     "name": "stdout",
     "output_type": "stream",
     "text": [
      "['C:\\\\Users\\\\sachin\\\\Grras Solution Pvt. Ltd\\\\DSA101_11june_3pm - Live Class '\n",
      " '📺\\\\Notebooks\\\\Day23_ModulesPackages',\n",
      " 'C:\\\\ProgramData\\\\Anaconda3\\\\python38.zip',\n",
      " 'C:\\\\ProgramData\\\\Anaconda3\\\\DLLs',\n",
      " 'C:\\\\ProgramData\\\\Anaconda3\\\\lib',\n",
      " 'C:\\\\ProgramData\\\\Anaconda3',\n",
      " '',\n",
      " 'C:\\\\ProgramData\\\\Anaconda3\\\\lib\\\\site-packages',\n",
      " 'C:\\\\ProgramData\\\\Anaconda3\\\\lib\\\\site-packages\\\\win32',\n",
      " 'C:\\\\ProgramData\\\\Anaconda3\\\\lib\\\\site-packages\\\\win32\\\\lib',\n",
      " 'C:\\\\ProgramData\\\\Anaconda3\\\\lib\\\\site-packages\\\\Pythonwin',\n",
      " 'C:\\\\ProgramData\\\\Anaconda3\\\\lib\\\\site-packages\\\\IPython\\\\extensions',\n",
      " 'C:\\\\Users\\\\sachin\\\\.ipython']\n"
     ]
    }
   ],
   "source": [
    "import sys\n",
    "from pprint import pprint\n",
    "\n",
    "pprint(sys.path) # Python Module Path from where we will import modules "
   ]
  },
  {
   "cell_type": "markdown",
   "metadata": {},
   "source": [
    "`First of python will look into current directory for module than after it will search in directories listed in sys.path`"
   ]
  },
  {
   "cell_type": "code",
   "execution_count": 29,
   "metadata": {},
   "outputs": [
    {
     "data": {
      "text/plain": [
       "'C:\\\\Users\\\\sachin\\\\Grras Solution Pvt. Ltd\\\\DSA101_11june_3pm - Live Class 📺\\\\Notebooks\\\\Day23_ModulesPackages'"
      ]
     },
     "execution_count": 29,
     "metadata": {},
     "output_type": "execute_result"
    }
   ],
   "source": [
    "pwd"
   ]
  },
  {
   "cell_type": "code",
   "execution_count": 27,
   "metadata": {},
   "outputs": [
    {
     "name": "stdout",
     "output_type": "stream",
     "text": [
      "__main__\n"
     ]
    }
   ],
   "source": [
    "print(__name__)"
   ]
  },
  {
   "cell_type": "code",
   "execution_count": 22,
   "metadata": {},
   "outputs": [],
   "source": [
    "import jadu"
   ]
  },
  {
   "cell_type": "code",
   "execution_count": 23,
   "metadata": {},
   "outputs": [
    {
     "name": "stdout",
     "output_type": "stream",
     "text": [
      "jadu\n"
     ]
    }
   ],
   "source": [
    "print(jadu.__name__)"
   ]
  },
  {
   "cell_type": "code",
   "execution_count": 28,
   "metadata": {},
   "outputs": [
    {
     "name": "stdout",
     "output_type": "stream",
     "text": [
      "I am a module\n",
      "ha ha ha ha\n"
     ]
    }
   ],
   "source": [
    "jadu.hello()"
   ]
  },
  {
   "cell_type": "code",
   "execution_count": 24,
   "metadata": {},
   "outputs": [
    {
     "name": "stdout",
     "output_type": "stream",
     "text": [
      "C:\\ProgramData\\Anaconda3\\jadu.py\n"
     ]
    }
   ],
   "source": [
    "print(jadu.__file__)"
   ]
  },
  {
   "cell_type": "code",
   "execution_count": 26,
   "metadata": {},
   "outputs": [
    {
     "name": "stdout",
     "output_type": "stream",
     "text": [
      "C:\\ProgramData\\Anaconda3\\lib\\random.py\n"
     ]
    }
   ],
   "source": [
    "print(random.__file__)"
   ]
  },
  {
   "cell_type": "code",
   "execution_count": 30,
   "metadata": {},
   "outputs": [
    {
     "ename": "ModuleNotFoundError",
     "evalue": "No module named 'hi'",
     "output_type": "error",
     "traceback": [
      "\u001b[1;31m---------------------------------------------------------------------------\u001b[0m",
      "\u001b[1;31mModuleNotFoundError\u001b[0m                       Traceback (most recent call last)",
      "\u001b[1;32m<ipython-input-30-746bfab23d87>\u001b[0m in \u001b[0;36m<module>\u001b[1;34m\u001b[0m\n\u001b[1;32m----> 1\u001b[1;33m \u001b[1;32mimport\u001b[0m \u001b[0mhi\u001b[0m\u001b[1;33m\u001b[0m\u001b[1;33m\u001b[0m\u001b[0m\n\u001b[0m",
      "\u001b[1;31mModuleNotFoundError\u001b[0m: No module named 'hi'"
     ]
    }
   ],
   "source": [
    "import hi"
   ]
  },
  {
   "cell_type": "markdown",
   "metadata": {},
   "source": [
    "________\n",
    "_______\n",
    "____"
   ]
  },
  {
   "cell_type": "code",
   "execution_count": 1,
   "metadata": {},
   "outputs": [],
   "source": [
    "import jadu"
   ]
  },
  {
   "cell_type": "code",
   "execution_count": 2,
   "metadata": {},
   "outputs": [
    {
     "name": "stdout",
     "output_type": "stream",
     "text": [
      "I am a module\n",
      "ha ha ha ha\n"
     ]
    }
   ],
   "source": [
    "jadu.hello()"
   ]
  },
  {
   "cell_type": "code",
   "execution_count": 5,
   "metadata": {},
   "outputs": [],
   "source": [
    "import sys\n",
    "from pprint import pprint "
   ]
  },
  {
   "cell_type": "markdown",
   "metadata": {},
   "source": [
    "PYTHONPATH <- Desktop"
   ]
  },
  {
   "cell_type": "code",
   "execution_count": 7,
   "metadata": {},
   "outputs": [
    {
     "name": "stdout",
     "output_type": "stream",
     "text": [
      "['C:\\\\Users\\\\sachin\\\\Grras Solution Pvt. Ltd\\\\DSA101_11june_3pm - Live Class '\n",
      " '📺\\\\Notebooks\\\\Day23_ModulesPackages',\n",
      " 'C:\\\\Users\\\\sachin\\\\Desktop',\n",
      " 'C:\\\\Users\\\\sachin\\\\Grras Solution Pvt. Ltd\\\\DSA101_11june_3pm - Live Class '\n",
      " '📺\\\\Notebooks\\\\Day23_ModulesPackages',\n",
      " 'C:\\\\ProgramData\\\\Anaconda3\\\\python38.zip',\n",
      " 'C:\\\\ProgramData\\\\Anaconda3\\\\DLLs',\n",
      " 'C:\\\\ProgramData\\\\Anaconda3\\\\lib',\n",
      " 'C:\\\\ProgramData\\\\Anaconda3',\n",
      " '',\n",
      " 'C:\\\\ProgramData\\\\Anaconda3\\\\lib\\\\site-packages',\n",
      " 'C:\\\\ProgramData\\\\Anaconda3\\\\lib\\\\site-packages\\\\win32',\n",
      " 'C:\\\\ProgramData\\\\Anaconda3\\\\lib\\\\site-packages\\\\win32\\\\lib',\n",
      " 'C:\\\\ProgramData\\\\Anaconda3\\\\lib\\\\site-packages\\\\Pythonwin',\n",
      " 'C:\\\\ProgramData\\\\Anaconda3\\\\lib\\\\site-packages\\\\IPython\\\\extensions',\n",
      " 'C:\\\\Users\\\\sachin\\\\.ipython']\n"
     ]
    }
   ],
   "source": [
    "pprint(sys.path)"
   ]
  },
  {
   "cell_type": "code",
   "execution_count": 12,
   "metadata": {},
   "outputs": [],
   "source": [
    "import hi"
   ]
  },
  {
   "cell_type": "code",
   "execution_count": 13,
   "metadata": {},
   "outputs": [
    {
     "name": "stdout",
     "output_type": "stream",
     "text": [
      "Hello! I am a Python Module\n",
      "My location is Desktop\n"
     ]
    }
   ],
   "source": [
    "hi.hello()"
   ]
  },
  {
   "cell_type": "code",
   "execution_count": 17,
   "metadata": {},
   "outputs": [],
   "source": [
    "sys.path.insert(0, \"C:\\\\Python-Projects\\\\Python_Quiz\")"
   ]
  },
  {
   "cell_type": "code",
   "execution_count": 18,
   "metadata": {},
   "outputs": [
    {
     "name": "stdout",
     "output_type": "stream",
     "text": [
      "['C:\\\\Python-Projects\\\\Python_Quiz',\n",
      " 'C:\\\\Users\\\\sachin\\\\Grras Solution Pvt. Ltd\\\\DSA101_11june_3pm - Live Class '\n",
      " '📺\\\\Notebooks\\\\Day23_ModulesPackages',\n",
      " 'C:\\\\Users\\\\sachin\\\\Desktop',\n",
      " 'C:\\\\Users\\\\sachin\\\\Grras Solution Pvt. Ltd\\\\DSA101_11june_3pm - Live Class '\n",
      " '📺\\\\Notebooks\\\\Day23_ModulesPackages',\n",
      " 'C:\\\\ProgramData\\\\Anaconda3\\\\python38.zip',\n",
      " 'C:\\\\ProgramData\\\\Anaconda3\\\\DLLs',\n",
      " 'C:\\\\ProgramData\\\\Anaconda3\\\\lib',\n",
      " 'C:\\\\ProgramData\\\\Anaconda3',\n",
      " '',\n",
      " 'C:\\\\ProgramData\\\\Anaconda3\\\\lib\\\\site-packages',\n",
      " 'C:\\\\ProgramData\\\\Anaconda3\\\\lib\\\\site-packages\\\\win32',\n",
      " 'C:\\\\ProgramData\\\\Anaconda3\\\\lib\\\\site-packages\\\\win32\\\\lib',\n",
      " 'C:\\\\ProgramData\\\\Anaconda3\\\\lib\\\\site-packages\\\\Pythonwin',\n",
      " 'C:\\\\ProgramData\\\\Anaconda3\\\\lib\\\\site-packages\\\\IPython\\\\extensions',\n",
      " 'C:\\\\Users\\\\sachin\\\\.ipython']\n"
     ]
    }
   ],
   "source": [
    "pprint(sys.path)"
   ]
  },
  {
   "cell_type": "code",
   "execution_count": 21,
   "metadata": {},
   "outputs": [],
   "source": [
    "import Python_Quiz_v2_0"
   ]
  },
  {
   "cell_type": "raw",
   "metadata": {},
   "source": [
    "if __name__ == '__main__':\n",
    "    \n",
    "    Write code here which you want to run\n",
    "    whenver you execute your script"
   ]
  },
  {
   "cell_type": "code",
   "execution_count": 22,
   "metadata": {},
   "outputs": [
    {
     "name": "stdout",
     "output_type": "stream",
     "text": [
      "Help on module Python_Quiz_v2_0:\n",
      "\n",
      "NAME\n",
      "    Python_Quiz_v2_0 - A Python Quiz Program\n",
      "\n",
      "CLASSES\n",
      "    builtins.object\n",
      "        Quiz\n",
      "    \n",
      "    class Quiz(builtins.object)\n",
      "     |  Quiz(name)\n",
      "     |  \n",
      "     |  Welcome to Python Quiz. Here you can test how much you know about python.\n",
      "     |  \n",
      "     |  Methods defined here:\n",
      "     |  \n",
      "     |  __init__(self, name)\n",
      "     |      Initialize self.  See help(type(self)) for accurate signature.\n",
      "     |  \n",
      "     |  ask_Question(self)\n",
      "     |      ask_Question(self,question) --> function to ask question and take response\n",
      "     |  \n",
      "     |  clr_scr(self)\n",
      "     |      clr_scr(self) --> function to clear screen output and print some blank lines on the top.\n",
      "     |  \n",
      "     |  question_Answers(self)\n",
      "     |      question_Answers(self) --> It will print each question, it's options and the correct answers in case you want to discover all the answers.\n",
      "     |  \n",
      "     |  quiz(self)\n",
      "     |      quiz(self) --> function to conduct quiz\n",
      "     |  \n",
      "     |  show_Result(self)\n",
      "     |  \n",
      "     |  shuffle_Ques(self)\n",
      "     |      shuffle_Ques(self) --> Function to load questions in question set and shuffling all the questions for better quiz formation\n",
      "     |  \n",
      "     |  ----------------------------------------------------------------------\n",
      "     |  Data descriptors defined here:\n",
      "     |  \n",
      "     |  __dict__\n",
      "     |      dictionary for instance variables (if defined)\n",
      "     |  \n",
      "     |  __weakref__\n",
      "     |      list of weak references to the object (if defined)\n",
      "     |  \n",
      "     |  ----------------------------------------------------------------------\n",
      "     |  Data and other attributes defined here:\n",
      "     |  \n",
      "     |  question_bank = {}\n",
      "\n",
      "FUNCTIONS\n",
      "    choice()\n",
      "    \n",
      "    load_Data(cls_name)\n",
      "        load_Data(cls_name) --> will take a class as an argument and will read a question data set file from current directory\n",
      "         named as question_bank.db which should be json file having questions, options and answeres in object from such as dictionary. \n",
      "        sample entry for question_bank.db --> \n",
      "        question_bank = {} #the data set of questions, options and answers as { 'ques1':( ['op1','op2','op3','op4'],'answer' ), 'ques2':(['op1','op2','op3','op4'],'answer' ), ... }\n",
      "\n",
      "VERSION\n",
      "    2.0\n",
      "\n",
      "AUTHOR\n",
      "    Sachin Yadav\n",
      "\n",
      "FILE\n",
      "    c:\\python-projects\\python_quiz\\python_quiz_v2_0.py\n",
      "\n",
      "\n"
     ]
    }
   ],
   "source": [
    "help(Python_Quiz_v2_0)"
   ]
  },
  {
   "cell_type": "code",
   "execution_count": 23,
   "metadata": {},
   "outputs": [
    {
     "data": {
      "text/plain": [
       "<function Python_Quiz_v2_0.choice()>"
      ]
     },
     "execution_count": 23,
     "metadata": {},
     "output_type": "execute_result"
    }
   ],
   "source": [
    "Python_Quiz_v2_0.choice"
   ]
  },
  {
   "cell_type": "code",
   "execution_count": null,
   "metadata": {},
   "outputs": [],
   "source": []
  },
  {
   "cell_type": "markdown",
   "metadata": {},
   "source": [
    "`Never Ever Create a Python File Having same name as a module name`"
   ]
  },
  {
   "cell_type": "code",
   "execution_count": 25,
   "metadata": {},
   "outputs": [],
   "source": [
    "import random"
   ]
  },
  {
   "cell_type": "code",
   "execution_count": 26,
   "metadata": {},
   "outputs": [
    {
     "data": {
      "text/plain": [
       "'C:\\\\ProgramData\\\\Anaconda3\\\\lib\\\\random.py'"
      ]
     },
     "execution_count": 26,
     "metadata": {},
     "output_type": "execute_result"
    }
   ],
   "source": [
    "random.__file__"
   ]
  },
  {
   "cell_type": "code",
   "execution_count": null,
   "metadata": {},
   "outputs": [],
   "source": [
    "random.py"
   ]
  },
  {
   "cell_type": "code",
   "execution_count": null,
   "metadata": {},
   "outputs": [],
   "source": [
    "import time"
   ]
  },
  {
   "cell_type": "code",
   "execution_count": null,
   "metadata": {},
   "outputs": [],
   "source": [
    "time.py # no"
   ]
  },
  {
   "cell_type": "markdown",
   "metadata": {},
   "source": [
    "#### Packages \n",
    "\n",
    "#### Third Party Package\n",
    "\n",
    "#### Module / Package / Test\n",
    "\n"
   ]
  },
  {
   "cell_type": "code",
   "execution_count": null,
   "metadata": {},
   "outputs": [],
   "source": []
  }
 ],
 "metadata": {
  "kernelspec": {
   "display_name": "Python 3",
   "language": "python",
   "name": "python3"
  },
  "language_info": {
   "codemirror_mode": {
    "name": "ipython",
    "version": 3
   },
   "file_extension": ".py",
   "mimetype": "text/x-python",
   "name": "python",
   "nbconvert_exporter": "python",
   "pygments_lexer": "ipython3",
   "version": "3.8.3"
  }
 },
 "nbformat": 4,
 "nbformat_minor": 4
}
