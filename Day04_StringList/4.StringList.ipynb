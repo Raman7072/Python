{
 "cells": [
  {
   "cell_type": "markdown",
   "metadata": {},
   "source": [
    "### Strings \n",
    "\n",
    "    sequential data type\n",
    "    ordered , indexing & slicing\n",
    "    immutable\n",
    "    \n"
   ]
  },
  {
   "cell_type": "markdown",
   "metadata": {},
   "source": [
    "    single Line String \n",
    "    \n",
    "                'hello world'    \"Hello World\"\n",
    "                \n",
    "     multi line String\n",
    "             \n",
    "                 \"\"\"triple quotes\n",
    "                     can be used to define\n",
    "                     multi line string\"\"\"\n",
    "    "
   ]
  },
  {
   "cell_type": "code",
   "execution_count": 3,
   "metadata": {},
   "outputs": [],
   "source": [
    "\n",
    "x = 10;\n",
    "y = 20;"
   ]
  },
  {
   "cell_type": "markdown",
   "metadata": {},
   "source": [
    "`each line of python is a statement`"
   ]
  },
  {
   "cell_type": "code",
   "execution_count": 4,
   "metadata": {},
   "outputs": [
    {
     "name": "stdout",
     "output_type": "stream",
     "text": [
      "Hello World!\n"
     ]
    }
   ],
   "source": [
    "s = \"Hello World!\"\n",
    "print(s)"
   ]
  },
  {
   "cell_type": "code",
   "execution_count": 5,
   "metadata": {},
   "outputs": [
    {
     "name": "stdout",
     "output_type": "stream",
     "text": [
      "Hello\n",
      "\t\tWorld!\n"
     ]
    }
   ],
   "source": [
    "s = \"Hello\\n\\t\\tWorld!\"\n",
    "print(s)"
   ]
  },
  {
   "cell_type": "code",
   "execution_count": 6,
   "metadata": {},
   "outputs": [],
   "source": [
    "s = \"\"\"\n",
    "Hello\n",
    "     World\n",
    "\"\"\""
   ]
  },
  {
   "cell_type": "code",
   "execution_count": 7,
   "metadata": {},
   "outputs": [
    {
     "name": "stdout",
     "output_type": "stream",
     "text": [
      "\n",
      "Hello\n",
      "     World\n",
      "\n"
     ]
    }
   ],
   "source": [
    "print(s)"
   ]
  },
  {
   "cell_type": "code",
   "execution_count": 14,
   "metadata": {},
   "outputs": [],
   "source": [
    "s = \"\"\"\n",
    "<html>\n",
    "<body>\n",
    "    <h1 style='color:red'>Hello World!</h1>\n",
    "    <p>This is <b>MultiLine String</b>\n",
    "</body>\n",
    "</html>\n",
    "\"\"\""
   ]
  },
  {
   "cell_type": "code",
   "execution_count": 15,
   "metadata": {},
   "outputs": [
    {
     "name": "stdout",
     "output_type": "stream",
     "text": [
      "\n",
      "<html>\n",
      "<body>\n",
      "    <h1 style='color:red'>Hello World!</h1>\n",
      "    <p>This is <b>MultiLine String</b>\n",
      "</body>\n",
      "</html>\n",
      "\n"
     ]
    }
   ],
   "source": [
    "print(s)"
   ]
  },
  {
   "cell_type": "code",
   "execution_count": 16,
   "metadata": {},
   "outputs": [],
   "source": [
    "from IPython.display import HTML"
   ]
  },
  {
   "cell_type": "code",
   "execution_count": 17,
   "metadata": {},
   "outputs": [
    {
     "data": {
      "text/html": [
       "\n",
       "<html>\n",
       "<body>\n",
       "    <h1 style='color:red'>Hello World!</h1>\n",
       "    <p>This is <b>MultiLine String</b>\n",
       "</body>\n",
       "</html>\n"
      ],
      "text/plain": [
       "<IPython.core.display.HTML object>"
      ]
     },
     "execution_count": 17,
     "metadata": {},
     "output_type": "execute_result"
    }
   ],
   "source": [
    "HTML(s)"
   ]
  },
  {
   "cell_type": "code",
   "execution_count": 20,
   "metadata": {},
   "outputs": [],
   "source": [
    "def methods(dtype):\n",
    "    print(*[ function for function in dir(dtype) if function[0].islower() ])"
   ]
  },
  {
   "cell_type": "code",
   "execution_count": 21,
   "metadata": {},
   "outputs": [
    {
     "name": "stdout",
     "output_type": "stream",
     "text": [
      "capitalize casefold center count encode endswith expandtabs find format format_map index isalnum isalpha isascii isdecimal isdigit isidentifier islower isnumeric isprintable isspace istitle isupper join ljust lower lstrip maketrans partition replace rfind rindex rjust rpartition rsplit rstrip split splitlines startswith strip swapcase title translate upper zfill\n"
     ]
    }
   ],
   "source": [
    "methods(str)"
   ]
  },
  {
   "cell_type": "markdown",
   "metadata": {},
   "source": [
    "### Justification Methods\n",
    "\n",
    "    str.center(width, fillchar=' ') -\n",
    "    \n",
    "    str.ljust(width, fillchar=' ')\n",
    "    \n",
    "    str.rjust(width, fillchar=' ')\n",
    "    \n",
    "    str.zfill(width) "
   ]
  },
  {
   "cell_type": "code",
   "execution_count": 22,
   "metadata": {},
   "outputs": [],
   "source": [
    "s = \"SACHIN\"\n",
    "s1 = s.ljust(20)\n",
    "s2 = s.center(20)\n",
    "s3 = s.rjust(20)\n",
    "s4 = s.zfill(20)"
   ]
  },
  {
   "cell_type": "code",
   "execution_count": 23,
   "metadata": {},
   "outputs": [
    {
     "name": "stdout",
     "output_type": "stream",
     "text": [
      "'SACHIN'\n",
      "'SACHIN              '\n",
      "'       SACHIN       '\n",
      "'              SACHIN'\n",
      "'00000000000000SACHIN'\n"
     ]
    }
   ],
   "source": [
    "print(repr(s))\n",
    "print(repr(s1))\n",
    "print(repr(s2))\n",
    "print(repr(s3))\n",
    "print(repr(s4))"
   ]
  },
  {
   "cell_type": "code",
   "execution_count": 25,
   "metadata": {},
   "outputs": [],
   "source": [
    "s = \"Hello World!\""
   ]
  },
  {
   "cell_type": "code",
   "execution_count": 26,
   "metadata": {},
   "outputs": [
    {
     "name": "stdout",
     "output_type": "stream",
     "text": [
      "_________Hello World!_________\n"
     ]
    }
   ],
   "source": [
    "s1 = s.center(30, '_')\n",
    "print(s1)"
   ]
  },
  {
   "cell_type": "markdown",
   "metadata": {},
   "source": [
    "## String Formatting\n",
    "\n",
    "    replacing content in string "
   ]
  },
  {
   "cell_type": "code",
   "execution_count": 31,
   "metadata": {},
   "outputs": [
    {
     "name": "stdout",
     "output_type": "stream",
     "text": [
      "hello world! how are you ?\n",
      "next line\n"
     ]
    }
   ],
   "source": [
    "print(\"hello\", 'world!', \"how\", 'are', 'you', '?')\n",
    "# \"hello world! how are you\\n\"\n",
    "print('next line')"
   ]
  },
  {
   "cell_type": "code",
   "execution_count": 29,
   "metadata": {},
   "outputs": [
    {
     "name": "stdout",
     "output_type": "stream",
     "text": [
      "Help on built-in function print in module builtins:\n",
      "\n",
      "print(...)\n",
      "    print(value, ..., sep=' ', end='\\n', file=sys.stdout, flush=False)\n",
      "    \n",
      "    Prints the values to a stream, or to sys.stdout by default.\n",
      "    Optional keyword arguments:\n",
      "    file:  a file-like object (stream); defaults to the current sys.stdout.\n",
      "    sep:   string inserted between values, default a space.\n",
      "    end:   string appended after the last value, default a newline.\n",
      "    flush: whether to forcibly flush the stream.\n",
      "\n"
     ]
    }
   ],
   "source": [
    "help(print)"
   ]
  },
  {
   "cell_type": "code",
   "execution_count": 32,
   "metadata": {},
   "outputs": [
    {
     "name": "stdout",
     "output_type": "stream",
     "text": [
      "hello_world!_how_are_you_?\n",
      "next line\n"
     ]
    }
   ],
   "source": [
    "print(\"hello\", 'world!', \"how\", 'are', 'you', '?', sep='_')\n",
    "# \"hello_world!_how_are_you\\n\"\n",
    "print('next line')"
   ]
  },
  {
   "cell_type": "code",
   "execution_count": 33,
   "metadata": {},
   "outputs": [
    {
     "name": "stdout",
     "output_type": "stream",
     "text": [
      "hello\n",
      "world!\n",
      "how\n",
      "are\n",
      "you\n",
      "?\n",
      "next line\n"
     ]
    }
   ],
   "source": [
    "print(\"hello\", 'world!', \"how\", 'are', 'you', '?', sep='\\n')\n",
    "# \"hello\\nworld!\\nhow\\nare\\nyou\\n\"\n",
    "print('next line')"
   ]
  },
  {
   "cell_type": "code",
   "execution_count": 34,
   "metadata": {},
   "outputs": [
    {
     "name": "stdout",
     "output_type": "stream",
     "text": [
      "Hello World\n"
     ]
    }
   ],
   "source": [
    "print('Hello', end=' ') \n",
    "print(\"World\")# \"Hello World\\n\""
   ]
  },
  {
   "cell_type": "code",
   "execution_count": null,
   "metadata": {},
   "outputs": [],
   "source": []
  },
  {
   "cell_type": "code",
   "execution_count": 36,
   "metadata": {},
   "outputs": [
    {
     "name": "stdout",
     "output_type": "stream",
     "text": [
      "a: 50\n",
      "b: 30\n",
      "a = 50\n",
      "b = 30\n",
      "50 + 30 = 80\n"
     ]
    }
   ],
   "source": [
    "a = int(input(\"a: \"))\n",
    "b = int(input(\"b: \"))\n",
    "r = a + b\n",
    "\n",
    "print(\"a =\", a)\n",
    "print(\"b =\", b)\n",
    "print(a, \"+\",  b, \"=\", r)"
   ]
  },
  {
   "cell_type": "markdown",
   "metadata": {},
   "source": [
    "#### Old Fashion % identifier \n",
    "\n",
    "\n",
    "            %d int\n",
    "            \n",
    "            %f float\n",
    "            \n",
    "            %s string"
   ]
  },
  {
   "cell_type": "code",
   "execution_count": 38,
   "metadata": {},
   "outputs": [],
   "source": [
    "s = \"\"\"\n",
    "a = %d\n",
    "b = %d\n",
    "%d + %d = %d\n",
    "\"\"\""
   ]
  },
  {
   "cell_type": "code",
   "execution_count": 39,
   "metadata": {},
   "outputs": [
    {
     "name": "stdout",
     "output_type": "stream",
     "text": [
      "\n",
      "a = %d\n",
      "\n",
      "b = %d\n",
      "\n",
      "%d + %d = %d\n",
      "\n"
     ]
    }
   ],
   "source": [
    "print(s)"
   ]
  },
  {
   "cell_type": "markdown",
   "metadata": {},
   "source": [
    "### Formatting "
   ]
  },
  {
   "cell_type": "code",
   "execution_count": 42,
   "metadata": {},
   "outputs": [
    {
     "name": "stdout",
     "output_type": "stream",
     "text": [
      "a : 10\n",
      "b : 20\n",
      "\n",
      "a = 10\n",
      "b = 20\n",
      "10 + 20 = 30\n",
      "\n"
     ]
    }
   ],
   "source": [
    "s = \"\"\"\n",
    "a = %d\n",
    "b = %d\n",
    "%d + %d = %d\n",
    "\"\"\"\n",
    "\n",
    "a = int(input(\"a : \"))\n",
    "b = int(input(\"b : \"))\n",
    "r = a + b\n",
    "print(s%(a, b, a, b, r))"
   ]
  },
  {
   "cell_type": "markdown",
   "metadata": {},
   "source": [
    "#### Format Method "
   ]
  },
  {
   "cell_type": "code",
   "execution_count": 43,
   "metadata": {},
   "outputs": [],
   "source": [
    "s = \"\"\"\n",
    "a = {}\n",
    "b = {}\n",
    "\n",
    "{} + {} = {}\n",
    "\"\"\""
   ]
  },
  {
   "cell_type": "code",
   "execution_count": 44,
   "metadata": {},
   "outputs": [
    {
     "name": "stdout",
     "output_type": "stream",
     "text": [
      "\n",
      "a = 10\n",
      "b = 20\n",
      "\n",
      "10 + 20 = 30\n",
      "\n"
     ]
    }
   ],
   "source": [
    "print(s.format(a, b, a, b, r))"
   ]
  },
  {
   "cell_type": "code",
   "execution_count": 45,
   "metadata": {},
   "outputs": [],
   "source": [
    "s = \"\"\"\n",
    "a = {0}\n",
    "b = {1}\n",
    "\n",
    "{0} + {1} = {2}\n",
    "\"\"\""
   ]
  },
  {
   "cell_type": "code",
   "execution_count": 46,
   "metadata": {},
   "outputs": [
    {
     "name": "stdout",
     "output_type": "stream",
     "text": [
      "\n",
      "a = 10\n",
      "b = 20\n",
      "\n",
      "10 + 20 = 30\n",
      "\n"
     ]
    }
   ],
   "source": [
    "print(s.format(a, b, r))\n",
    "#              0, 1, 2"
   ]
  },
  {
   "cell_type": "code",
   "execution_count": 48,
   "metadata": {},
   "outputs": [],
   "source": [
    "s = \"\"\"\n",
    "a = {x}\n",
    "b = {y}\n",
    "\n",
    "{x} + {y} = {z}\n",
    "\"\"\""
   ]
  },
  {
   "cell_type": "code",
   "execution_count": 52,
   "metadata": {},
   "outputs": [
    {
     "name": "stdout",
     "output_type": "stream",
     "text": [
      "\n",
      "a = 10\n",
      "b = 20\n",
      "\n",
      "10 + 20 = 30\n",
      "\n"
     ]
    }
   ],
   "source": [
    "print(s.format( z=r, x=a, y=b,))"
   ]
  },
  {
   "cell_type": "code",
   "execution_count": 54,
   "metadata": {},
   "outputs": [],
   "source": [
    " s = \"\"\"\n",
    " Hello World! My name is {name}.\n",
    " I want to learn Python to make projects\n",
    " \"\"\""
   ]
  },
  {
   "cell_type": "code",
   "execution_count": 55,
   "metadata": {},
   "outputs": [
    {
     "name": "stdout",
     "output_type": "stream",
     "text": [
      "\n",
      "Hello World! My name is {name}.\n",
      "I want to learn Python to make projects\n",
      "\n"
     ]
    }
   ],
   "source": [
    "print(s)"
   ]
  },
  {
   "cell_type": "code",
   "execution_count": 56,
   "metadata": {},
   "outputs": [
    {
     "name": "stdout",
     "output_type": "stream",
     "text": [
      "\n",
      "Hello World! My name is Sachin Yadav.\n",
      "I want to learn Python to make projects\n",
      "\n"
     ]
    }
   ],
   "source": [
    "print(s.format(name='Sachin Yadav'))"
   ]
  },
  {
   "cell_type": "code",
   "execution_count": 57,
   "metadata": {},
   "outputs": [],
   "source": [
    "s = \"{name}\""
   ]
  },
  {
   "cell_type": "code",
   "execution_count": 58,
   "metadata": {},
   "outputs": [
    {
     "name": "stdout",
     "output_type": "stream",
     "text": [
      "Sachin Yadav\n"
     ]
    }
   ],
   "source": [
    "print(s.format(name='Sachin Yadav'))"
   ]
  },
  {
   "cell_type": "code",
   "execution_count": 60,
   "metadata": {},
   "outputs": [],
   "source": [
    "s = \"{name}\".format(name='Sachin Yadav')"
   ]
  },
  {
   "cell_type": "code",
   "execution_count": 61,
   "metadata": {},
   "outputs": [
    {
     "name": "stdout",
     "output_type": "stream",
     "text": [
      "'Sachin Yadav'\n"
     ]
    }
   ],
   "source": [
    "print(repr(s))"
   ]
  },
  {
   "cell_type": "code",
   "execution_count": 64,
   "metadata": {},
   "outputs": [
    {
     "name": "stdout",
     "output_type": "stream",
     "text": [
      "'Sachin Yadav        '\n"
     ]
    }
   ],
   "source": [
    "s = \"{name:20}\".format(name='Sachin Yadav')\n",
    "print(repr(s)) # left justify"
   ]
  },
  {
   "cell_type": "code",
   "execution_count": 65,
   "metadata": {},
   "outputs": [
    {
     "name": "stdout",
     "output_type": "stream",
     "text": [
      "'Sachin Yadav        '\n"
     ]
    }
   ],
   "source": [
    "s = \"{name:<20}\".format(name='Sachin Yadav')\n",
    "print(repr(s)) # left justfiy"
   ]
  },
  {
   "cell_type": "code",
   "execution_count": 66,
   "metadata": {},
   "outputs": [
    {
     "name": "stdout",
     "output_type": "stream",
     "text": [
      "'        Sachin Yadav'\n"
     ]
    }
   ],
   "source": [
    "s = \"{name:>20}\".format(name='Sachin Yadav')\n",
    "print(repr(s)) # right justfiy"
   ]
  },
  {
   "cell_type": "code",
   "execution_count": 67,
   "metadata": {},
   "outputs": [
    {
     "name": "stdout",
     "output_type": "stream",
     "text": [
      "'    Sachin Yadav    '\n"
     ]
    }
   ],
   "source": [
    "s = \"{name:^20}\".format(name='Sachin Yadav')\n",
    "print(repr(s)) # center justfiy"
   ]
  },
  {
   "cell_type": "code",
   "execution_count": 68,
   "metadata": {},
   "outputs": [],
   "source": [
    "a = 22\n",
    "b = 7\n",
    "r = a / b"
   ]
  },
  {
   "cell_type": "code",
   "execution_count": 73,
   "metadata": {},
   "outputs": [],
   "source": [
    "s = \"{a} / {b} = {r:.2f}\".format(a=a, b=b, r=r)"
   ]
  },
  {
   "cell_type": "code",
   "execution_count": 74,
   "metadata": {},
   "outputs": [
    {
     "name": "stdout",
     "output_type": "stream",
     "text": [
      "22 / 7 = 3.14\n"
     ]
    }
   ],
   "source": [
    "print(s)"
   ]
  },
  {
   "cell_type": "code",
   "execution_count": 75,
   "metadata": {},
   "outputs": [],
   "source": [
    "x = 15"
   ]
  },
  {
   "cell_type": "code",
   "execution_count": 83,
   "metadata": {},
   "outputs": [],
   "source": [
    "s = \"\"\"\n",
    "Decimal Value = {x}\n",
    "\n",
    "Float  Value =  {x:.2f}\n",
    "\n",
    "Binary Value  = {x:b}\n",
    "\n",
    "Hexadecimal  =  {x:x}\n",
    "\n",
    "Octal  Value = {x:o}\n",
    "\n",
    "\"\"\""
   ]
  },
  {
   "cell_type": "code",
   "execution_count": 84,
   "metadata": {},
   "outputs": [
    {
     "name": "stdout",
     "output_type": "stream",
     "text": [
      "\n",
      "Decimal Value = 15\n",
      "\n",
      "Float  Value =  15.00\n",
      "\n",
      "Binary Value  = 1111\n",
      "\n",
      "Hexadecimal  =  f\n",
      "\n",
      "Octal  Value = 17\n",
      "\n",
      "\n"
     ]
    }
   ],
   "source": [
    "print(s.format(x=x))"
   ]
  },
  {
   "cell_type": "code",
   "execution_count": 90,
   "metadata": {},
   "outputs": [
    {
     "name": "stdout",
     "output_type": "stream",
     "text": [
      "918237218738232718937291738928766876575\n"
     ]
    }
   ],
   "source": [
    "x = 918237218738232718937291738928766876575\n",
    "print(x)"
   ]
  },
  {
   "cell_type": "code",
   "execution_count": 89,
   "metadata": {},
   "outputs": [
    {
     "name": "stdout",
     "output_type": "stream",
     "text": [
      "9.18e+38\n"
     ]
    }
   ],
   "source": [
    "print(\"{:.2e}\".format(x))"
   ]
  },
  {
   "cell_type": "code",
   "execution_count": 91,
   "metadata": {},
   "outputs": [
    {
     "data": {
      "text/plain": [
       "28"
      ]
     },
     "execution_count": 91,
     "metadata": {},
     "output_type": "execute_result"
    }
   ],
   "source": [
    "int.__sizeof__(5)"
   ]
  },
  {
   "cell_type": "code",
   "execution_count": 95,
   "metadata": {},
   "outputs": [
    {
     "data": {
      "text/plain": [
       "32"
      ]
     },
     "execution_count": 95,
     "metadata": {},
     "output_type": "execute_result"
    }
   ],
   "source": [
    "int.__sizeof__(9999999999999999)"
   ]
  },
  {
   "cell_type": "code",
   "execution_count": 96,
   "metadata": {},
   "outputs": [
    {
     "data": {
      "text/plain": [
       "60"
      ]
     },
     "execution_count": 96,
     "metadata": {},
     "output_type": "execute_result"
    }
   ],
   "source": [
    "int.__sizeof__(9999999999999999999999999999999999999999999999999999999999999999999999999999)"
   ]
  },
  {
   "cell_type": "code",
   "execution_count": null,
   "metadata": {},
   "outputs": [],
   "source": []
  }
 ],
 "metadata": {
  "kernelspec": {
   "display_name": "Python 3",
   "language": "python",
   "name": "python3"
  },
  "language_info": {
   "codemirror_mode": {
    "name": "ipython",
    "version": 3
   },
   "file_extension": ".py",
   "mimetype": "text/x-python",
   "name": "python",
   "nbconvert_exporter": "python",
   "pygments_lexer": "ipython3",
   "version": "3.8.3"
  }
 },
 "nbformat": 4,
 "nbformat_minor": 4
}
