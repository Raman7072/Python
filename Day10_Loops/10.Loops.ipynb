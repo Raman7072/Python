{
 "cells": [
  {
   "cell_type": "markdown",
   "metadata": {},
   "source": [
    "#### For Loop\n",
    "\n",
    "    To iterate compound Data Types / Iterables "
   ]
  },
  {
   "cell_type": "markdown",
   "metadata": {},
   "source": [
    "### String \n",
    "\n",
    "    "
   ]
  },
  {
   "cell_type": "code",
   "execution_count": 1,
   "metadata": {},
   "outputs": [],
   "source": [
    "s = \"Hello World!\"\n",
    "#    012345......(n-1) where n is total no of characters\n",
    "# 0-11"
   ]
  },
  {
   "cell_type": "code",
   "execution_count": 3,
   "metadata": {},
   "outputs": [
    {
     "name": "stdout",
     "output_type": "stream",
     "text": [
      "12\n"
     ]
    }
   ],
   "source": [
    "nchars = len(s)\n",
    "print(nchars)"
   ]
  },
  {
   "cell_type": "markdown",
   "metadata": {},
   "source": [
    "### Iteratioin / Traversing\n",
    "\n",
    "    accessing each and every element from a sequence / iterable "
   ]
  },
  {
   "cell_type": "code",
   "execution_count": 4,
   "metadata": {},
   "outputs": [
    {
     "name": "stdout",
     "output_type": "stream",
     "text": [
      "H\n",
      "e\n",
      "l\n",
      "l\n",
      "o\n",
      " \n",
      "W\n",
      "o\n",
      "r\n",
      "l\n",
      "d\n",
      "!\n",
      "This is traversing of a string\n"
     ]
    }
   ],
   "source": [
    "s = \"Hello World!\"\n",
    "i = 0 # 0 to 11\n",
    "while i < len(s):\n",
    "    print(s[i])\n",
    "    i += 1\n",
    "else:\n",
    "    print(\"This is traversing of a string\")"
   ]
  },
  {
   "cell_type": "markdown",
   "metadata": {},
   "source": [
    "# `for` Loop\n",
    "\n",
    "syntax\n",
    "\n",
    "    for item in iterable:\n",
    "        body\n",
    "        of\n",
    "        loop"
   ]
  },
  {
   "cell_type": "code",
   "execution_count": 5,
   "metadata": {},
   "outputs": [
    {
     "name": "stdout",
     "output_type": "stream",
     "text": [
      "H\n",
      "e\n",
      "l\n",
      "l\n",
      "o\n",
      " \n",
      "W\n",
      "o\n",
      "r\n",
      "l\n",
      "d\n",
      "!\n",
      "Same Code with For\n"
     ]
    }
   ],
   "source": [
    "s = \"Hello World!\"\n",
    "for char in s:\n",
    "    print(char)\n",
    "else:\n",
    "    print(\"Same Code with For\")"
   ]
  },
  {
   "cell_type": "code",
   "execution_count": 6,
   "metadata": {},
   "outputs": [],
   "source": [
    "names = [ 'sachin', 'rajat', 'nidhi', 'kushal', 'simran', 'tanvi',\n",
    "        'yamini', 'rashmi', 'vijay', 'sam']"
   ]
  },
  {
   "cell_type": "code",
   "execution_count": 7,
   "metadata": {},
   "outputs": [
    {
     "name": "stdout",
     "output_type": "stream",
     "text": [
      "10\n"
     ]
    }
   ],
   "source": [
    "print(len(names))"
   ]
  },
  {
   "cell_type": "code",
   "execution_count": 9,
   "metadata": {},
   "outputs": [
    {
     "name": "stdout",
     "output_type": "stream",
     "text": [
      "SACHIN\n",
      "RAJAT\n",
      "NIDHI\n",
      "KUSHAL\n",
      "SIMRAN\n",
      "TANVI\n",
      "YAMINI\n",
      "RASHMI\n",
      "VIJAY\n",
      "SAM\n",
      "List Traversed\n"
     ]
    }
   ],
   "source": [
    "i = 0\n",
    "while i < len(names):\n",
    "    print(names[i].upper())\n",
    "    i += 1\n",
    "else:\n",
    "    print(\"List Traversed\")"
   ]
  },
  {
   "cell_type": "code",
   "execution_count": 10,
   "metadata": {},
   "outputs": [
    {
     "name": "stdout",
     "output_type": "stream",
     "text": [
      "sachin\n",
      "rajat\n",
      "nidhi\n",
      "kushal\n",
      "simran\n",
      "tanvi\n",
      "yamini\n",
      "rashmi\n",
      "vijay\n",
      "sam\n",
      "Same with For\n"
     ]
    }
   ],
   "source": [
    "names = [ 'sachin', 'rajat', 'nidhi', 'kushal', 'simran', 'tanvi',\n",
    "        'yamini', 'rashmi', 'vijay', 'sam']\n",
    "for name in names:\n",
    "    print(name)\n",
    "else:\n",
    "    print(\"Same with For\")"
   ]
  },
  {
   "cell_type": "markdown",
   "metadata": {},
   "source": [
    "#### Tuple Unpacking"
   ]
  },
  {
   "cell_type": "code",
   "execution_count": 12,
   "metadata": {},
   "outputs": [],
   "source": [
    "seq = ( 'sachin', ('hindi', 'english'), 25 )"
   ]
  },
  {
   "cell_type": "code",
   "execution_count": 13,
   "metadata": {},
   "outputs": [
    {
     "name": "stdout",
     "output_type": "stream",
     "text": [
      "sachin\n",
      "hindi\n",
      "english\n",
      "25\n"
     ]
    }
   ],
   "source": [
    "name = seq[0]\n",
    "fl = seq[1][0]\n",
    "sl = seq[1][1]\n",
    "age = seq[2]\n",
    "print(name, fl, sl, age, sep='\\n')"
   ]
  },
  {
   "cell_type": "code",
   "execution_count": 14,
   "metadata": {},
   "outputs": [
    {
     "name": "stdout",
     "output_type": "stream",
     "text": [
      "sachin\n",
      "hindi\n",
      "english\n",
      "25\n"
     ]
    }
   ],
   "source": [
    "name, (fl, sl), age  = ( 'sachin', ('hindi', 'english'), 25 )\n",
    "print(name, fl, sl, age, sep='\\n')"
   ]
  },
  {
   "cell_type": "markdown",
   "metadata": {},
   "source": [
    "#### Tuple Unpacking using `*`\n",
    "\n",
    "    "
   ]
  },
  {
   "cell_type": "code",
   "execution_count": 19,
   "metadata": {},
   "outputs": [
    {
     "name": "stdout",
     "output_type": "stream",
     "text": [
      "Hello\n"
     ]
    }
   ],
   "source": [
    "print(\"Hello\")"
   ]
  },
  {
   "cell_type": "code",
   "execution_count": 21,
   "metadata": {},
   "outputs": [
    {
     "name": "stdout",
     "output_type": "stream",
     "text": [
      "H e l l o\n",
      "H e l l o\n"
     ]
    }
   ],
   "source": [
    "print(*\"Hello\")\n",
    "print(\"H\", \"e\", \"l\", \"l\", \"o\")"
   ]
  },
  {
   "cell_type": "code",
   "execution_count": 22,
   "metadata": {},
   "outputs": [
    {
     "name": "stdout",
     "output_type": "stream",
     "text": [
      "[1, 2, 3, 4]\n"
     ]
    }
   ],
   "source": [
    "print([1, 2, 3, 4])"
   ]
  },
  {
   "cell_type": "code",
   "execution_count": 24,
   "metadata": {},
   "outputs": [
    {
     "name": "stdout",
     "output_type": "stream",
     "text": [
      "1 2 3 4\n",
      "1 2 3 4\n"
     ]
    }
   ],
   "source": [
    "print(*[1, 2, 3, 4])\n",
    "print(1, 2, 3, 4)"
   ]
  },
  {
   "cell_type": "markdown",
   "metadata": {},
   "source": [
    "inner = [ 'name', 'runs', 'balls' ]"
   ]
  },
  {
   "cell_type": "code",
   "execution_count": 16,
   "metadata": {},
   "outputs": [],
   "source": [
    "data = [\n",
    "    ['rohit',   50, 20],\n",
    "    ['dhawan',  60, 40],\n",
    "    ['kohli',   40, 25],\n",
    "    ['shreysh', 50, 20]\n",
    "]"
   ]
  },
  {
   "cell_type": "code",
   "execution_count": 26,
   "metadata": {},
   "outputs": [
    {
     "name": "stdout",
     "output_type": "stream",
     "text": [
      "\n",
      "-------------------------------\n",
      "Name        : rohit\n",
      "Runs        : 50\n",
      "Balls       : 20\n",
      "Strike Rate : 250.00\n",
      "-------------------------------\n",
      "\n",
      "\n",
      "-------------------------------\n",
      "Name        : dhawan\n",
      "Runs        : 60\n",
      "Balls       : 40\n",
      "Strike Rate : 150.00\n",
      "-------------------------------\n",
      "\n",
      "\n",
      "-------------------------------\n",
      "Name        : kohli\n",
      "Runs        : 40\n",
      "Balls       : 25\n",
      "Strike Rate : 160.00\n",
      "-------------------------------\n",
      "\n",
      "\n",
      "-------------------------------\n",
      "Name        : shreysh\n",
      "Runs        : 50\n",
      "Balls       : 20\n",
      "Strike Rate : 250.00\n",
      "-------------------------------\n",
      "\n",
      "output please ?\n"
     ]
    }
   ],
   "source": [
    "s = \"\"\"\n",
    "-------------------------------\n",
    "Name        : {}\n",
    "Runs        : {}\n",
    "Balls       : {}\n",
    "Strike Rate : {:.2f}\n",
    "-------------------------------\n",
    "\"\"\"\n",
    "for item in data:\n",
    "    # item = ['rohit', 50, 20]\n",
    "    sr = (item[1] / item[2])*100\n",
    "    print(s.format(*item, sr))\n",
    "else:\n",
    "    print('output please ?')"
   ]
  },
  {
   "cell_type": "code",
   "execution_count": 17,
   "metadata": {},
   "outputs": [
    {
     "name": "stdout",
     "output_type": "stream",
     "text": [
      "['rohit', 50, 20]\n",
      "['dhawan', 60, 40]\n",
      "['kohli', 40, 25]\n",
      "['shreysh', 50, 20]\n",
      "output please ?\n"
     ]
    }
   ],
   "source": [
    "for item in data:\n",
    "    print(item)\n",
    "else:\n",
    "    print('output please ?')"
   ]
  },
  {
   "cell_type": "code",
   "execution_count": 28,
   "metadata": {},
   "outputs": [
    {
     "name": "stdout",
     "output_type": "stream",
     "text": [
      "rohit 50 20\n"
     ]
    }
   ],
   "source": [
    "name, runs, balls = ['rohit',   50, 20]\n",
    "print(name, runs, balls)\n"
   ]
  },
  {
   "cell_type": "code",
   "execution_count": 27,
   "metadata": {},
   "outputs": [],
   "source": [
    "data = [\n",
    "    ['rohit',   50, 20],\n",
    "    ['dhawan',  60, 40],\n",
    "    ['kohli',   40, 25],\n",
    "    ['shreysh', 50, 20]\n",
    "]"
   ]
  },
  {
   "cell_type": "code",
   "execution_count": 29,
   "metadata": {},
   "outputs": [
    {
     "name": "stdout",
     "output_type": "stream",
     "text": [
      "\n",
      "    -------------------------------\n",
      "    Name        : rohit\n",
      "    Runs        : 50\n",
      "    Balls       : 20\n",
      "    Strike Rate : 250.00\n",
      "    -------------------------------\n",
      "    \n",
      "\n",
      "    -------------------------------\n",
      "    Name        : dhawan\n",
      "    Runs        : 60\n",
      "    Balls       : 40\n",
      "    Strike Rate : 150.00\n",
      "    -------------------------------\n",
      "    \n",
      "\n",
      "    -------------------------------\n",
      "    Name        : kohli\n",
      "    Runs        : 40\n",
      "    Balls       : 25\n",
      "    Strike Rate : 160.00\n",
      "    -------------------------------\n",
      "    \n",
      "\n",
      "    -------------------------------\n",
      "    Name        : shreysh\n",
      "    Runs        : 50\n",
      "    Balls       : 20\n",
      "    Strike Rate : 250.00\n",
      "    -------------------------------\n",
      "    \n"
     ]
    }
   ],
   "source": [
    "for name, runs, balls in data:\n",
    "    s = f\"\"\"\n",
    "    -------------------------------\n",
    "    Name        : {name}\n",
    "    Runs        : {runs}\n",
    "    Balls       : {balls}\n",
    "    Strike Rate : {(runs/balls)*100:.2f}\n",
    "    -------------------------------\n",
    "    \"\"\"\n",
    "    print(s)"
   ]
  },
  {
   "cell_type": "code",
   "execution_count": 30,
   "metadata": {},
   "outputs": [],
   "source": [
    "l = ['sachin', 25, 'India']"
   ]
  },
  {
   "cell_type": "code",
   "execution_count": 34,
   "metadata": {},
   "outputs": [
    {
     "name": "stdout",
     "output_type": "stream",
     "text": [
      "['sachin', 25, 'India']\n"
     ]
    }
   ],
   "source": [
    "print(['sachin', 25, 'India'])"
   ]
  },
  {
   "cell_type": "code",
   "execution_count": 32,
   "metadata": {},
   "outputs": [
    {
     "name": "stdout",
     "output_type": "stream",
     "text": [
      "sachin 25 India\n"
     ]
    }
   ],
   "source": [
    "print(*['sachin', 25, 'India'])"
   ]
  },
  {
   "cell_type": "code",
   "execution_count": 35,
   "metadata": {},
   "outputs": [
    {
     "name": "stdout",
     "output_type": "stream",
     "text": [
      "sachin 25 India\n"
     ]
    }
   ],
   "source": [
    "print('sachin', 25, 'India')"
   ]
  },
  {
   "cell_type": "code",
   "execution_count": 36,
   "metadata": {},
   "outputs": [],
   "source": [
    "s = \"\"\"\n",
    "name    = {}\n",
    "age     = {}\n",
    "country = {}\n",
    "\"\"\""
   ]
  },
  {
   "cell_type": "code",
   "execution_count": 38,
   "metadata": {},
   "outputs": [
    {
     "name": "stdout",
     "output_type": "stream",
     "text": [
      "\n",
      "name    = sachin\n",
      "age     = 25\n",
      "country = India\n",
      "\n"
     ]
    }
   ],
   "source": [
    "# s1 = s.format('sachin', 25, 'India')\n",
    "s1 = s.format(*['sachin', 25, 'India'])\n",
    "print(s1) # ? "
   ]
  },
  {
   "cell_type": "code",
   "execution_count": 39,
   "metadata": {},
   "outputs": [],
   "source": [
    "data = [\n",
    "    ['apple', 5, 60000],\n",
    "    ['one plus', 10, 35000],\n",
    "]"
   ]
  },
  {
   "cell_type": "code",
   "execution_count": 40,
   "metadata": {},
   "outputs": [
    {
     "name": "stdout",
     "output_type": "stream",
     "text": [
      "apple - 5x60000=300000\n",
      "one plus - 10x35000=350000\n"
     ]
    }
   ],
   "source": [
    "for ph, q, p in data:\n",
    "    print(f\"{ph} - {q}x{p}={q*p}\")"
   ]
  },
  {
   "cell_type": "code",
   "execution_count": 41,
   "metadata": {},
   "outputs": [],
   "source": [
    "data = {\n",
    "    'name': 'Python',\n",
    "    'father': 'Guido Van Rossum',\n",
    "    'year': 1994,\n",
    "    'versions': ['1.X', '2.X', '3.X']\n",
    "}"
   ]
  },
  {
   "cell_type": "code",
   "execution_count": 42,
   "metadata": {},
   "outputs": [
    {
     "name": "stdout",
     "output_type": "stream",
     "text": [
      "name father year versions\n"
     ]
    }
   ],
   "source": [
    "print(*data)"
   ]
  },
  {
   "cell_type": "code",
   "execution_count": 43,
   "metadata": {},
   "outputs": [
    {
     "name": "stdout",
     "output_type": "stream",
     "text": [
      "name\n",
      "father\n",
      "year\n",
      "versions\n"
     ]
    }
   ],
   "source": [
    "for key in data:\n",
    "    print(key)"
   ]
  },
  {
   "cell_type": "code",
   "execution_count": 44,
   "metadata": {},
   "outputs": [
    {
     "name": "stdout",
     "output_type": "stream",
     "text": [
      "name = Python\n",
      "father = Guido Van Rossum\n",
      "year = 1994\n",
      "versions = ['1.X', '2.X', '3.X']\n"
     ]
    }
   ],
   "source": [
    "for key in data:\n",
    "    print(key, '=', data[key])"
   ]
  },
  {
   "cell_type": "code",
   "execution_count": 45,
   "metadata": {},
   "outputs": [
    {
     "name": "stdout",
     "output_type": "stream",
     "text": [
      "name\n",
      "father\n",
      "year\n",
      "versions\n"
     ]
    }
   ],
   "source": [
    "for key in data.keys():\n",
    "    print(key)"
   ]
  },
  {
   "cell_type": "code",
   "execution_count": 46,
   "metadata": {},
   "outputs": [
    {
     "name": "stdout",
     "output_type": "stream",
     "text": [
      "Python\n",
      "Guido Van Rossum\n",
      "1994\n",
      "['1.X', '2.X', '3.X']\n"
     ]
    }
   ],
   "source": [
    "for value in data.values():\n",
    "    print(value)"
   ]
  },
  {
   "cell_type": "code",
   "execution_count": 47,
   "metadata": {},
   "outputs": [
    {
     "name": "stdout",
     "output_type": "stream",
     "text": [
      "('name', 'Python')\n",
      "('father', 'Guido Van Rossum')\n",
      "('year', 1994)\n",
      "('versions', ['1.X', '2.X', '3.X'])\n"
     ]
    }
   ],
   "source": [
    "for item in data.items():\n",
    "    print(item)"
   ]
  },
  {
   "cell_type": "code",
   "execution_count": 48,
   "metadata": {},
   "outputs": [
    {
     "name": "stdout",
     "output_type": "stream",
     "text": [
      "                          name = Python\n",
      "                        father = Guido Van Rossum\n",
      "                          year = 1994\n",
      "                      versions = ['1.X', '2.X', '3.X']\n"
     ]
    }
   ],
   "source": [
    "for key, value in data.items():\n",
    "    print(f\"{key:>30} = {value}\")"
   ]
  },
  {
   "cell_type": "code",
   "execution_count": 52,
   "metadata": {},
   "outputs": [
    {
     "name": "stdout",
     "output_type": "stream",
     "text": [
      "1\n",
      "2\n",
      "3\n",
      "4\n"
     ]
    }
   ],
   "source": [
    "for item in {1, 2, 3, 1, 2, 3, 4}:\n",
    "    print(item)"
   ]
  },
  {
   "cell_type": "markdown",
   "metadata": {},
   "source": [
    "# linear search "
   ]
  },
  {
   "cell_type": "code",
   "execution_count": 54,
   "metadata": {},
   "outputs": [
    {
     "name": "stdout",
     "output_type": "stream",
     "text": [
      "['sachin', 'rajat', 'nidhi', 'kushal', 'simran', 'tanvi', 'yamini', 'rashmi', 'vijay', 'sam']\n"
     ]
    }
   ],
   "source": [
    "print(names)"
   ]
  },
  {
   "cell_type": "code",
   "execution_count": 55,
   "metadata": {},
   "outputs": [
    {
     "data": {
      "text/plain": [
       "True"
      ]
     },
     "execution_count": 55,
     "metadata": {},
     "output_type": "execute_result"
    }
   ],
   "source": [
    "'sachin' in names"
   ]
  },
  {
   "cell_type": "code",
   "execution_count": 56,
   "metadata": {},
   "outputs": [
    {
     "data": {
      "text/plain": [
       "False"
      ]
     },
     "execution_count": 56,
     "metadata": {},
     "output_type": "execute_result"
    }
   ],
   "source": [
    "'kushi' in names"
   ]
  },
  {
   "cell_type": "code",
   "execution_count": 59,
   "metadata": {},
   "outputs": [
    {
     "name": "stdout",
     "output_type": "stream",
     "text": [
      "What to search: sakshi\n",
      "sakshi not found\n"
     ]
    }
   ],
   "source": [
    "key = input(\"What to search: \")\n",
    "\n",
    "if key in names:\n",
    "    print(f\"{key} found at location {names.index(key)}\")\n",
    "else:\n",
    "    print(f\"{key} not found\")"
   ]
  },
  {
   "cell_type": "code",
   "execution_count": 78,
   "metadata": {},
   "outputs": [],
   "source": [
    "names = ['sachin', 'tanvi', 'rajat', 'nidhi', 'kushal', 'simran', 'tanvi', 'yamini', 'rashmi', 'vijay', 'tanvi',\n",
    "         'sam']"
   ]
  },
  {
   "cell_type": "code",
   "execution_count": 80,
   "metadata": {},
   "outputs": [
    {
     "name": "stdout",
     "output_type": "stream",
     "text": [
      "what to search: tanvi\n",
      "tanvi found at location 1\n"
     ]
    }
   ],
   "source": [
    "key = input(\"what to search: \").strip().lower()\n",
    "\n",
    "i = 0\n",
    "while i < len(names):\n",
    "    if names[i] == key:\n",
    "        print(f\"{key} found at location {i}\")\n",
    "        break\n",
    "    i += 1\n",
    "else:\n",
    "    print(f\"{key} not found\")"
   ]
  },
  {
   "cell_type": "code",
   "execution_count": 81,
   "metadata": {},
   "outputs": [
    {
     "name": "stdout",
     "output_type": "stream",
     "text": [
      "what to search: tanvi\n",
      "tanvi found at index 1\n"
     ]
    }
   ],
   "source": [
    "key = input(\"what to search: \").strip().lower()\n",
    "i = 0\n",
    "for name in names:\n",
    "    if name == key:\n",
    "        print(f\"{key} found at index {i}\")\n",
    "        break\n",
    "    i += 1\n",
    "else:\n",
    "    print(f\"{key} not found\")"
   ]
  },
  {
   "cell_type": "code",
   "execution_count": null,
   "metadata": {},
   "outputs": [],
   "source": []
  },
  {
   "cell_type": "code",
   "execution_count": 82,
   "metadata": {},
   "outputs": [
    {
     "name": "stdout",
     "output_type": "stream",
     "text": [
      "what to search: tanvi\n",
      "tanvi found at index 1\n",
      "tanvi found at index 6\n",
      "tanvi found at index 10\n"
     ]
    },
    {
     "data": {
      "text/plain": [
       "12"
      ]
     },
     "execution_count": 82,
     "metadata": {},
     "output_type": "execute_result"
    }
   ],
   "source": [
    "key = input(\"what to search: \").strip().lower()\n",
    "i = 0\n",
    "flag = False\n",
    "for name in names:\n",
    "    if name == key:\n",
    "        flag = True\n",
    "        print(f\"{key} found at index {i}\")\n",
    "    i += 1\n",
    "    \n",
    "if not flag:\n",
    "    print(f\"{key} not found\")\n",
    "i"
   ]
  },
  {
   "cell_type": "markdown",
   "metadata": {},
   "source": [
    "#### Special Iterable Objects"
   ]
  },
  {
   "cell_type": "markdown",
   "metadata": {},
   "source": [
    "    enumerate, zip, range\n",
    "    \n",
    "    these are generator functions sorted reversed"
   ]
  },
  {
   "cell_type": "code",
   "execution_count": 83,
   "metadata": {},
   "outputs": [],
   "source": [
    "obj = enumerate('sachin') # Lazy"
   ]
  },
  {
   "cell_type": "code",
   "execution_count": 84,
   "metadata": {},
   "outputs": [
    {
     "name": "stdout",
     "output_type": "stream",
     "text": [
      "<enumerate object at 0x000002B6E5202500>\n"
     ]
    }
   ],
   "source": [
    "print(obj)"
   ]
  },
  {
   "cell_type": "code",
   "execution_count": 85,
   "metadata": {},
   "outputs": [
    {
     "name": "stdout",
     "output_type": "stream",
     "text": [
      "(0, 's')\n"
     ]
    }
   ],
   "source": [
    "print(next(obj))"
   ]
  },
  {
   "cell_type": "code",
   "execution_count": 86,
   "metadata": {},
   "outputs": [
    {
     "name": "stdout",
     "output_type": "stream",
     "text": [
      "(1, 'a')\n"
     ]
    }
   ],
   "source": [
    "print(next(obj))"
   ]
  },
  {
   "cell_type": "code",
   "execution_count": 87,
   "metadata": {},
   "outputs": [
    {
     "name": "stdout",
     "output_type": "stream",
     "text": [
      "(2, 'c')\n",
      "(3, 'h')\n",
      "(4, 'i')\n",
      "(5, 'n')\n"
     ]
    },
    {
     "ename": "StopIteration",
     "evalue": "",
     "output_type": "error",
     "traceback": [
      "\u001b[1;31m---------------------------------------------------------------------------\u001b[0m",
      "\u001b[1;31mStopIteration\u001b[0m                             Traceback (most recent call last)",
      "\u001b[1;32m<ipython-input-87-2aa0019ba20c>\u001b[0m in \u001b[0;36m<module>\u001b[1;34m\u001b[0m\n\u001b[0;32m      1\u001b[0m \u001b[1;32mwhile\u001b[0m \u001b[1;32mTrue\u001b[0m\u001b[1;33m:\u001b[0m\u001b[1;33m\u001b[0m\u001b[1;33m\u001b[0m\u001b[0m\n\u001b[1;32m----> 2\u001b[1;33m     \u001b[0mprint\u001b[0m\u001b[1;33m(\u001b[0m\u001b[0mnext\u001b[0m\u001b[1;33m(\u001b[0m\u001b[0mobj\u001b[0m\u001b[1;33m)\u001b[0m\u001b[1;33m)\u001b[0m\u001b[1;33m\u001b[0m\u001b[1;33m\u001b[0m\u001b[0m\n\u001b[0m",
      "\u001b[1;31mStopIteration\u001b[0m: "
     ]
    }
   ],
   "source": [
    "while True:\n",
    "    print(next(obj))"
   ]
  },
  {
   "cell_type": "code",
   "execution_count": 88,
   "metadata": {},
   "outputs": [
    {
     "name": "stdout",
     "output_type": "stream",
     "text": [
      "<enumerate object at 0x000002B6E516FE40>\n"
     ]
    }
   ],
   "source": [
    "print(enumerate('sachin'))"
   ]
  },
  {
   "cell_type": "code",
   "execution_count": 89,
   "metadata": {},
   "outputs": [
    {
     "name": "stdout",
     "output_type": "stream",
     "text": [
      "(0, 's')\n",
      "(1, 'a')\n",
      "(2, 'c')\n",
      "(3, 'h')\n",
      "(4, 'i')\n",
      "(5, 'n')\n"
     ]
    }
   ],
   "source": [
    "print(*enumerate('sachin'), sep='\\n')"
   ]
  },
  {
   "cell_type": "code",
   "execution_count": 90,
   "metadata": {},
   "outputs": [
    {
     "name": "stdout",
     "output_type": "stream",
     "text": [
      " 0 -> h\n",
      " 1 -> e\n",
      " 2 -> l\n",
      " 3 -> l\n",
      " 4 -> o\n",
      " 5 ->  \n",
      " 6 -> W\n",
      " 7 -> o\n",
      " 8 -> r\n",
      " 9 -> l\n",
      "10 -> d\n",
      "11 -> !\n"
     ]
    }
   ],
   "source": [
    "s = \"hello World!\"\n",
    "for i, char in enumerate(s):\n",
    "    print(f\"{i:>2} -> {char}\")"
   ]
  },
  {
   "cell_type": "code",
   "execution_count": 91,
   "metadata": {},
   "outputs": [
    {
     "data": {
      "text/plain": [
       "['sachin',\n",
       " 'tanvi',\n",
       " 'rajat',\n",
       " 'nidhi',\n",
       " 'kushal',\n",
       " 'simran',\n",
       " 'tanvi',\n",
       " 'yamini',\n",
       " 'rashmi',\n",
       " 'vijay',\n",
       " 'tanvi',\n",
       " 'sam']"
      ]
     },
     "execution_count": 91,
     "metadata": {},
     "output_type": "execute_result"
    }
   ],
   "source": [
    "names"
   ]
  },
  {
   "cell_type": "code",
   "execution_count": 94,
   "metadata": {},
   "outputs": [
    {
     "name": "stdout",
     "output_type": "stream",
     "text": [
      " 1. SACHIN\n",
      " 2. TANVI\n",
      " 3. RAJAT\n",
      " 4. NIDHI\n",
      " 5. KUSHAL\n",
      " 6. SIMRAN\n",
      " 7. TANVI\n",
      " 8. YAMINI\n",
      " 9. RASHMI\n",
      "10. VIJAY\n",
      "11. TANVI\n",
      "12. SAM\n"
     ]
    }
   ],
   "source": [
    "for c, name in enumerate(names):\n",
    "    print(f\"{c+1:>2}. {name.upper()}\")"
   ]
  },
  {
   "cell_type": "markdown",
   "metadata": {},
   "source": [
    "## ZIP"
   ]
  },
  {
   "cell_type": "code",
   "execution_count": 95,
   "metadata": {},
   "outputs": [],
   "source": [
    "name = [ 'sachin', 'rajat', 'nidhi', 'simran']\n",
    "age  = [   25,       35,      30,       23   ]"
   ]
  },
  {
   "cell_type": "code",
   "execution_count": 100,
   "metadata": {},
   "outputs": [
    {
     "name": "stdout",
     "output_type": "stream",
     "text": [
      "('sachin', 25)\n",
      "('rajat', 35)\n",
      "('nidhi', 30)\n",
      "('simran', 23)\n"
     ]
    }
   ],
   "source": [
    "print(*zip(name, age), sep='\\n')"
   ]
  },
  {
   "cell_type": "code",
   "execution_count": 104,
   "metadata": {},
   "outputs": [
    {
     "name": "stdout",
     "output_type": "stream",
     "text": [
      "Name = sachin     |\t Age = 25\n",
      "Name = rajat      |\t Age = 35\n",
      "Name = nidhi      |\t Age = 30\n",
      "Name = simran     |\t Age = 23\n"
     ]
    }
   ],
   "source": [
    "for n, a in zip(name, age):\n",
    "    print(f\"Name = {n:<10} |\\t Age = {a}\")"
   ]
  },
  {
   "cell_type": "code",
   "execution_count": null,
   "metadata": {},
   "outputs": [],
   "source": []
  },
  {
   "cell_type": "code",
   "execution_count": 98,
   "metadata": {},
   "outputs": [
    {
     "name": "stdout",
     "output_type": "stream",
     "text": [
      "Name: sachin Age: 25\n",
      "------------------------------\n",
      "Name: rajat Age: 35\n",
      "------------------------------\n",
      "Name: nidhi Age: 30\n",
      "------------------------------\n",
      "Name: simran Age: 23\n",
      "------------------------------\n"
     ]
    }
   ],
   "source": [
    "i = 0\n",
    "while i < len(name):\n",
    "    print(f\"Name: {name[i]} Age: {age[i]}\")\n",
    "    print('-'*30)\n",
    "    i += 1"
   ]
  },
  {
   "cell_type": "code",
   "execution_count": 105,
   "metadata": {},
   "outputs": [],
   "source": [
    "s1 = [ 'one', 'two', 'three', 'four', 'five', 'six', 'seven', 'eight', 'nine', 'ten']\n",
    "s2 = [ 'ek',  'dou',  'teen', 'chaar', 'paanch', 'cha', 'saat', 'aath', ]\n",
    "s3 = [ 1, 2, 3, 4, 5, 6, 7, 8 ]"
   ]
  },
  {
   "cell_type": "code",
   "execution_count": 112,
   "metadata": {},
   "outputs": [
    {
     "name": "stdout",
     "output_type": "stream",
     "text": [
      "______________________________________________________________________\n",
      "|        one          |          ek          |          1          |\n",
      "______________________________________________________________________\n",
      "|        two          |         dou          |          2          |\n",
      "______________________________________________________________________\n",
      "|       three         |         teen         |          3          |\n",
      "______________________________________________________________________\n",
      "|        four         |        chaar         |          4          |\n",
      "______________________________________________________________________\n",
      "|        five         |        paanch        |          5          |\n",
      "______________________________________________________________________\n",
      "|        six          |         cha          |          6          |\n",
      "______________________________________________________________________\n",
      "|       seven         |         saat         |          7          |\n",
      "______________________________________________________________________\n",
      "|       eight         |         aath         |          8          |\n"
     ]
    }
   ],
   "source": [
    "#print(*zip(s1, s2, s3), sep='\\n')\n",
    "\n",
    "for en, hi, n in zip(s1, s2, s3):\n",
    "    print('_'*70)\n",
    "    print(f\"|{en:^20} | {hi:^20} | {n:^20}|\")"
   ]
  },
  {
   "cell_type": "markdown",
   "metadata": {},
   "source": [
    "# Range"
   ]
  },
  {
   "cell_type": "code",
   "execution_count": 113,
   "metadata": {},
   "outputs": [
    {
     "name": "stdout",
     "output_type": "stream",
     "text": [
      "range(0, 5)\n"
     ]
    }
   ],
   "source": [
    "print(range(5))"
   ]
  },
  {
   "cell_type": "code",
   "execution_count": 114,
   "metadata": {},
   "outputs": [
    {
     "name": "stdout",
     "output_type": "stream",
     "text": [
      "0 1 2 3 4\n"
     ]
    }
   ],
   "source": [
    "print(*range(5))"
   ]
  },
  {
   "cell_type": "code",
   "execution_count": 115,
   "metadata": {},
   "outputs": [
    {
     "name": "stdout",
     "output_type": "stream",
     "text": [
      "1 2 3 4 5 6 7 8 9 10\n"
     ]
    }
   ],
   "source": [
    "print(*range(1, 11))"
   ]
  },
  {
   "cell_type": "code",
   "execution_count": 116,
   "metadata": {},
   "outputs": [
    {
     "name": "stdout",
     "output_type": "stream",
     "text": [
      "0 -1 -2 -3 -4 -5 -6 -7 -8 -9\n"
     ]
    }
   ],
   "source": [
    "print(*range(0, -10, -1))"
   ]
  },
  {
   "cell_type": "code",
   "execution_count": 117,
   "metadata": {},
   "outputs": [
    {
     "name": "stdout",
     "output_type": "stream",
     "text": [
      "Enter a number: 5\n",
      "5\n",
      "10\n",
      "15\n",
      "20\n",
      "25\n",
      "30\n",
      "35\n",
      "40\n",
      "45\n",
      "50\n"
     ]
    }
   ],
   "source": [
    "num = int(input(\"Enter a number: \")) # 5\n",
    "print(*range(num, num*11, num), sep='\\n')"
   ]
  },
  {
   "cell_type": "code",
   "execution_count": 118,
   "metadata": {},
   "outputs": [
    {
     "name": "stdout",
     "output_type": "stream",
     "text": [
      "1\n",
      "2\n",
      "3\n",
      "4\n",
      "5\n",
      "6\n",
      "7\n",
      "8\n",
      "9\n",
      "10\n"
     ]
    }
   ],
   "source": [
    "for i in range(1, 11):\n",
    "    print(i)"
   ]
  },
  {
   "cell_type": "code",
   "execution_count": 119,
   "metadata": {},
   "outputs": [
    {
     "name": "stdout",
     "output_type": "stream",
     "text": [
      "10\n",
      "9\n",
      "8\n",
      "7\n",
      "6\n",
      "5\n",
      "4\n",
      "3\n",
      "2\n",
      "1\n"
     ]
    }
   ],
   "source": [
    "for j in range(10, 0, -1):\n",
    "    print(j)"
   ]
  },
  {
   "cell_type": "code",
   "execution_count": 121,
   "metadata": {},
   "outputs": [
    {
     "name": "stdout",
     "output_type": "stream",
     "text": [
      "*\n",
      "**\n",
      "***\n",
      "****\n",
      "*****\n",
      "******\n",
      "*******\n",
      "********\n",
      "*********\n",
      "**********\n"
     ]
    }
   ],
   "source": [
    "for i in range(1, 11):\n",
    "    print(\"*\"*i)"
   ]
  },
  {
   "cell_type": "markdown",
   "metadata": {},
   "source": [
    "##### questions based on loops\n",
    "\n",
    "##### pattern printing "
   ]
  },
  {
   "cell_type": "code",
   "execution_count": 128,
   "metadata": {},
   "outputs": [],
   "source": [
    "import random"
   ]
  },
  {
   "cell_type": "code",
   "execution_count": 131,
   "metadata": {},
   "outputs": [
    {
     "name": "stdout",
     "output_type": "stream",
     "text": [
      "[13, 17, 39, 1, 50, 45, 14, 22, 21, 15]\n"
     ]
    }
   ],
   "source": []
  },
  {
   "cell_type": "code",
   "execution_count": 134,
   "metadata": {},
   "outputs": [
    {
     "name": "stdout",
     "output_type": "stream",
     "text": [
      "[28, 43, 14, 14, 21, 41, 20, 39, 37, 35]\n",
      "14\n"
     ]
    }
   ],
   "source": [
    "minimum = 9999999999999\n",
    "\n",
    "lst = [ random.randint(1, 50) for var in range(10) ]\n",
    "print(lst)\n",
    "for value in lst:\n",
    "    if value < minimum:\n",
    "        minimum = value\n",
    "else:\n",
    "    print(minimum)\n"
   ]
  },
  {
   "cell_type": "code",
   "execution_count": 125,
   "metadata": {},
   "outputs": [
    {
     "name": "stdout",
     "output_type": "stream",
     "text": [
      "Key: ruby\n",
      "Found\n"
     ]
    }
   ],
   "source": [
    "lst = [ 'java', 'c', 'c++', 'ruby', 'perl', 'go']\n",
    "state = False\n",
    "key = input(\"Key: \")\n",
    "\n",
    "for item in lst:\n",
    "    if item == key:\n",
    "        state = True\n",
    "\n",
    "if state == True:\n",
    "    print(\"Found\")\n",
    "else:\n",
    "    print(\"Not Found\")"
   ]
  },
  {
   "cell_type": "code",
   "execution_count": null,
   "metadata": {},
   "outputs": [],
   "source": []
  }
 ],
 "metadata": {
  "kernelspec": {
   "display_name": "Python 3",
   "language": "python",
   "name": "python3"
  },
  "language_info": {
   "codemirror_mode": {
    "name": "ipython",
    "version": 3
   },
   "file_extension": ".py",
   "mimetype": "text/x-python",
   "name": "python",
   "nbconvert_exporter": "python",
   "pygments_lexer": "ipython3",
   "version": "3.8.3"
  }
 },
 "nbformat": 4,
 "nbformat_minor": 4
}
